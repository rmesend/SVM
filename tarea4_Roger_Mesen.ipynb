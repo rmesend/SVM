{
 "cells": [
  {
   "cell_type": "code",
   "execution_count": 1,
   "metadata": {},
   "outputs": [],
   "source": [
    "import pandas as pd\n",
    "import numpy  as np\n",
    "import matplotlib.pyplot as plt\n",
    "from predictPy import Analisis_Predictivo\n",
    "from sklearn.preprocessing import StandardScaler\n",
    "from sklearn.svm import SVC\n",
    "import warnings\n",
    "warnings.filterwarnings(\"ignore\")\n"
   ]
  },
  {
   "cell_type": "code",
   "execution_count": 53,
   "metadata": {},
   "outputs": [],
   "source": [
    "from sklearn.pipeline import make_pipeline\n",
    "from sklearn.model_selection import GridSearchCV\n",
    "from sklearn.model_selection import train_test_split\n",
    "#import standardScaler\n",
    "from sklearn.preprocessing import StandardScaler\n"
   ]
  },
  {
   "cell_type": "code",
   "execution_count": 3,
   "metadata": {},
   "outputs": [],
   "source": [
    "class cmatrixelements():\n",
    "    def __init__(self, m = None):\n",
    "        self.__m = m\n",
    "    @property\n",
    "    def m(self):\n",
    "        return self.__m\n",
    "    @m.setter\n",
    "    def m(self, m):\n",
    "        self.__m = m\n",
    "    def calculatem(self):\n",
    "        #get the dictionary m and extract the array elements \n",
    "        self.m = self.m['Matriz de Confusión']\n",
    "        #calculate global accuracy\n",
    "        print(self.m)\n",
    "        ga = (self.m[0][0] + self.m[1][1]) / (self.m[0][0] + self.m[1][1] + self.m[0][1] + self.m[1][0])\n",
    "        #calculate global error\n",
    "        ge = 1 - ga\n",
    "        #calculate positive precision and negative precision\n",
    "        #m[1][1] / (m[1][0] + m[1][1])\n",
    "        np = self.m[0][0] / (self.m[0][0] + self.m[0][1])\n",
    "        pp = self.m[1][1] / (self.m[1][1] + self.m[1][0])\n",
    "        #calculate proporcion of false positives and false negatives\n",
    "        fp = self.m[0][1] / (self.m[0][1] + self.m[0][0])\n",
    "        fn = self.m[1][0] / (self.m[1][0] + self.m[1][1])\n",
    "        #positivity assertivity and negative\n",
    "        pa = self.m[1][1] / (self.m[0][1] + self.m[1][1])\n",
    "        na = self.m[0][0] / (self.m[0][0] + self.m[1][0])\n",
    "        dic = {\"Global Accuracy\":ga, \"Global Error\":ge, \"Positive Precision\":pp, \"Negative Precision\":np, \"False Positives\":fp, \"False Negatives\":fn, \"Positive Assertivity\":pa, \"Negative Assertivity\":na}\n",
    "        #dicItems= dic.items()\n",
    "        #dicItems = list(dic.items())\n",
    "        #dic = pd.DataFrame(list(dic.items()))\n",
    "        #dic=dic.T\n",
    "        dic = pd.DataFrame(list(dic.items())).T\n",
    "        dic.columns = dic.iloc[0]\n",
    "        dic = dic.drop(dic.index[0])\n",
    "        print(dic)\n",
    "        return dic\n",
    "        #create a dictionary\n",
    "        #return {\"global accuracy\":ga, \"global error\":ge, \"positive precision\":pp, \"negative precision\":np, \"false positives\":fp, \"false negatives\":fn, \"positive assertivity\":pa, \"negative assertivity\":na}\n",
    "    def __str__(self):\n",
    "        return print(self.calculatem())"
   ]
  },
  {
   "cell_type": "markdown",
   "metadata": {},
   "source": [
    "### Ejercicio 1: [30 puntos] En este ejercicio vamos a usar la tabla de datos raisin.csv, que contiene es resultado de un sistema de visión artificial para distinguir entre dos variedades diferentes de pasas (Kecimen y Besni) cultivadas en Turquía. Estas imágenes se sometieron a varios pasos de preprocesamiento y se realizaron 7 operaciones de extracción de características morfológicas utilizando técnicas de procesamiento de imágenes."
   ]
  },
  {
   "cell_type": "markdown",
   "metadata": {},
   "source": [
    "1. Use Máquinas de Soporte Vectorial en Python para generar un modelo predictivo para la tabla raisin.csv usando el 80 % de los datos para la tabla aprendizaje y un 20 % para la tabla testing. Obtenga los índices de precisión e interprete los resultados."
   ]
  },
  {
   "cell_type": "code",
   "execution_count": 4,
   "metadata": {},
   "outputs": [
    {
     "data": {
      "text/html": [
       "<div>\n",
       "<style scoped>\n",
       "    .dataframe tbody tr th:only-of-type {\n",
       "        vertical-align: middle;\n",
       "    }\n",
       "\n",
       "    .dataframe tbody tr th {\n",
       "        vertical-align: top;\n",
       "    }\n",
       "\n",
       "    .dataframe thead th {\n",
       "        text-align: right;\n",
       "    }\n",
       "</style>\n",
       "<table border=\"1\" class=\"dataframe\">\n",
       "  <thead>\n",
       "    <tr style=\"text-align: right;\">\n",
       "      <th></th>\n",
       "      <th>Area</th>\n",
       "      <th>MajorAxisLength</th>\n",
       "      <th>MinorAxisLength</th>\n",
       "      <th>Eccentricity</th>\n",
       "      <th>ConvexArea</th>\n",
       "      <th>Extent</th>\n",
       "      <th>Perimeter</th>\n",
       "      <th>Class</th>\n",
       "    </tr>\n",
       "  </thead>\n",
       "  <tbody>\n",
       "    <tr>\n",
       "      <th>0</th>\n",
       "      <td>87524</td>\n",
       "      <td>442.246011</td>\n",
       "      <td>253.291155</td>\n",
       "      <td>0.819738</td>\n",
       "      <td>90546</td>\n",
       "      <td>0.758651</td>\n",
       "      <td>1184.040</td>\n",
       "      <td>Kecimen</td>\n",
       "    </tr>\n",
       "    <tr>\n",
       "      <th>1</th>\n",
       "      <td>75166</td>\n",
       "      <td>406.690687</td>\n",
       "      <td>243.032436</td>\n",
       "      <td>0.801805</td>\n",
       "      <td>78789</td>\n",
       "      <td>0.684130</td>\n",
       "      <td>1121.786</td>\n",
       "      <td>Kecimen</td>\n",
       "    </tr>\n",
       "    <tr>\n",
       "      <th>2</th>\n",
       "      <td>90856</td>\n",
       "      <td>442.267048</td>\n",
       "      <td>266.328318</td>\n",
       "      <td>0.798354</td>\n",
       "      <td>93717</td>\n",
       "      <td>0.637613</td>\n",
       "      <td>1208.575</td>\n",
       "      <td>Kecimen</td>\n",
       "    </tr>\n",
       "    <tr>\n",
       "      <th>3</th>\n",
       "      <td>45928</td>\n",
       "      <td>286.540559</td>\n",
       "      <td>208.760042</td>\n",
       "      <td>0.684989</td>\n",
       "      <td>47336</td>\n",
       "      <td>0.699599</td>\n",
       "      <td>844.162</td>\n",
       "      <td>Kecimen</td>\n",
       "    </tr>\n",
       "    <tr>\n",
       "      <th>4</th>\n",
       "      <td>79408</td>\n",
       "      <td>352.190770</td>\n",
       "      <td>290.827533</td>\n",
       "      <td>0.564011</td>\n",
       "      <td>81463</td>\n",
       "      <td>0.792772</td>\n",
       "      <td>1073.251</td>\n",
       "      <td>Kecimen</td>\n",
       "    </tr>\n",
       "  </tbody>\n",
       "</table>\n",
       "</div>"
      ],
      "text/plain": [
       "    Area  MajorAxisLength  MinorAxisLength  Eccentricity  ConvexArea  \\\n",
       "0  87524       442.246011       253.291155      0.819738       90546   \n",
       "1  75166       406.690687       243.032436      0.801805       78789   \n",
       "2  90856       442.267048       266.328318      0.798354       93717   \n",
       "3  45928       286.540559       208.760042      0.684989       47336   \n",
       "4  79408       352.190770       290.827533      0.564011       81463   \n",
       "\n",
       "     Extent  Perimeter    Class  \n",
       "0  0.758651   1184.040  Kecimen  \n",
       "1  0.684130   1121.786  Kecimen  \n",
       "2  0.637613   1208.575  Kecimen  \n",
       "3  0.699599    844.162  Kecimen  \n",
       "4  0.792772   1073.251  Kecimen  "
      ]
     },
     "execution_count": 4,
     "metadata": {},
     "output_type": "execute_result"
    }
   ],
   "source": [
    "df = pd.read_csv('raisin.csv')\n",
    "df.head()"
   ]
  },
  {
   "cell_type": "code",
   "execution_count": 5,
   "metadata": {},
   "outputs": [
    {
     "name": "stdout",
     "output_type": "stream",
     "text": [
      "<class 'pandas.core.frame.DataFrame'>\n",
      "RangeIndex: 900 entries, 0 to 899\n",
      "Data columns (total 8 columns):\n",
      " #   Column           Non-Null Count  Dtype  \n",
      "---  ------           --------------  -----  \n",
      " 0   Area             900 non-null    int64  \n",
      " 1   MajorAxisLength  900 non-null    float64\n",
      " 2   MinorAxisLength  900 non-null    float64\n",
      " 3   Eccentricity     900 non-null    float64\n",
      " 4   ConvexArea       900 non-null    int64  \n",
      " 5   Extent           900 non-null    float64\n",
      " 6   Perimeter        900 non-null    float64\n",
      " 7   Class            900 non-null    object \n",
      "dtypes: float64(5), int64(2), object(1)\n",
      "memory usage: 56.4+ KB\n"
     ]
    }
   ],
   "source": [
    "df.info()"
   ]
  },
  {
   "cell_type": "code",
   "execution_count": 6,
   "metadata": {},
   "outputs": [],
   "source": [
    "analisis_raisin = Analisis_Predictivo(df, predecir='Class')"
   ]
  },
  {
   "cell_type": "code",
   "execution_count": 7,
   "metadata": {},
   "outputs": [
    {
     "data": {
      "image/png": "[encoded data removed]",
      "image/svg+xml": "<?xml version=\"1.0\" encoding=\"utf-8\" standalone=\"no\"?>\r\n<!DOCTYPE svg PUBLIC \"-//W3C//DTD SVG 1.1//EN\"\r\n  \"http://www.w3.org/Graphics/SVG/1.1/DTD/svg11.dtd\">\r\n<svg height=\"372.35625pt\" version=\"1.1\" viewBox=\"0 0 797.6055 372.35625\" width=\"797.6055pt\" xmlns=\"http://www.w3.org/2000/svg\" xmlns:xlink=\"http://www.w3.org/1999/xlink\">\r\n <metadata>\r\n  <rdf:RDF xmlns:cc=\"http://creativecommons.org/ns#\" xmlns:dc=\"http://purl.org/dc/elements/1.1/\" xmlns:rdf=\"http://www.w3.org/1999/02/22-rdf-syntax-ns#\">\r\n   <cc:Work>\r\n    <dc:type rdf:resource=\"http://purl.org/dc/dcmitype/StillImage\"/>\r\n    <dc:date>2022-05-18T19:52:02.150903</dc:date>\r\n    <dc:format>image/svg+xml</dc:format>\r\n    <dc:creator>\r\n     <cc:Agent>\r\n      <dc:title>Matplotlib v3.4.3, https://matplotlib.org/</dc:title>\r\n     </cc:Agent>\r\n    </dc:creator>\r\n   </cc:Work>\r\n  </rdf:RDF>\r\n </metadata>\r\n <defs>\r\n  <style type=\"text/css\">*{stroke-linecap:butt;stroke-linejoin:round;}</style>\r\n </defs>\r\n <g id=\"figure_1\">\r\n  <g id=\"patch_1\">\r\n   <path d=\"M 0 372.35625 \r\nL 797.6055 372.35625 \r\nL 797.6055 0 \r\nL 0 0 \r\nz\r\n\" style=\"fill:none;\"/>\r\n  </g>\r\n  <g id=\"axes_1\">\r\n   <g id=\"patch_2\">\r\n    <path d=\"M 27.878125 348.478125 \r\nL 697.478125 348.478125 \r\nL 697.478125 22.318125 \r\nL 27.878125 22.318125 \r\nz\r\n\" style=\"fill:#ffffff;\"/>\r\n   </g>\r\n   <g id=\"patch_3\">\r\n    <path clip-path=\"url(#pcf2932b497)\" d=\"M 27.878125 333.65267 \r\nL 362.678125 333.65267 \r\nL 362.678125 37.14358 \r\nL 27.878125 37.14358 \r\nz\r\n\" style=\"fill:#a52a2a;\"/>\r\n   </g>\r\n   <g id=\"patch_4\">\r\n    <path clip-path=\"url(#pcf2932b497)\" d=\"M 362.678125 333.65267 \r\nL 697.478125 333.65267 \r\nL 697.478125 37.14358 \r\nL 362.678125 37.14358 \r\nz\r\n\" style=\"fill:#deb887;\"/>\r\n   </g>\r\n   <g id=\"matplotlib.axis_1\">\r\n    <g id=\"xtick_1\">\r\n     <g id=\"line2d_1\">\r\n      <defs>\r\n       <path d=\"M 0 0 \r\nL 0 3.5 \r\n\" id=\"m95bf7ebfbb\" style=\"stroke:#000000;stroke-width:0.8;\"/>\r\n      </defs>\r\n      <g>\r\n       <use style=\"stroke:#000000;stroke-width:0.8;\" x=\"27.878125\" xlink:href=\"#m95bf7ebfbb\" y=\"348.478125\"/>\r\n      </g>\r\n     </g>\r\n     <g id=\"text_1\">\r\n      <!-- 0% -->\r\n      <g transform=\"translate(19.946094 363.076563)scale(0.1 -0.1)\">\r\n       <defs>\r\n        <path d=\"M 2034 4250 \r\nQ 1547 4250 1301 3770 \r\nQ 1056 3291 1056 2328 \r\nQ 1056 1369 1301 889 \r\nQ 1547 409 2034 409 \r\nQ 2525 409 2770 889 \r\nQ 3016 1369 3016 2328 \r\nQ 3016 3291 2770 3770 \r\nQ 2525 4250 2034 4250 \r\nz\r\nM 2034 4750 \r\nQ 2819 4750 3233 4129 \r\nQ 3647 3509 3647 2328 \r\nQ 3647 1150 3233 529 \r\nQ 2819 -91 2034 -91 \r\nQ 1250 -91 836 529 \r\nQ 422 1150 422 2328 \r\nQ 422 3509 836 4129 \r\nQ 1250 4750 2034 4750 \r\nz\r\n\" id=\"DejaVuSans-30\" transform=\"scale(0.015625)\"/>\r\n        <path d=\"M 4653 2053 \r\nQ 4381 2053 4226 1822 \r\nQ 4072 1591 4072 1178 \r\nQ 4072 772 4226 539 \r\nQ 4381 306 4653 306 \r\nQ 4919 306 5073 539 \r\nQ 5228 772 5228 1178 \r\nQ 5228 1588 5073 1820 \r\nQ 4919 2053 4653 2053 \r\nz\r\nM 4653 2450 \r\nQ 5147 2450 5437 2106 \r\nQ 5728 1763 5728 1178 \r\nQ 5728 594 5436 251 \r\nQ 5144 -91 4653 -91 \r\nQ 4153 -91 3862 251 \r\nQ 3572 594 3572 1178 \r\nQ 3572 1766 3864 2108 \r\nQ 4156 2450 4653 2450 \r\nz\r\nM 1428 4353 \r\nQ 1159 4353 1004 4120 \r\nQ 850 3888 850 3481 \r\nQ 850 3069 1003 2837 \r\nQ 1156 2606 1428 2606 \r\nQ 1700 2606 1854 2837 \r\nQ 2009 3069 2009 3481 \r\nQ 2009 3884 1853 4118 \r\nQ 1697 4353 1428 4353 \r\nz\r\nM 4250 4750 \r\nL 4750 4750 \r\nL 1831 -91 \r\nL 1331 -91 \r\nL 4250 4750 \r\nz\r\nM 1428 4750 \r\nQ 1922 4750 2215 4408 \r\nQ 2509 4066 2509 3481 \r\nQ 2509 2891 2217 2550 \r\nQ 1925 2209 1428 2209 \r\nQ 931 2209 642 2551 \r\nQ 353 2894 353 3481 \r\nQ 353 4063 643 4406 \r\nQ 934 4750 1428 4750 \r\nz\r\n\" id=\"DejaVuSans-25\" transform=\"scale(0.015625)\"/>\r\n       </defs>\r\n       <use xlink:href=\"#DejaVuSans-30\"/>\r\n       <use x=\"63.623047\" xlink:href=\"#DejaVuSans-25\"/>\r\n      </g>\r\n     </g>\r\n    </g>\r\n    <g id=\"xtick_2\">\r\n     <g id=\"line2d_2\">\r\n      <g>\r\n       <use style=\"stroke:#000000;stroke-width:0.8;\" x=\"161.798125\" xlink:href=\"#m95bf7ebfbb\" y=\"348.478125\"/>\r\n      </g>\r\n     </g>\r\n     <g id=\"text_2\">\r\n      <!-- 20% -->\r\n      <g transform=\"translate(150.684844 363.076563)scale(0.1 -0.1)\">\r\n       <defs>\r\n        <path d=\"M 1228 531 \r\nL 3431 531 \r\nL 3431 0 \r\nL 469 0 \r\nL 469 531 \r\nQ 828 903 1448 1529 \r\nQ 2069 2156 2228 2338 \r\nQ 2531 2678 2651 2914 \r\nQ 2772 3150 2772 3378 \r\nQ 2772 3750 2511 3984 \r\nQ 2250 4219 1831 4219 \r\nQ 1534 4219 1204 4116 \r\nQ 875 4013 500 3803 \r\nL 500 4441 \r\nQ 881 4594 1212 4672 \r\nQ 1544 4750 1819 4750 \r\nQ 2544 4750 2975 4387 \r\nQ 3406 4025 3406 3419 \r\nQ 3406 3131 3298 2873 \r\nQ 3191 2616 2906 2266 \r\nQ 2828 2175 2409 1742 \r\nQ 1991 1309 1228 531 \r\nz\r\n\" id=\"DejaVuSans-32\" transform=\"scale(0.015625)\"/>\r\n       </defs>\r\n       <use xlink:href=\"#DejaVuSans-32\"/>\r\n       <use x=\"63.623047\" xlink:href=\"#DejaVuSans-30\"/>\r\n       <use x=\"127.246094\" xlink:href=\"#DejaVuSans-25\"/>\r\n      </g>\r\n     </g>\r\n    </g>\r\n    <g id=\"xtick_3\">\r\n     <g id=\"line2d_3\">\r\n      <g>\r\n       <use style=\"stroke:#000000;stroke-width:0.8;\" x=\"295.718125\" xlink:href=\"#m95bf7ebfbb\" y=\"348.478125\"/>\r\n      </g>\r\n     </g>\r\n     <g id=\"text_3\">\r\n      <!-- 40% -->\r\n      <g transform=\"translate(284.604844 363.076563)scale(0.1 -0.1)\">\r\n       <defs>\r\n        <path d=\"M 2419 4116 \r\nL 825 1625 \r\nL 2419 1625 \r\nL 2419 4116 \r\nz\r\nM 2253 4666 \r\nL 3047 4666 \r\nL 3047 1625 \r\nL 3713 1625 \r\nL 3713 1100 \r\nL 3047 1100 \r\nL 3047 0 \r\nL 2419 0 \r\nL 2419 1100 \r\nL 313 1100 \r\nL 313 1709 \r\nL 2253 4666 \r\nz\r\n\" id=\"DejaVuSans-34\" transform=\"scale(0.015625)\"/>\r\n       </defs>\r\n       <use xlink:href=\"#DejaVuSans-34\"/>\r\n       <use x=\"63.623047\" xlink:href=\"#DejaVuSans-30\"/>\r\n       <use x=\"127.246094\" xlink:href=\"#DejaVuSans-25\"/>\r\n      </g>\r\n     </g>\r\n    </g>\r\n    <g id=\"xtick_4\">\r\n     <g id=\"line2d_4\">\r\n      <g>\r\n       <use style=\"stroke:#000000;stroke-width:0.8;\" x=\"429.638125\" xlink:href=\"#m95bf7ebfbb\" y=\"348.478125\"/>\r\n      </g>\r\n     </g>\r\n     <g id=\"text_4\">\r\n      <!-- 60% -->\r\n      <g transform=\"translate(418.524844 363.076563)scale(0.1 -0.1)\">\r\n       <defs>\r\n        <path d=\"M 2113 2584 \r\nQ 1688 2584 1439 2293 \r\nQ 1191 2003 1191 1497 \r\nQ 1191 994 1439 701 \r\nQ 1688 409 2113 409 \r\nQ 2538 409 2786 701 \r\nQ 3034 994 3034 1497 \r\nQ 3034 2003 2786 2293 \r\nQ 2538 2584 2113 2584 \r\nz\r\nM 3366 4563 \r\nL 3366 3988 \r\nQ 3128 4100 2886 4159 \r\nQ 2644 4219 2406 4219 \r\nQ 1781 4219 1451 3797 \r\nQ 1122 3375 1075 2522 \r\nQ 1259 2794 1537 2939 \r\nQ 1816 3084 2150 3084 \r\nQ 2853 3084 3261 2657 \r\nQ 3669 2231 3669 1497 \r\nQ 3669 778 3244 343 \r\nQ 2819 -91 2113 -91 \r\nQ 1303 -91 875 529 \r\nQ 447 1150 447 2328 \r\nQ 447 3434 972 4092 \r\nQ 1497 4750 2381 4750 \r\nQ 2619 4750 2861 4703 \r\nQ 3103 4656 3366 4563 \r\nz\r\n\" id=\"DejaVuSans-36\" transform=\"scale(0.015625)\"/>\r\n       </defs>\r\n       <use xlink:href=\"#DejaVuSans-36\"/>\r\n       <use x=\"63.623047\" xlink:href=\"#DejaVuSans-30\"/>\r\n       <use x=\"127.246094\" xlink:href=\"#DejaVuSans-25\"/>\r\n      </g>\r\n     </g>\r\n    </g>\r\n    <g id=\"xtick_5\">\r\n     <g id=\"line2d_5\">\r\n      <g>\r\n       <use style=\"stroke:#000000;stroke-width:0.8;\" x=\"563.558125\" xlink:href=\"#m95bf7ebfbb\" y=\"348.478125\"/>\r\n      </g>\r\n     </g>\r\n     <g id=\"text_5\">\r\n      <!-- 80% -->\r\n      <g transform=\"translate(552.444844 363.076563)scale(0.1 -0.1)\">\r\n       <defs>\r\n        <path d=\"M 2034 2216 \r\nQ 1584 2216 1326 1975 \r\nQ 1069 1734 1069 1313 \r\nQ 1069 891 1326 650 \r\nQ 1584 409 2034 409 \r\nQ 2484 409 2743 651 \r\nQ 3003 894 3003 1313 \r\nQ 3003 1734 2745 1975 \r\nQ 2488 2216 2034 2216 \r\nz\r\nM 1403 2484 \r\nQ 997 2584 770 2862 \r\nQ 544 3141 544 3541 \r\nQ 544 4100 942 4425 \r\nQ 1341 4750 2034 4750 \r\nQ 2731 4750 3128 4425 \r\nQ 3525 4100 3525 3541 \r\nQ 3525 3141 3298 2862 \r\nQ 3072 2584 2669 2484 \r\nQ 3125 2378 3379 2068 \r\nQ 3634 1759 3634 1313 \r\nQ 3634 634 3220 271 \r\nQ 2806 -91 2034 -91 \r\nQ 1263 -91 848 271 \r\nQ 434 634 434 1313 \r\nQ 434 1759 690 2068 \r\nQ 947 2378 1403 2484 \r\nz\r\nM 1172 3481 \r\nQ 1172 3119 1398 2916 \r\nQ 1625 2713 2034 2713 \r\nQ 2441 2713 2670 2916 \r\nQ 2900 3119 2900 3481 \r\nQ 2900 3844 2670 4047 \r\nQ 2441 4250 2034 4250 \r\nQ 1625 4250 1398 4047 \r\nQ 1172 3844 1172 3481 \r\nz\r\n\" id=\"DejaVuSans-38\" transform=\"scale(0.015625)\"/>\r\n       </defs>\r\n       <use xlink:href=\"#DejaVuSans-38\"/>\r\n       <use x=\"63.623047\" xlink:href=\"#DejaVuSans-30\"/>\r\n       <use x=\"127.246094\" xlink:href=\"#DejaVuSans-25\"/>\r\n      </g>\r\n     </g>\r\n    </g>\r\n    <g id=\"xtick_6\">\r\n     <g id=\"line2d_6\">\r\n      <g>\r\n       <use style=\"stroke:#000000;stroke-width:0.8;\" x=\"697.478125\" xlink:href=\"#m95bf7ebfbb\" y=\"348.478125\"/>\r\n      </g>\r\n     </g>\r\n     <g id=\"text_6\">\r\n      <!-- 100% -->\r\n      <g transform=\"translate(683.183594 363.076563)scale(0.1 -0.1)\">\r\n       <defs>\r\n        <path d=\"M 794 531 \r\nL 1825 531 \r\nL 1825 4091 \r\nL 703 3866 \r\nL 703 4441 \r\nL 1819 4666 \r\nL 2450 4666 \r\nL 2450 531 \r\nL 3481 531 \r\nL 3481 0 \r\nL 794 0 \r\nL 794 531 \r\nz\r\n\" id=\"DejaVuSans-31\" transform=\"scale(0.015625)\"/>\r\n       </defs>\r\n       <use xlink:href=\"#DejaVuSans-31\"/>\r\n       <use x=\"63.623047\" xlink:href=\"#DejaVuSans-30\"/>\r\n       <use x=\"127.246094\" xlink:href=\"#DejaVuSans-30\"/>\r\n       <use x=\"190.869141\" xlink:href=\"#DejaVuSans-25\"/>\r\n      </g>\r\n     </g>\r\n    </g>\r\n   </g>\r\n   <g id=\"matplotlib.axis_2\">\r\n    <g id=\"ytick_1\">\r\n     <g id=\"line2d_7\">\r\n      <defs>\r\n       <path d=\"M 0 0 \r\nL -3.5 0 \r\n\" id=\"m8c1b16812e\" style=\"stroke:#000000;stroke-width:0.8;\"/>\r\n      </defs>\r\n      <g>\r\n       <use style=\"stroke:#000000;stroke-width:0.8;\" x=\"27.878125\" xlink:href=\"#m8c1b16812e\" y=\"333.65267\"/>\r\n      </g>\r\n     </g>\r\n    </g>\r\n    <g id=\"ytick_2\">\r\n     <g id=\"line2d_8\">\r\n      <g>\r\n       <use style=\"stroke:#000000;stroke-width:0.8;\" x=\"27.878125\" xlink:href=\"#m8c1b16812e\" y=\"296.589034\"/>\r\n      </g>\r\n     </g>\r\n    </g>\r\n    <g id=\"ytick_3\">\r\n     <g id=\"line2d_9\">\r\n      <g>\r\n       <use style=\"stroke:#000000;stroke-width:0.8;\" x=\"27.878125\" xlink:href=\"#m8c1b16812e\" y=\"259.525398\"/>\r\n      </g>\r\n     </g>\r\n    </g>\r\n    <g id=\"ytick_4\">\r\n     <g id=\"line2d_10\">\r\n      <g>\r\n       <use style=\"stroke:#000000;stroke-width:0.8;\" x=\"27.878125\" xlink:href=\"#m8c1b16812e\" y=\"222.461761\"/>\r\n      </g>\r\n     </g>\r\n    </g>\r\n    <g id=\"ytick_5\">\r\n     <g id=\"line2d_11\">\r\n      <g>\r\n       <use style=\"stroke:#000000;stroke-width:0.8;\" x=\"27.878125\" xlink:href=\"#m8c1b16812e\" y=\"185.398125\"/>\r\n      </g>\r\n     </g>\r\n    </g>\r\n    <g id=\"ytick_6\">\r\n     <g id=\"line2d_12\">\r\n      <g>\r\n       <use style=\"stroke:#000000;stroke-width:0.8;\" x=\"27.878125\" xlink:href=\"#m8c1b16812e\" y=\"148.334489\"/>\r\n      </g>\r\n     </g>\r\n    </g>\r\n    <g id=\"ytick_7\">\r\n     <g id=\"line2d_13\">\r\n      <g>\r\n       <use style=\"stroke:#000000;stroke-width:0.8;\" x=\"27.878125\" xlink:href=\"#m8c1b16812e\" y=\"111.270852\"/>\r\n      </g>\r\n     </g>\r\n    </g>\r\n    <g id=\"ytick_8\">\r\n     <g id=\"line2d_14\">\r\n      <g>\r\n       <use style=\"stroke:#000000;stroke-width:0.8;\" x=\"27.878125\" xlink:href=\"#m8c1b16812e\" y=\"74.207216\"/>\r\n      </g>\r\n     </g>\r\n    </g>\r\n    <g id=\"ytick_9\">\r\n     <g id=\"line2d_15\">\r\n      <g>\r\n       <use style=\"stroke:#000000;stroke-width:0.8;\" x=\"27.878125\" xlink:href=\"#m8c1b16812e\" y=\"37.14358\"/>\r\n      </g>\r\n     </g>\r\n    </g>\r\n    <g id=\"text_7\">\r\n     <!-- Class -->\r\n     <g transform=\"translate(14.798438 198.552031)rotate(-90)scale(0.1 -0.1)\">\r\n      <defs>\r\n       <path d=\"M 4122 4306 \r\nL 4122 3641 \r\nQ 3803 3938 3442 4084 \r\nQ 3081 4231 2675 4231 \r\nQ 1875 4231 1450 3742 \r\nQ 1025 3253 1025 2328 \r\nQ 1025 1406 1450 917 \r\nQ 1875 428 2675 428 \r\nQ 3081 428 3442 575 \r\nQ 3803 722 4122 1019 \r\nL 4122 359 \r\nQ 3791 134 3420 21 \r\nQ 3050 -91 2638 -91 \r\nQ 1578 -91 968 557 \r\nQ 359 1206 359 2328 \r\nQ 359 3453 968 4101 \r\nQ 1578 4750 2638 4750 \r\nQ 3056 4750 3426 4639 \r\nQ 3797 4528 4122 4306 \r\nz\r\n\" id=\"DejaVuSans-43\" transform=\"scale(0.015625)\"/>\r\n       <path d=\"M 603 4863 \r\nL 1178 4863 \r\nL 1178 0 \r\nL 603 0 \r\nL 603 4863 \r\nz\r\n\" id=\"DejaVuSans-6c\" transform=\"scale(0.015625)\"/>\r\n       <path d=\"M 2194 1759 \r\nQ 1497 1759 1228 1600 \r\nQ 959 1441 959 1056 \r\nQ 959 750 1161 570 \r\nQ 1363 391 1709 391 \r\nQ 2188 391 2477 730 \r\nQ 2766 1069 2766 1631 \r\nL 2766 1759 \r\nL 2194 1759 \r\nz\r\nM 3341 1997 \r\nL 3341 0 \r\nL 2766 0 \r\nL 2766 531 \r\nQ 2569 213 2275 61 \r\nQ 1981 -91 1556 -91 \r\nQ 1019 -91 701 211 \r\nQ 384 513 384 1019 \r\nQ 384 1609 779 1909 \r\nQ 1175 2209 1959 2209 \r\nL 2766 2209 \r\nL 2766 2266 \r\nQ 2766 2663 2505 2880 \r\nQ 2244 3097 1772 3097 \r\nQ 1472 3097 1187 3025 \r\nQ 903 2953 641 2809 \r\nL 641 3341 \r\nQ 956 3463 1253 3523 \r\nQ 1550 3584 1831 3584 \r\nQ 2591 3584 2966 3190 \r\nQ 3341 2797 3341 1997 \r\nz\r\n\" id=\"DejaVuSans-61\" transform=\"scale(0.015625)\"/>\r\n       <path d=\"M 2834 3397 \r\nL 2834 2853 \r\nQ 2591 2978 2328 3040 \r\nQ 2066 3103 1784 3103 \r\nQ 1356 3103 1142 2972 \r\nQ 928 2841 928 2578 \r\nQ 928 2378 1081 2264 \r\nQ 1234 2150 1697 2047 \r\nL 1894 2003 \r\nQ 2506 1872 2764 1633 \r\nQ 3022 1394 3022 966 \r\nQ 3022 478 2636 193 \r\nQ 2250 -91 1575 -91 \r\nQ 1294 -91 989 -36 \r\nQ 684 19 347 128 \r\nL 347 722 \r\nQ 666 556 975 473 \r\nQ 1284 391 1588 391 \r\nQ 1994 391 2212 530 \r\nQ 2431 669 2431 922 \r\nQ 2431 1156 2273 1281 \r\nQ 2116 1406 1581 1522 \r\nL 1381 1569 \r\nQ 847 1681 609 1914 \r\nQ 372 2147 372 2553 \r\nQ 372 3047 722 3315 \r\nQ 1072 3584 1716 3584 \r\nQ 2034 3584 2315 3537 \r\nQ 2597 3491 2834 3397 \r\nz\r\n\" id=\"DejaVuSans-73\" transform=\"scale(0.015625)\"/>\r\n      </defs>\r\n      <use xlink:href=\"#DejaVuSans-43\"/>\r\n      <use x=\"69.824219\" xlink:href=\"#DejaVuSans-6c\"/>\r\n      <use x=\"97.607422\" xlink:href=\"#DejaVuSans-61\"/>\r\n      <use x=\"158.886719\" xlink:href=\"#DejaVuSans-73\"/>\r\n      <use x=\"210.986328\" xlink:href=\"#DejaVuSans-73\"/>\r\n     </g>\r\n    </g>\r\n   </g>\r\n   <g id=\"patch_5\">\r\n    <path d=\"M 27.878125 348.478125 \r\nL 27.878125 22.318125 \r\n\" style=\"fill:none;stroke:#000000;stroke-linecap:square;stroke-linejoin:miter;stroke-width:0.8;\"/>\r\n   </g>\r\n   <g id=\"patch_6\">\r\n    <path d=\"M 697.478125 348.478125 \r\nL 697.478125 22.318125 \r\n\" style=\"fill:none;stroke:#000000;stroke-linecap:square;stroke-linejoin:miter;stroke-width:0.8;\"/>\r\n   </g>\r\n   <g id=\"patch_7\">\r\n    <path d=\"M 27.878125 348.478125 \r\nL 697.478125 348.478125 \r\n\" style=\"fill:none;stroke:#000000;stroke-linecap:square;stroke-linejoin:miter;stroke-width:0.8;\"/>\r\n   </g>\r\n   <g id=\"patch_8\">\r\n    <path d=\"M 27.878125 22.318125 \r\nL 697.478125 22.318125 \r\n\" style=\"fill:none;stroke:#000000;stroke-linecap:square;stroke-linejoin:miter;stroke-width:0.8;\"/>\r\n   </g>\r\n   <g id=\"text_8\">\r\n    <!-- 50.0% -->\r\n    <g transform=\"translate(175.190125 185.398125)scale(0.1 -0.1)\">\r\n     <defs>\r\n      <path d=\"M 678 4666 \r\nL 3669 4666 \r\nL 3669 3781 \r\nL 1638 3781 \r\nL 1638 3059 \r\nQ 1775 3097 1914 3117 \r\nQ 2053 3138 2203 3138 \r\nQ 3056 3138 3531 2711 \r\nQ 4006 2284 4006 1522 \r\nQ 4006 766 3489 337 \r\nQ 2972 -91 2053 -91 \r\nQ 1656 -91 1267 -14 \r\nQ 878 63 494 219 \r\nL 494 1166 \r\nQ 875 947 1217 837 \r\nQ 1559 728 1863 728 \r\nQ 2300 728 2551 942 \r\nQ 2803 1156 2803 1522 \r\nQ 2803 1891 2551 2103 \r\nQ 2300 2316 1863 2316 \r\nQ 1603 2316 1309 2248 \r\nQ 1016 2181 678 2041 \r\nL 678 4666 \r\nz\r\n\" id=\"DejaVuSans-Bold-35\" transform=\"scale(0.015625)\"/>\r\n      <path d=\"M 2944 2338 \r\nQ 2944 3213 2780 3570 \r\nQ 2616 3928 2228 3928 \r\nQ 1841 3928 1675 3570 \r\nQ 1509 3213 1509 2338 \r\nQ 1509 1453 1675 1090 \r\nQ 1841 728 2228 728 \r\nQ 2613 728 2778 1090 \r\nQ 2944 1453 2944 2338 \r\nz\r\nM 4147 2328 \r\nQ 4147 1169 3647 539 \r\nQ 3147 -91 2228 -91 \r\nQ 1306 -91 806 539 \r\nQ 306 1169 306 2328 \r\nQ 306 3491 806 4120 \r\nQ 1306 4750 2228 4750 \r\nQ 3147 4750 3647 4120 \r\nQ 4147 3491 4147 2328 \r\nz\r\n\" id=\"DejaVuSans-Bold-30\" transform=\"scale(0.015625)\"/>\r\n      <path d=\"M 653 1209 \r\nL 1778 1209 \r\nL 1778 0 \r\nL 653 0 \r\nL 653 1209 \r\nz\r\n\" id=\"DejaVuSans-Bold-2e\" transform=\"scale(0.015625)\"/>\r\n      <path d=\"M 4959 1925 \r\nQ 4738 1925 4616 1733 \r\nQ 4494 1541 4494 1184 \r\nQ 4494 825 4614 633 \r\nQ 4734 441 4959 441 \r\nQ 5184 441 5303 633 \r\nQ 5422 825 5422 1184 \r\nQ 5422 1541 5301 1733 \r\nQ 5181 1925 4959 1925 \r\nz\r\nM 4959 2450 \r\nQ 5541 2450 5875 2112 \r\nQ 6209 1775 6209 1184 \r\nQ 6209 594 5875 251 \r\nQ 5541 -91 4959 -91 \r\nQ 4378 -91 4042 251 \r\nQ 3706 594 3706 1184 \r\nQ 3706 1772 4042 2111 \r\nQ 4378 2450 4959 2450 \r\nz\r\nM 2094 -91 \r\nL 1403 -91 \r\nL 4319 4750 \r\nL 5013 4750 \r\nL 2094 -91 \r\nz\r\nM 1453 4750 \r\nQ 2034 4750 2367 4411 \r\nQ 2700 4072 2700 3481 \r\nQ 2700 2891 2367 2550 \r\nQ 2034 2209 1453 2209 \r\nQ 872 2209 539 2550 \r\nQ 206 2891 206 3481 \r\nQ 206 4072 539 4411 \r\nQ 872 4750 1453 4750 \r\nz\r\nM 1453 4225 \r\nQ 1228 4225 1106 4031 \r\nQ 984 3838 984 3481 \r\nQ 984 3122 1106 2926 \r\nQ 1228 2731 1453 2731 \r\nQ 1678 2731 1798 2926 \r\nQ 1919 3122 1919 3481 \r\nQ 1919 3838 1797 4031 \r\nQ 1675 4225 1453 4225 \r\nz\r\n\" id=\"DejaVuSans-Bold-25\" transform=\"scale(0.015625)\"/>\r\n     </defs>\r\n     <use xlink:href=\"#DejaVuSans-Bold-35\"/>\r\n     <use x=\"69.580078\" xlink:href=\"#DejaVuSans-Bold-30\"/>\r\n     <use x=\"139.160156\" xlink:href=\"#DejaVuSans-Bold-2e\"/>\r\n     <use x=\"177.148438\" xlink:href=\"#DejaVuSans-Bold-30\"/>\r\n     <use x=\"246.728516\" xlink:href=\"#DejaVuSans-Bold-25\"/>\r\n    </g>\r\n   </g>\r\n   <g id=\"text_9\">\r\n    <!-- 50.0% -->\r\n    <g transform=\"translate(509.990125 185.398125)scale(0.1 -0.1)\">\r\n     <use xlink:href=\"#DejaVuSans-Bold-35\"/>\r\n     <use x=\"69.580078\" xlink:href=\"#DejaVuSans-Bold-30\"/>\r\n     <use x=\"139.160156\" xlink:href=\"#DejaVuSans-Bold-2e\"/>\r\n     <use x=\"177.148438\" xlink:href=\"#DejaVuSans-Bold-30\"/>\r\n     <use x=\"246.728516\" xlink:href=\"#DejaVuSans-Bold-25\"/>\r\n    </g>\r\n   </g>\r\n   <g id=\"text_10\">\r\n    <!-- Distribución de la variable Class -->\r\n    <g transform=\"translate(266.265625 16.318125)scale(0.12 -0.12)\">\r\n     <defs>\r\n      <path d=\"M 1259 4147 \r\nL 1259 519 \r\nL 2022 519 \r\nQ 2988 519 3436 956 \r\nQ 3884 1394 3884 2338 \r\nQ 3884 3275 3436 3711 \r\nQ 2988 4147 2022 4147 \r\nL 1259 4147 \r\nz\r\nM 628 4666 \r\nL 1925 4666 \r\nQ 3281 4666 3915 4102 \r\nQ 4550 3538 4550 2338 \r\nQ 4550 1131 3912 565 \r\nQ 3275 0 1925 0 \r\nL 628 0 \r\nL 628 4666 \r\nz\r\n\" id=\"DejaVuSans-44\" transform=\"scale(0.015625)\"/>\r\n      <path d=\"M 603 3500 \r\nL 1178 3500 \r\nL 1178 0 \r\nL 603 0 \r\nL 603 3500 \r\nz\r\nM 603 4863 \r\nL 1178 4863 \r\nL 1178 4134 \r\nL 603 4134 \r\nL 603 4863 \r\nz\r\n\" id=\"DejaVuSans-69\" transform=\"scale(0.015625)\"/>\r\n      <path d=\"M 1172 4494 \r\nL 1172 3500 \r\nL 2356 3500 \r\nL 2356 3053 \r\nL 1172 3053 \r\nL 1172 1153 \r\nQ 1172 725 1289 603 \r\nQ 1406 481 1766 481 \r\nL 2356 481 \r\nL 2356 0 \r\nL 1766 0 \r\nQ 1100 0 847 248 \r\nQ 594 497 594 1153 \r\nL 594 3053 \r\nL 172 3053 \r\nL 172 3500 \r\nL 594 3500 \r\nL 594 4494 \r\nL 1172 4494 \r\nz\r\n\" id=\"DejaVuSans-74\" transform=\"scale(0.015625)\"/>\r\n      <path d=\"M 2631 2963 \r\nQ 2534 3019 2420 3045 \r\nQ 2306 3072 2169 3072 \r\nQ 1681 3072 1420 2755 \r\nQ 1159 2438 1159 1844 \r\nL 1159 0 \r\nL 581 0 \r\nL 581 3500 \r\nL 1159 3500 \r\nL 1159 2956 \r\nQ 1341 3275 1631 3429 \r\nQ 1922 3584 2338 3584 \r\nQ 2397 3584 2469 3576 \r\nQ 2541 3569 2628 3553 \r\nL 2631 2963 \r\nz\r\n\" id=\"DejaVuSans-72\" transform=\"scale(0.015625)\"/>\r\n      <path d=\"M 3116 1747 \r\nQ 3116 2381 2855 2742 \r\nQ 2594 3103 2138 3103 \r\nQ 1681 3103 1420 2742 \r\nQ 1159 2381 1159 1747 \r\nQ 1159 1113 1420 752 \r\nQ 1681 391 2138 391 \r\nQ 2594 391 2855 752 \r\nQ 3116 1113 3116 1747 \r\nz\r\nM 1159 2969 \r\nQ 1341 3281 1617 3432 \r\nQ 1894 3584 2278 3584 \r\nQ 2916 3584 3314 3078 \r\nQ 3713 2572 3713 1747 \r\nQ 3713 922 3314 415 \r\nQ 2916 -91 2278 -91 \r\nQ 1894 -91 1617 61 \r\nQ 1341 213 1159 525 \r\nL 1159 0 \r\nL 581 0 \r\nL 581 4863 \r\nL 1159 4863 \r\nL 1159 2969 \r\nz\r\n\" id=\"DejaVuSans-62\" transform=\"scale(0.015625)\"/>\r\n      <path d=\"M 544 1381 \r\nL 544 3500 \r\nL 1119 3500 \r\nL 1119 1403 \r\nQ 1119 906 1312 657 \r\nQ 1506 409 1894 409 \r\nQ 2359 409 2629 706 \r\nQ 2900 1003 2900 1516 \r\nL 2900 3500 \r\nL 3475 3500 \r\nL 3475 0 \r\nL 2900 0 \r\nL 2900 538 \r\nQ 2691 219 2414 64 \r\nQ 2138 -91 1772 -91 \r\nQ 1169 -91 856 284 \r\nQ 544 659 544 1381 \r\nz\r\nM 1991 3584 \r\nL 1991 3584 \r\nz\r\n\" id=\"DejaVuSans-75\" transform=\"scale(0.015625)\"/>\r\n      <path d=\"M 3122 3366 \r\nL 3122 2828 \r\nQ 2878 2963 2633 3030 \r\nQ 2388 3097 2138 3097 \r\nQ 1578 3097 1268 2742 \r\nQ 959 2388 959 1747 \r\nQ 959 1106 1268 751 \r\nQ 1578 397 2138 397 \r\nQ 2388 397 2633 464 \r\nQ 2878 531 3122 666 \r\nL 3122 134 \r\nQ 2881 22 2623 -34 \r\nQ 2366 -91 2075 -91 \r\nQ 1284 -91 818 406 \r\nQ 353 903 353 1747 \r\nQ 353 2603 823 3093 \r\nQ 1294 3584 2113 3584 \r\nQ 2378 3584 2631 3529 \r\nQ 2884 3475 3122 3366 \r\nz\r\n\" id=\"DejaVuSans-63\" transform=\"scale(0.015625)\"/>\r\n      <path d=\"M 1959 3097 \r\nQ 1497 3097 1228 2736 \r\nQ 959 2375 959 1747 \r\nQ 959 1119 1226 758 \r\nQ 1494 397 1959 397 \r\nQ 2419 397 2687 759 \r\nQ 2956 1122 2956 1747 \r\nQ 2956 2369 2687 2733 \r\nQ 2419 3097 1959 3097 \r\nz\r\nM 1959 3584 \r\nQ 2709 3584 3137 3096 \r\nQ 3566 2609 3566 1747 \r\nQ 3566 888 3137 398 \r\nQ 2709 -91 1959 -91 \r\nQ 1206 -91 779 398 \r\nQ 353 888 353 1747 \r\nQ 353 2609 779 3096 \r\nQ 1206 3584 1959 3584 \r\nz\r\nM 2394 5119 \r\nL 3016 5119 \r\nL 1997 3944 \r\nL 1519 3944 \r\nL 2394 5119 \r\nz\r\n\" id=\"DejaVuSans-f3\" transform=\"scale(0.015625)\"/>\r\n      <path d=\"M 3513 2113 \r\nL 3513 0 \r\nL 2938 0 \r\nL 2938 2094 \r\nQ 2938 2591 2744 2837 \r\nQ 2550 3084 2163 3084 \r\nQ 1697 3084 1428 2787 \r\nQ 1159 2491 1159 1978 \r\nL 1159 0 \r\nL 581 0 \r\nL 581 3500 \r\nL 1159 3500 \r\nL 1159 2956 \r\nQ 1366 3272 1645 3428 \r\nQ 1925 3584 2291 3584 \r\nQ 2894 3584 3203 3211 \r\nQ 3513 2838 3513 2113 \r\nz\r\n\" id=\"DejaVuSans-6e\" transform=\"scale(0.015625)\"/>\r\n      <path id=\"DejaVuSans-20\" transform=\"scale(0.015625)\"/>\r\n      <path d=\"M 2906 2969 \r\nL 2906 4863 \r\nL 3481 4863 \r\nL 3481 0 \r\nL 2906 0 \r\nL 2906 525 \r\nQ 2725 213 2448 61 \r\nQ 2172 -91 1784 -91 \r\nQ 1150 -91 751 415 \r\nQ 353 922 353 1747 \r\nQ 353 2572 751 3078 \r\nQ 1150 3584 1784 3584 \r\nQ 2172 3584 2448 3432 \r\nQ 2725 3281 2906 2969 \r\nz\r\nM 947 1747 \r\nQ 947 1113 1208 752 \r\nQ 1469 391 1925 391 \r\nQ 2381 391 2643 752 \r\nQ 2906 1113 2906 1747 \r\nQ 2906 2381 2643 2742 \r\nQ 2381 3103 1925 3103 \r\nQ 1469 3103 1208 2742 \r\nQ 947 2381 947 1747 \r\nz\r\n\" id=\"DejaVuSans-64\" transform=\"scale(0.015625)\"/>\r\n      <path d=\"M 3597 1894 \r\nL 3597 1613 \r\nL 953 1613 \r\nQ 991 1019 1311 708 \r\nQ 1631 397 2203 397 \r\nQ 2534 397 2845 478 \r\nQ 3156 559 3463 722 \r\nL 3463 178 \r\nQ 3153 47 2828 -22 \r\nQ 2503 -91 2169 -91 \r\nQ 1331 -91 842 396 \r\nQ 353 884 353 1716 \r\nQ 353 2575 817 3079 \r\nQ 1281 3584 2069 3584 \r\nQ 2775 3584 3186 3129 \r\nQ 3597 2675 3597 1894 \r\nz\r\nM 3022 2063 \r\nQ 3016 2534 2758 2815 \r\nQ 2500 3097 2075 3097 \r\nQ 1594 3097 1305 2825 \r\nQ 1016 2553 972 2059 \r\nL 3022 2063 \r\nz\r\n\" id=\"DejaVuSans-65\" transform=\"scale(0.015625)\"/>\r\n      <path d=\"M 191 3500 \r\nL 800 3500 \r\nL 1894 563 \r\nL 2988 3500 \r\nL 3597 3500 \r\nL 2284 0 \r\nL 1503 0 \r\nL 191 3500 \r\nz\r\n\" id=\"DejaVuSans-76\" transform=\"scale(0.015625)\"/>\r\n     </defs>\r\n     <use xlink:href=\"#DejaVuSans-44\"/>\r\n     <use x=\"77.001953\" xlink:href=\"#DejaVuSans-69\"/>\r\n     <use x=\"104.785156\" xlink:href=\"#DejaVuSans-73\"/>\r\n     <use x=\"156.884766\" xlink:href=\"#DejaVuSans-74\"/>\r\n     <use x=\"196.09375\" xlink:href=\"#DejaVuSans-72\"/>\r\n     <use x=\"237.207031\" xlink:href=\"#DejaVuSans-69\"/>\r\n     <use x=\"264.990234\" xlink:href=\"#DejaVuSans-62\"/>\r\n     <use x=\"328.466797\" xlink:href=\"#DejaVuSans-75\"/>\r\n     <use x=\"391.845703\" xlink:href=\"#DejaVuSans-63\"/>\r\n     <use x=\"446.826172\" xlink:href=\"#DejaVuSans-69\"/>\r\n     <use x=\"474.609375\" xlink:href=\"#DejaVuSans-f3\"/>\r\n     <use x=\"535.791016\" xlink:href=\"#DejaVuSans-6e\"/>\r\n     <use x=\"599.169922\" xlink:href=\"#DejaVuSans-20\"/>\r\n     <use x=\"630.957031\" xlink:href=\"#DejaVuSans-64\"/>\r\n     <use x=\"694.433594\" xlink:href=\"#DejaVuSans-65\"/>\r\n     <use x=\"755.957031\" xlink:href=\"#DejaVuSans-20\"/>\r\n     <use x=\"787.744141\" xlink:href=\"#DejaVuSans-6c\"/>\r\n     <use x=\"815.527344\" xlink:href=\"#DejaVuSans-61\"/>\r\n     <use x=\"876.806641\" xlink:href=\"#DejaVuSans-20\"/>\r\n     <use x=\"908.59375\" xlink:href=\"#DejaVuSans-76\"/>\r\n     <use x=\"967.773438\" xlink:href=\"#DejaVuSans-61\"/>\r\n     <use x=\"1029.052734\" xlink:href=\"#DejaVuSans-72\"/>\r\n     <use x=\"1070.166016\" xlink:href=\"#DejaVuSans-69\"/>\r\n     <use x=\"1097.949219\" xlink:href=\"#DejaVuSans-61\"/>\r\n     <use x=\"1159.228516\" xlink:href=\"#DejaVuSans-62\"/>\r\n     <use x=\"1222.705078\" xlink:href=\"#DejaVuSans-6c\"/>\r\n     <use x=\"1250.488281\" xlink:href=\"#DejaVuSans-65\"/>\r\n     <use x=\"1312.011719\" xlink:href=\"#DejaVuSans-20\"/>\r\n     <use x=\"1343.798828\" xlink:href=\"#DejaVuSans-43\"/>\r\n     <use x=\"1413.623047\" xlink:href=\"#DejaVuSans-6c\"/>\r\n     <use x=\"1441.40625\" xlink:href=\"#DejaVuSans-61\"/>\r\n     <use x=\"1502.685547\" xlink:href=\"#DejaVuSans-73\"/>\r\n     <use x=\"1554.785156\" xlink:href=\"#DejaVuSans-73\"/>\r\n    </g>\r\n   </g>\r\n   <g id=\"legend_1\">\r\n    <g id=\"patch_9\">\r\n     <path d=\"M 715.68675 61.674375 \r\nL 790.4055 61.674375 \r\nQ 792.4055 61.674375 792.4055 59.674375 \r\nL 792.4055 31.318125 \r\nQ 792.4055 29.318125 790.4055 29.318125 \r\nL 715.68675 29.318125 \r\nQ 713.68675 29.318125 713.68675 31.318125 \r\nL 713.68675 59.674375 \r\nQ 713.68675 61.674375 715.68675 61.674375 \r\nz\r\n\" style=\"fill:#4c4c4c;opacity:0.5;stroke:#4c4c4c;stroke-linejoin:miter;\"/>\r\n    </g>\r\n    <g id=\"patch_10\">\r\n     <path d=\"M 713.68675 59.674375 \r\nL 788.4055 59.674375 \r\nQ 790.4055 59.674375 790.4055 57.674375 \r\nL 790.4055 29.318125 \r\nQ 790.4055 27.318125 788.4055 27.318125 \r\nL 713.68675 27.318125 \r\nQ 711.68675 27.318125 711.68675 29.318125 \r\nL 711.68675 57.674375 \r\nQ 711.68675 59.674375 713.68675 59.674375 \r\nz\r\n\" style=\"fill:#ffffff;stroke:#cccccc;stroke-linejoin:miter;\"/>\r\n    </g>\r\n    <g id=\"patch_11\">\r\n     <path d=\"M 715.68675 38.916562 \r\nL 735.68675 38.916562 \r\nL 735.68675 31.916562 \r\nL 715.68675 31.916562 \r\nz\r\n\" style=\"fill:#a52a2a;\"/>\r\n    </g>\r\n    <g id=\"text_11\">\r\n     <!-- Besni -->\r\n     <g transform=\"translate(743.68675 38.916562)scale(0.1 -0.1)\">\r\n      <defs>\r\n       <path d=\"M 1259 2228 \r\nL 1259 519 \r\nL 2272 519 \r\nQ 2781 519 3026 730 \r\nQ 3272 941 3272 1375 \r\nQ 3272 1813 3026 2020 \r\nQ 2781 2228 2272 2228 \r\nL 1259 2228 \r\nz\r\nM 1259 4147 \r\nL 1259 2741 \r\nL 2194 2741 \r\nQ 2656 2741 2882 2914 \r\nQ 3109 3088 3109 3444 \r\nQ 3109 3797 2882 3972 \r\nQ 2656 4147 2194 4147 \r\nL 1259 4147 \r\nz\r\nM 628 4666 \r\nL 2241 4666 \r\nQ 2963 4666 3353 4366 \r\nQ 3744 4066 3744 3513 \r\nQ 3744 3084 3544 2831 \r\nQ 3344 2578 2956 2516 \r\nQ 3422 2416 3680 2098 \r\nQ 3938 1781 3938 1306 \r\nQ 3938 681 3513 340 \r\nQ 3088 0 2303 0 \r\nL 628 0 \r\nL 628 4666 \r\nz\r\n\" id=\"DejaVuSans-42\" transform=\"scale(0.015625)\"/>\r\n      </defs>\r\n      <use xlink:href=\"#DejaVuSans-42\"/>\r\n      <use x=\"68.603516\" xlink:href=\"#DejaVuSans-65\"/>\r\n      <use x=\"130.126953\" xlink:href=\"#DejaVuSans-73\"/>\r\n      <use x=\"182.226562\" xlink:href=\"#DejaVuSans-6e\"/>\r\n      <use x=\"245.605469\" xlink:href=\"#DejaVuSans-69\"/>\r\n     </g>\r\n    </g>\r\n    <g id=\"patch_12\">\r\n     <path d=\"M 715.68675 53.594688 \r\nL 735.68675 53.594688 \r\nL 735.68675 46.594688 \r\nL 715.68675 46.594688 \r\nz\r\n\" style=\"fill:#deb887;\"/>\r\n    </g>\r\n    <g id=\"text_12\">\r\n     <!-- Kecimen -->\r\n     <g transform=\"translate(743.68675 53.594688)scale(0.1 -0.1)\">\r\n      <defs>\r\n       <path d=\"M 628 4666 \r\nL 1259 4666 \r\nL 1259 2694 \r\nL 3353 4666 \r\nL 4166 4666 \r\nL 1850 2491 \r\nL 4331 0 \r\nL 3500 0 \r\nL 1259 2247 \r\nL 1259 0 \r\nL 628 0 \r\nL 628 4666 \r\nz\r\n\" id=\"DejaVuSans-4b\" transform=\"scale(0.015625)\"/>\r\n       <path d=\"M 3328 2828 \r\nQ 3544 3216 3844 3400 \r\nQ 4144 3584 4550 3584 \r\nQ 5097 3584 5394 3201 \r\nQ 5691 2819 5691 2113 \r\nL 5691 0 \r\nL 5113 0 \r\nL 5113 2094 \r\nQ 5113 2597 4934 2840 \r\nQ 4756 3084 4391 3084 \r\nQ 3944 3084 3684 2787 \r\nQ 3425 2491 3425 1978 \r\nL 3425 0 \r\nL 2847 0 \r\nL 2847 2094 \r\nQ 2847 2600 2669 2842 \r\nQ 2491 3084 2119 3084 \r\nQ 1678 3084 1418 2786 \r\nQ 1159 2488 1159 1978 \r\nL 1159 0 \r\nL 581 0 \r\nL 581 3500 \r\nL 1159 3500 \r\nL 1159 2956 \r\nQ 1356 3278 1631 3431 \r\nQ 1906 3584 2284 3584 \r\nQ 2666 3584 2933 3390 \r\nQ 3200 3197 3328 2828 \r\nz\r\n\" id=\"DejaVuSans-6d\" transform=\"scale(0.015625)\"/>\r\n      </defs>\r\n      <use xlink:href=\"#DejaVuSans-4b\"/>\r\n      <use x=\"60.576172\" xlink:href=\"#DejaVuSans-65\"/>\r\n      <use x=\"122.099609\" xlink:href=\"#DejaVuSans-63\"/>\r\n      <use x=\"177.080078\" xlink:href=\"#DejaVuSans-69\"/>\r\n      <use x=\"204.863281\" xlink:href=\"#DejaVuSans-6d\"/>\r\n      <use x=\"302.275391\" xlink:href=\"#DejaVuSans-65\"/>\r\n      <use x=\"363.798828\" xlink:href=\"#DejaVuSans-6e\"/>\r\n     </g>\r\n    </g>\r\n   </g>\r\n  </g>\r\n </g>\r\n <defs>\r\n  <clipPath id=\"pcf2932b497\">\r\n   <rect height=\"326.16\" width=\"669.6\" x=\"27.878125\" y=\"22.318125\"/>\r\n  </clipPath>\r\n </defs>\r\n</svg>\r\n",
      "text/plain": [
       "<Figure size 2400x1200 with 1 Axes>"
      ]
     },
     "metadata": {
      "needs_background": "light"
     },
     "output_type": "display_data"
    }
   ],
   "source": [
    "analisis_raisin.distribucion_variable_predecir()"
   ]
  },
  {
   "cell_type": "code",
   "execution_count": 8,
   "metadata": {},
   "outputs": [],
   "source": [
    "raisin_svm = SVC(kernel='rbf')\n",
    "analisis_raisin = Analisis_Predictivo(df, predecir='Class', modelo=raisin_svm, train_size=0.75)"
   ]
  },
  {
   "cell_type": "code",
   "execution_count": 9,
   "metadata": {},
   "outputs": [
    {
     "name": "stdout",
     "output_type": "stream",
     "text": [
      "\n",
      "Matriz de Confusión:\n",
      "[[97 19]\n",
      " [11 98]]\n",
      "\n",
      "Precisión Global:\n",
      "0.8666666666666667\n",
      "\n",
      "Error Global:\n",
      "0.1333333333333333\n",
      "\n",
      "Precisión por categoría:\n",
      "      Besni   Kecimen\n",
      "0  0.836207  0.899083\n"
     ]
    }
   ],
   "source": [
    "resultados_raisin = analisis_raisin.fit_predict_resultados()"
   ]
  },
  {
   "cell_type": "markdown",
   "metadata": {},
   "source": [
    "2. Repita el  ́ıtem anterior pero intente identificar el mejor n ́ucleo (Kernel) y valor para el\n",
    "par ́ametro de regularizaci ́on C. ¿Mejora la predicci ́on?"
   ]
  },
  {
   "cell_type": "code",
   "execution_count": 10,
   "metadata": {},
   "outputs": [
    {
     "name": "stdout",
     "output_type": "stream",
     "text": [
      "    Area  MajorAxisLength  MinorAxisLength  Eccentricity  ConvexArea  \\\n",
      "0  87524       442.246011       253.291155      0.819738       90546   \n",
      "1  75166       406.690687       243.032436      0.801805       78789   \n",
      "2  90856       442.267048       266.328318      0.798354       93717   \n",
      "3  45928       286.540559       208.760042      0.684989       47336   \n",
      "4  79408       352.190770       290.827533      0.564011       81463   \n",
      "\n",
      "     Extent  Perimeter  \n",
      "0  0.758651   1184.040  \n",
      "1  0.684130   1121.786  \n",
      "2  0.637613   1208.575  \n",
      "3  0.699599    844.162  \n",
      "4  0.792772   1073.251  \n",
      "0    Kecimen\n",
      "1    Kecimen\n",
      "2    Kecimen\n",
      "3    Kecimen\n",
      "4    Kecimen\n",
      "Name: Class, dtype: object\n"
     ]
    }
   ],
   "source": [
    "#divide the df\n",
    "X = df.iloc[:, :-1]\n",
    "y = df.iloc[:, -1]\n",
    "print (X.head())\n",
    "print (y.head())"
   ]
  },
  {
   "cell_type": "code",
   "execution_count": 11,
   "metadata": {},
   "outputs": [],
   "source": [
    "X_train, X_test, y_train, y_test =  train_test_split(X, y, test_size=0.25, random_state=0)"
   ]
  },
  {
   "cell_type": "code",
   "execution_count": 12,
   "metadata": {},
   "outputs": [],
   "source": [
    "#create a pipeline\n",
    "pipe = make_pipeline(SVC(kernel='rbf'))\n"
   ]
  },
  {
   "cell_type": "markdown",
   "metadata": {},
   "source": [
    "Aquí se revisa todos los KERNELS"
   ]
  },
  {
   "cell_type": "code",
   "execution_count": 13,
   "metadata": {},
   "outputs": [],
   "source": [
    "#create a dictionary with the hiperparameters to test\n",
    "grid_parameters = [\n",
    "                    {'svc__C': [1, 10], 'svc__gamma': [0.1]},\n",
    "                    {'svc__C': [1, 10], 'svc__gamma': [0.1], 'svc__kernel': ['linear']},\n",
    "                    {'svc__kernel': ['poly'], 'svc__degree': [2, 3]},\n",
    "                    {'svc__C': [1, 10], 'svc__gamma': [0.1], 'svc__kernel': ['sigmoid']},]\n",
    "#create a gridsearch object\n",
    "grid_search = GridSearchCV(pipe, grid_parameters) # fit grid seaarch"
   ]
  },
  {
   "cell_type": "code",
   "execution_count": 14,
   "metadata": {},
   "outputs": [],
   "source": [
    "\n",
    "best_model = grid_search.fit(X_train, y_train) # fit the best model"
   ]
  },
  {
   "cell_type": "code",
   "execution_count": 15,
   "metadata": {},
   "outputs": [
    {
     "name": "stdout",
     "output_type": "stream",
     "text": [
      "Best model:  Pipeline(steps=[('svc', SVC(C=1, gamma=0.1, kernel='linear'))])\n",
      "Best parameters:  {'svc__C': 1, 'svc__gamma': 0.1, 'svc__kernel': 'linear'}\n",
      "Best score:  0.8666666666666666\n"
     ]
    }
   ],
   "source": [
    "#print the model settings and the best parameters\n",
    "print(\"Best model: \", best_model.best_estimator_)\n",
    "print(\"Best parameters: \", best_model.best_params_)\n",
    "print(\"Best score: \", best_model.best_score_)\n"
   ]
  },
  {
   "cell_type": "code",
   "execution_count": 16,
   "metadata": {},
   "outputs": [],
   "source": [
    "raisin_svm = SVC(kernel='linear', C = 1, gamma = 0.1)\n",
    "analisis_raisin = Analisis_Predictivo(df, predecir='Class', modelo=raisin_svm, train_size=0.75)"
   ]
  },
  {
   "cell_type": "code",
   "execution_count": 17,
   "metadata": {},
   "outputs": [
    {
     "name": "stdout",
     "output_type": "stream",
     "text": [
      "\n",
      "Matriz de Confusión:\n",
      "[[ 91  15]\n",
      " [ 10 109]]\n",
      "\n",
      "Precisión Global:\n",
      "0.8888888888888888\n",
      "\n",
      "Error Global:\n",
      "0.11111111111111116\n",
      "\n",
      "Precisión por categoría:\n",
      "      Besni   Kecimen\n",
      "0  0.858491  0.915966\n"
     ]
    }
   ],
   "source": [
    "resultados_raisin = analisis_raisin.fit_predict_resultados()"
   ]
  },
  {
   "cell_type": "markdown",
   "metadata": {},
   "source": [
    "A nivel general se mejora la predicción a un 88%, además por categoría se tienen mejor predicción."
   ]
  },
  {
   "cell_type": "markdown",
   "metadata": {},
   "source": [
    "3. Construya un DataFrame que compare el mejor modelo generado arriba contra los mejores modelos construidos en tareas anteriores para la tabla raisin.csv. Para esto en cada una de las filas debe aparecer un modelo predictivo y que en las columnas aparezcan los  ́ındices  Precision Global, Error Global, Precision Positiva (PP) y Precision Negativa (PN). ¿Cual de los modelos es mejor para estos datos?"
   ]
  },
  {
   "cell_type": "code",
   "execution_count": 18,
   "metadata": {},
   "outputs": [
    {
     "name": "stdout",
     "output_type": "stream",
     "text": [
      "[[ 91  15]\n",
      " [ 10 109]]\n",
      "0 Global Accuracy Global Error Positive Precision Negative Precision  \\\n",
      "1        0.888889     0.111111           0.915966           0.858491   \n",
      "\n",
      "0 False Positives False Negatives Positive Assertivity Negative Assertivity  \n",
      "1        0.141509        0.084034             0.879032              0.90099  \n"
     ]
    }
   ],
   "source": [
    "raisin_svm = cmatrixelements(resultados_raisin)\n",
    "df_raisin_svm = raisin_svm.calculatem()\n",
    "df_raisin_svm[\"Modelo\"] = \"SVM Linear C=1, gamma=0.1 raisin\""
   ]
  },
  {
   "cell_type": "code",
   "execution_count": 19,
   "metadata": {},
   "outputs": [
    {
     "data": {
      "text/html": [
       "<div>\n",
       "<style scoped>\n",
       "    .dataframe tbody tr th:only-of-type {\n",
       "        vertical-align: middle;\n",
       "    }\n",
       "\n",
       "    .dataframe tbody tr th {\n",
       "        vertical-align: top;\n",
       "    }\n",
       "\n",
       "    .dataframe thead th {\n",
       "        text-align: right;\n",
       "    }\n",
       "</style>\n",
       "<table border=\"1\" class=\"dataframe\">\n",
       "  <thead>\n",
       "    <tr style=\"text-align: right;\">\n",
       "      <th></th>\n",
       "      <th>Global Accuracy</th>\n",
       "      <th>Global Error</th>\n",
       "      <th>Positive Precision</th>\n",
       "      <th>Negative Precision</th>\n",
       "      <th>False Positives</th>\n",
       "      <th>False Negatives</th>\n",
       "      <th>Positive Assertivity</th>\n",
       "      <th>Negative Assertivity</th>\n",
       "      <th>Modelo</th>\n",
       "    </tr>\n",
       "  </thead>\n",
       "  <tbody>\n",
       "    <tr>\n",
       "      <th>1</th>\n",
       "      <td>0.888889</td>\n",
       "      <td>0.111111</td>\n",
       "      <td>0.915966</td>\n",
       "      <td>0.858491</td>\n",
       "      <td>0.141509</td>\n",
       "      <td>0.084034</td>\n",
       "      <td>0.879032</td>\n",
       "      <td>0.90099</td>\n",
       "      <td>SVM Linear C=1, gamma=0.1 raisin</td>\n",
       "    </tr>\n",
       "  </tbody>\n",
       "</table>\n",
       "</div>"
      ],
      "text/plain": [
       "0 Global Accuracy Global Error Positive Precision Negative Precision  \\\n",
       "1        0.888889     0.111111           0.915966           0.858491   \n",
       "\n",
       "0 False Positives False Negatives Positive Assertivity Negative Assertivity  \\\n",
       "1        0.141509        0.084034             0.879032              0.90099   \n",
       "\n",
       "0                            Modelo  \n",
       "1  SVM Linear C=1, gamma=0.1 raisin  "
      ]
     },
     "execution_count": 19,
     "metadata": {},
     "output_type": "execute_result"
    }
   ],
   "source": [
    "df_raisin_svm.head()"
   ]
  },
  {
   "cell_type": "code",
   "execution_count": 136,
   "metadata": {},
   "outputs": [
    {
     "data": {
      "text/html": [
       "<div>\n",
       "<style scoped>\n",
       "    .dataframe tbody tr th:only-of-type {\n",
       "        vertical-align: middle;\n",
       "    }\n",
       "\n",
       "    .dataframe tbody tr th {\n",
       "        vertical-align: top;\n",
       "    }\n",
       "\n",
       "    .dataframe thead th {\n",
       "        text-align: right;\n",
       "    }\n",
       "</style>\n",
       "<table border=\"1\" class=\"dataframe\">\n",
       "  <thead>\n",
       "    <tr style=\"text-align: right;\">\n",
       "      <th></th>\n",
       "      <th>Modelo</th>\n",
       "      <th>Global Accuracy</th>\n",
       "      <th>Global Error</th>\n",
       "      <th>Positive Precision</th>\n",
       "      <th>Negative Precision</th>\n",
       "      <th>False Positives</th>\n",
       "      <th>False Negatives</th>\n",
       "      <th>Positive Assertivity</th>\n",
       "      <th>Negative Assertivity</th>\n",
       "    </tr>\n",
       "  </thead>\n",
       "  <tbody>\n",
       "    <tr>\n",
       "      <th>0</th>\n",
       "      <td>KNN</td>\n",
       "      <td>0.875556</td>\n",
       "      <td>0.124444</td>\n",
       "      <td>0.895238</td>\n",
       "      <td>0.858333</td>\n",
       "      <td>0.141667</td>\n",
       "      <td>0.104762</td>\n",
       "      <td>0.846847</td>\n",
       "      <td>0.903509</td>\n",
       "    </tr>\n",
       "    <tr>\n",
       "      <th>1</th>\n",
       "      <td>KNN</td>\n",
       "      <td>0.884444</td>\n",
       "      <td>0.115556</td>\n",
       "      <td>0.843478</td>\n",
       "      <td>0.927273</td>\n",
       "      <td>0.072727</td>\n",
       "      <td>0.156522</td>\n",
       "      <td>0.92381</td>\n",
       "      <td>0.85</td>\n",
       "    </tr>\n",
       "    <tr>\n",
       "      <th>2</th>\n",
       "      <td>Decision Tree</td>\n",
       "      <td>0.838889</td>\n",
       "      <td>0.161111</td>\n",
       "      <td>0.822222</td>\n",
       "      <td>0.855556</td>\n",
       "      <td>0.144444</td>\n",
       "      <td>0.177778</td>\n",
       "      <td>0.850575</td>\n",
       "      <td>0.827957</td>\n",
       "    </tr>\n",
       "    <tr>\n",
       "      <th>3</th>\n",
       "      <td>RandomForest</td>\n",
       "      <td>0.830868</td>\n",
       "      <td>0.169132</td>\n",
       "      <td>0.361194</td>\n",
       "      <td>0.959836</td>\n",
       "      <td>0.040164</td>\n",
       "      <td>0.638806</td>\n",
       "      <td>0.711765</td>\n",
       "      <td>0.845487</td>\n",
       "    </tr>\n",
       "    <tr>\n",
       "      <th>4</th>\n",
       "      <td>AdaBoost</td>\n",
       "      <td>0.778378</td>\n",
       "      <td>0.221622</td>\n",
       "      <td>0.488971</td>\n",
       "      <td>0.855327</td>\n",
       "      <td>0.144673</td>\n",
       "      <td>0.511029</td>\n",
       "      <td>0.47331</td>\n",
       "      <td>0.862919</td>\n",
       "    </tr>\n",
       "    <tr>\n",
       "      <th>5</th>\n",
       "      <td>GradientBoosting</td>\n",
       "      <td>0.820077</td>\n",
       "      <td>0.179923</td>\n",
       "      <td>0.380137</td>\n",
       "      <td>0.948156</td>\n",
       "      <td>0.051844</td>\n",
       "      <td>0.619863</td>\n",
       "      <td>0.680982</td>\n",
       "      <td>0.840106</td>\n",
       "    </tr>\n",
       "    <tr>\n",
       "      <th>6</th>\n",
       "      <td>RandomForest</td>\n",
       "      <td>0.83537</td>\n",
       "      <td>0.16463</td>\n",
       "      <td>0.33121</td>\n",
       "      <td>0.962933</td>\n",
       "      <td>0.037067</td>\n",
       "      <td>0.66879</td>\n",
       "      <td>0.693333</td>\n",
       "      <td>0.850534</td>\n",
       "    </tr>\n",
       "    <tr>\n",
       "      <th>7</th>\n",
       "      <td>AdaBoost</td>\n",
       "      <td>0.76139</td>\n",
       "      <td>0.23861</td>\n",
       "      <td>0.418868</td>\n",
       "      <td>0.849515</td>\n",
       "      <td>0.150485</td>\n",
       "      <td>0.581132</td>\n",
       "      <td>0.417293</td>\n",
       "      <td>0.85034</td>\n",
       "    </tr>\n",
       "    <tr>\n",
       "      <th>8</th>\n",
       "      <td>GradientBoosting</td>\n",
       "      <td>0.848649</td>\n",
       "      <td>0.151351</td>\n",
       "      <td>0.37395</td>\n",
       "      <td>0.955535</td>\n",
       "      <td>0.044465</td>\n",
       "      <td>0.62605</td>\n",
       "      <td>0.654412</td>\n",
       "      <td>0.871441</td>\n",
       "    </tr>\n",
       "    <tr>\n",
       "      <th>9</th>\n",
       "      <td>SVM Linear C=1, gamma=0.1 raisin</td>\n",
       "      <td>0.875556</td>\n",
       "      <td>0.124444</td>\n",
       "      <td>0.911765</td>\n",
       "      <td>0.845528</td>\n",
       "      <td>0.154472</td>\n",
       "      <td>0.088235</td>\n",
       "      <td>0.830357</td>\n",
       "      <td>0.920354</td>\n",
       "    </tr>\n",
       "  </tbody>\n",
       "</table>\n",
       "</div>"
      ],
      "text/plain": [
       "                             Modelo Global Accuracy Global Error  \\\n",
       "0                               KNN        0.875556     0.124444   \n",
       "1                               KNN        0.884444     0.115556   \n",
       "2                     Decision Tree        0.838889     0.161111   \n",
       "3                      RandomForest        0.830868     0.169132   \n",
       "4                          AdaBoost        0.778378     0.221622   \n",
       "5                  GradientBoosting        0.820077     0.179923   \n",
       "6                      RandomForest         0.83537      0.16463   \n",
       "7                          AdaBoost         0.76139      0.23861   \n",
       "8                  GradientBoosting        0.848649     0.151351   \n",
       "9  SVM Linear C=1, gamma=0.1 raisin        0.875556     0.124444   \n",
       "\n",
       "  Positive Precision Negative Precision False Positives False Negatives  \\\n",
       "0           0.895238           0.858333        0.141667        0.104762   \n",
       "1           0.843478           0.927273        0.072727        0.156522   \n",
       "2           0.822222           0.855556        0.144444        0.177778   \n",
       "3           0.361194           0.959836        0.040164        0.638806   \n",
       "4           0.488971           0.855327        0.144673        0.511029   \n",
       "5           0.380137           0.948156        0.051844        0.619863   \n",
       "6            0.33121           0.962933        0.037067         0.66879   \n",
       "7           0.418868           0.849515        0.150485        0.581132   \n",
       "8            0.37395           0.955535        0.044465         0.62605   \n",
       "9           0.911765           0.845528        0.154472        0.088235   \n",
       "\n",
       "  Positive Assertivity Negative Assertivity  \n",
       "0             0.846847             0.903509  \n",
       "1              0.92381                 0.85  \n",
       "2             0.850575             0.827957  \n",
       "3             0.711765             0.845487  \n",
       "4              0.47331             0.862919  \n",
       "5             0.680982             0.840106  \n",
       "6             0.693333             0.850534  \n",
       "7             0.417293              0.85034  \n",
       "8             0.654412             0.871441  \n",
       "9             0.830357             0.920354  "
      ]
     },
     "execution_count": 136,
     "metadata": {},
     "output_type": "execute_result"
    }
   ],
   "source": [
    "df_matrix.head(10)"
   ]
  },
  {
   "cell_type": "markdown",
   "metadata": {},
   "source": [
    "KNN Y SVM (Linear) con 87 % de precisión global, sigue siendo el mejor para analisar la tabla raisin.csv. En precisión Positiva El mejor es Random Forest y en cuanto a la precisión Negativa es el SVM. Dependería de loque buscamos predecír en ese caso."
   ]
  },
  {
   "cell_type": "markdown",
   "metadata": {},
   "source": [
    "## Ejercicio 2: [45 puntos] En este ejercicio usaremos la tabla de datos abandono clientes.csv, que contiene los detalles de los clientes de un banco"
   ]
  },
  {
   "cell_type": "markdown",
   "metadata": {},
   "source": [
    "1. Cargue en Python la tabla de datos abandono clientes.csv"
   ]
  },
  {
   "cell_type": "code",
   "execution_count": 21,
   "metadata": {},
   "outputs": [
    {
     "data": {
      "text/html": [
       "<div>\n",
       "<style scoped>\n",
       "    .dataframe tbody tr th:only-of-type {\n",
       "        vertical-align: middle;\n",
       "    }\n",
       "\n",
       "    .dataframe tbody tr th {\n",
       "        vertical-align: top;\n",
       "    }\n",
       "\n",
       "    .dataframe thead th {\n",
       "        text-align: right;\n",
       "    }\n",
       "</style>\n",
       "<table border=\"1\" class=\"dataframe\">\n",
       "  <thead>\n",
       "    <tr style=\"text-align: right;\">\n",
       "      <th></th>\n",
       "      <th>CreditScore</th>\n",
       "      <th>Geography</th>\n",
       "      <th>Gender</th>\n",
       "      <th>Age</th>\n",
       "      <th>Tenure</th>\n",
       "      <th>Balance</th>\n",
       "      <th>NumOfProducts</th>\n",
       "      <th>HasCrCard</th>\n",
       "      <th>IsActiveMember</th>\n",
       "      <th>EstimatedSalary</th>\n",
       "      <th>Exited</th>\n",
       "    </tr>\n",
       "  </thead>\n",
       "  <tbody>\n",
       "    <tr>\n",
       "      <th>1</th>\n",
       "      <td>619</td>\n",
       "      <td>France</td>\n",
       "      <td>Female</td>\n",
       "      <td>42</td>\n",
       "      <td>2</td>\n",
       "      <td>0.00</td>\n",
       "      <td>1</td>\n",
       "      <td>Si</td>\n",
       "      <td>Si</td>\n",
       "      <td>101348.88</td>\n",
       "      <td>Si</td>\n",
       "    </tr>\n",
       "    <tr>\n",
       "      <th>2</th>\n",
       "      <td>608</td>\n",
       "      <td>Spain</td>\n",
       "      <td>Female</td>\n",
       "      <td>41</td>\n",
       "      <td>1</td>\n",
       "      <td>83807.86</td>\n",
       "      <td>1</td>\n",
       "      <td>No</td>\n",
       "      <td>Si</td>\n",
       "      <td>112542.58</td>\n",
       "      <td>No</td>\n",
       "    </tr>\n",
       "    <tr>\n",
       "      <th>3</th>\n",
       "      <td>502</td>\n",
       "      <td>France</td>\n",
       "      <td>Female</td>\n",
       "      <td>42</td>\n",
       "      <td>8</td>\n",
       "      <td>159660.80</td>\n",
       "      <td>3</td>\n",
       "      <td>Si</td>\n",
       "      <td>No</td>\n",
       "      <td>113931.57</td>\n",
       "      <td>Si</td>\n",
       "    </tr>\n",
       "    <tr>\n",
       "      <th>4</th>\n",
       "      <td>699</td>\n",
       "      <td>France</td>\n",
       "      <td>Female</td>\n",
       "      <td>39</td>\n",
       "      <td>1</td>\n",
       "      <td>0.00</td>\n",
       "      <td>2</td>\n",
       "      <td>No</td>\n",
       "      <td>No</td>\n",
       "      <td>93826.63</td>\n",
       "      <td>No</td>\n",
       "    </tr>\n",
       "    <tr>\n",
       "      <th>5</th>\n",
       "      <td>850</td>\n",
       "      <td>Spain</td>\n",
       "      <td>Female</td>\n",
       "      <td>43</td>\n",
       "      <td>2</td>\n",
       "      <td>125510.82</td>\n",
       "      <td>1</td>\n",
       "      <td>Si</td>\n",
       "      <td>Si</td>\n",
       "      <td>79084.10</td>\n",
       "      <td>No</td>\n",
       "    </tr>\n",
       "  </tbody>\n",
       "</table>\n",
       "</div>"
      ],
      "text/plain": [
       "   CreditScore Geography  Gender  Age  Tenure    Balance  NumOfProducts  \\\n",
       "1          619    France  Female   42       2       0.00              1   \n",
       "2          608     Spain  Female   41       1   83807.86              1   \n",
       "3          502    France  Female   42       8  159660.80              3   \n",
       "4          699    France  Female   39       1       0.00              2   \n",
       "5          850     Spain  Female   43       2  125510.82              1   \n",
       "\n",
       "  HasCrCard IsActiveMember  EstimatedSalary Exited  \n",
       "1        Si             Si        101348.88     Si  \n",
       "2        No             Si        112542.58     No  \n",
       "3        Si             No        113931.57     Si  \n",
       "4        No             No         93826.63     No  \n",
       "5        Si             Si         79084.10     No  "
      ]
     },
     "execution_count": 21,
     "metadata": {},
     "output_type": "execute_result"
    }
   ],
   "source": [
    "df_clientes = pd.read_csv('abandono_clientes.csv', index_col=0)\n",
    "df_clientes.head()"
   ]
  },
  {
   "cell_type": "markdown",
   "metadata": {},
   "source": [
    "2. Use Maquinas de Soporte Vectorial en Python (con los par ́ametros por defecto) para generar un modelo predictivo para la tabla abandono clientes.csv usando el 75 % de\n",
    "los datos para la tabla aprendizaje y un 25 % para la tabla testing, luego calcule para los datos de testing la matriz de confusion, la precisi ́on global y la precisi ́on para cada una\n",
    "de las dos categorıas. ¿Son buenos los resultados? Explique."
   ]
  },
  {
   "cell_type": "code",
   "execution_count": 22,
   "metadata": {},
   "outputs": [],
   "source": [
    "analisis_clientes_ = Analisis_Predictivo(df_clientes, predecir='Exited')"
   ]
  },
  {
   "cell_type": "code",
   "execution_count": 23,
   "metadata": {},
   "outputs": [
    {
     "data": {
      "image/png": "[encoded data removed]",
      "image/svg+xml": "<?xml version=\"1.0\" encoding=\"utf-8\" standalone=\"no\"?>\r\n<!DOCTYPE svg PUBLIC \"-//W3C//DTD SVG 1.1//EN\"\r\n  \"http://www.w3.org/Graphics/SVG/1.1/DTD/svg11.dtd\">\r\n<svg height=\"372.35625pt\" version=\"1.1\" viewBox=\"0 0 783.046125 372.35625\" width=\"783.046125pt\" xmlns=\"http://www.w3.org/2000/svg\" xmlns:xlink=\"http://www.w3.org/1999/xlink\">\r\n <metadata>\r\n  <rdf:RDF xmlns:cc=\"http://creativecommons.org/ns#\" xmlns:dc=\"http://purl.org/dc/elements/1.1/\" xmlns:rdf=\"http://www.w3.org/1999/02/22-rdf-syntax-ns#\">\r\n   <cc:Work>\r\n    <dc:type rdf:resource=\"http://purl.org/dc/dcmitype/StillImage\"/>\r\n    <dc:date>2022-05-18T19:53:49.046510</dc:date>\r\n    <dc:format>image/svg+xml</dc:format>\r\n    <dc:creator>\r\n     <cc:Agent>\r\n      <dc:title>Matplotlib v3.4.3, https://matplotlib.org/</dc:title>\r\n     </cc:Agent>\r\n    </dc:creator>\r\n   </cc:Work>\r\n  </rdf:RDF>\r\n </metadata>\r\n <defs>\r\n  <style type=\"text/css\">*{stroke-linecap:butt;stroke-linejoin:round;}</style>\r\n </defs>\r\n <g id=\"figure_1\">\r\n  <g id=\"patch_1\">\r\n   <path d=\"M 0 372.35625 \r\nL 783.046125 372.35625 \r\nL 783.046125 0 \r\nL 0 0 \r\nz\r\n\" style=\"fill:none;\"/>\r\n  </g>\r\n  <g id=\"axes_1\">\r\n   <g id=\"patch_2\">\r\n    <path d=\"M 27.878125 348.478125 \r\nL 697.478125 348.478125 \r\nL 697.478125 22.318125 \r\nL 27.878125 22.318125 \r\nz\r\n\" style=\"fill:#ffffff;\"/>\r\n   </g>\r\n   <g id=\"patch_3\">\r\n    <path clip-path=\"url(#pf00eddf3b3)\" d=\"M 27.878125 333.65267 \r\nL 562.523994 333.65267 \r\nL 562.523994 37.14358 \r\nL 27.878125 37.14358 \r\nz\r\n\" style=\"fill:#a52a2a;\"/>\r\n   </g>\r\n   <g id=\"patch_4\">\r\n    <path clip-path=\"url(#pf00eddf3b3)\" d=\"M 562.523994 333.65267 \r\nL 697.478125 333.65267 \r\nL 697.478125 37.14358 \r\nL 562.523994 37.14358 \r\nz\r\n\" style=\"fill:#deb887;\"/>\r\n   </g>\r\n   <g id=\"matplotlib.axis_1\">\r\n    <g id=\"xtick_1\">\r\n     <g id=\"line2d_1\">\r\n      <defs>\r\n       <path d=\"M 0 0 \r\nL 0 3.5 \r\n\" id=\"me0fb8fb4d5\" style=\"stroke:#000000;stroke-width:0.8;\"/>\r\n      </defs>\r\n      <g>\r\n       <use style=\"stroke:#000000;stroke-width:0.8;\" x=\"27.878125\" xlink:href=\"#me0fb8fb4d5\" y=\"348.478125\"/>\r\n      </g>\r\n     </g>\r\n     <g id=\"text_1\">\r\n      <!-- 0% -->\r\n      <g transform=\"translate(19.946094 363.076563)scale(0.1 -0.1)\">\r\n       <defs>\r\n        <path d=\"M 2034 4250 \r\nQ 1547 4250 1301 3770 \r\nQ 1056 3291 1056 2328 \r\nQ 1056 1369 1301 889 \r\nQ 1547 409 2034 409 \r\nQ 2525 409 2770 889 \r\nQ 3016 1369 3016 2328 \r\nQ 3016 3291 2770 3770 \r\nQ 2525 4250 2034 4250 \r\nz\r\nM 2034 4750 \r\nQ 2819 4750 3233 4129 \r\nQ 3647 3509 3647 2328 \r\nQ 3647 1150 3233 529 \r\nQ 2819 -91 2034 -91 \r\nQ 1250 -91 836 529 \r\nQ 422 1150 422 2328 \r\nQ 422 3509 836 4129 \r\nQ 1250 4750 2034 4750 \r\nz\r\n\" id=\"DejaVuSans-30\" transform=\"scale(0.015625)\"/>\r\n        <path d=\"M 4653 2053 \r\nQ 4381 2053 4226 1822 \r\nQ 4072 1591 4072 1178 \r\nQ 4072 772 4226 539 \r\nQ 4381 306 4653 306 \r\nQ 4919 306 5073 539 \r\nQ 5228 772 5228 1178 \r\nQ 5228 1588 5073 1820 \r\nQ 4919 2053 4653 2053 \r\nz\r\nM 4653 2450 \r\nQ 5147 2450 5437 2106 \r\nQ 5728 1763 5728 1178 \r\nQ 5728 594 5436 251 \r\nQ 5144 -91 4653 -91 \r\nQ 4153 -91 3862 251 \r\nQ 3572 594 3572 1178 \r\nQ 3572 1766 3864 2108 \r\nQ 4156 2450 4653 2450 \r\nz\r\nM 1428 4353 \r\nQ 1159 4353 1004 4120 \r\nQ 850 3888 850 3481 \r\nQ 850 3069 1003 2837 \r\nQ 1156 2606 1428 2606 \r\nQ 1700 2606 1854 2837 \r\nQ 2009 3069 2009 3481 \r\nQ 2009 3884 1853 4118 \r\nQ 1697 4353 1428 4353 \r\nz\r\nM 4250 4750 \r\nL 4750 4750 \r\nL 1831 -91 \r\nL 1331 -91 \r\nL 4250 4750 \r\nz\r\nM 1428 4750 \r\nQ 1922 4750 2215 4408 \r\nQ 2509 4066 2509 3481 \r\nQ 2509 2891 2217 2550 \r\nQ 1925 2209 1428 2209 \r\nQ 931 2209 642 2551 \r\nQ 353 2894 353 3481 \r\nQ 353 4063 643 4406 \r\nQ 934 4750 1428 4750 \r\nz\r\n\" id=\"DejaVuSans-25\" transform=\"scale(0.015625)\"/>\r\n       </defs>\r\n       <use xlink:href=\"#DejaVuSans-30\"/>\r\n       <use x=\"63.623047\" xlink:href=\"#DejaVuSans-25\"/>\r\n      </g>\r\n     </g>\r\n    </g>\r\n    <g id=\"xtick_2\">\r\n     <g id=\"line2d_2\">\r\n      <g>\r\n       <use style=\"stroke:#000000;stroke-width:0.8;\" x=\"161.798125\" xlink:href=\"#me0fb8fb4d5\" y=\"348.478125\"/>\r\n      </g>\r\n     </g>\r\n     <g id=\"text_2\">\r\n      <!-- 20% -->\r\n      <g transform=\"translate(150.684844 363.076563)scale(0.1 -0.1)\">\r\n       <defs>\r\n        <path d=\"M 1228 531 \r\nL 3431 531 \r\nL 3431 0 \r\nL 469 0 \r\nL 469 531 \r\nQ 828 903 1448 1529 \r\nQ 2069 2156 2228 2338 \r\nQ 2531 2678 2651 2914 \r\nQ 2772 3150 2772 3378 \r\nQ 2772 3750 2511 3984 \r\nQ 2250 4219 1831 4219 \r\nQ 1534 4219 1204 4116 \r\nQ 875 4013 500 3803 \r\nL 500 4441 \r\nQ 881 4594 1212 4672 \r\nQ 1544 4750 1819 4750 \r\nQ 2544 4750 2975 4387 \r\nQ 3406 4025 3406 3419 \r\nQ 3406 3131 3298 2873 \r\nQ 3191 2616 2906 2266 \r\nQ 2828 2175 2409 1742 \r\nQ 1991 1309 1228 531 \r\nz\r\n\" id=\"DejaVuSans-32\" transform=\"scale(0.015625)\"/>\r\n       </defs>\r\n       <use xlink:href=\"#DejaVuSans-32\"/>\r\n       <use x=\"63.623047\" xlink:href=\"#DejaVuSans-30\"/>\r\n       <use x=\"127.246094\" xlink:href=\"#DejaVuSans-25\"/>\r\n      </g>\r\n     </g>\r\n    </g>\r\n    <g id=\"xtick_3\">\r\n     <g id=\"line2d_3\">\r\n      <g>\r\n       <use style=\"stroke:#000000;stroke-width:0.8;\" x=\"295.718125\" xlink:href=\"#me0fb8fb4d5\" y=\"348.478125\"/>\r\n      </g>\r\n     </g>\r\n     <g id=\"text_3\">\r\n      <!-- 40% -->\r\n      <g transform=\"translate(284.604844 363.076563)scale(0.1 -0.1)\">\r\n       <defs>\r\n        <path d=\"M 2419 4116 \r\nL 825 1625 \r\nL 2419 1625 \r\nL 2419 4116 \r\nz\r\nM 2253 4666 \r\nL 3047 4666 \r\nL 3047 1625 \r\nL 3713 1625 \r\nL 3713 1100 \r\nL 3047 1100 \r\nL 3047 0 \r\nL 2419 0 \r\nL 2419 1100 \r\nL 313 1100 \r\nL 313 1709 \r\nL 2253 4666 \r\nz\r\n\" id=\"DejaVuSans-34\" transform=\"scale(0.015625)\"/>\r\n       </defs>\r\n       <use xlink:href=\"#DejaVuSans-34\"/>\r\n       <use x=\"63.623047\" xlink:href=\"#DejaVuSans-30\"/>\r\n       <use x=\"127.246094\" xlink:href=\"#DejaVuSans-25\"/>\r\n      </g>\r\n     </g>\r\n    </g>\r\n    <g id=\"xtick_4\">\r\n     <g id=\"line2d_4\">\r\n      <g>\r\n       <use style=\"stroke:#000000;stroke-width:0.8;\" x=\"429.638125\" xlink:href=\"#me0fb8fb4d5\" y=\"348.478125\"/>\r\n      </g>\r\n     </g>\r\n     <g id=\"text_4\">\r\n      <!-- 60% -->\r\n      <g transform=\"translate(418.524844 363.076563)scale(0.1 -0.1)\">\r\n       <defs>\r\n        <path d=\"M 2113 2584 \r\nQ 1688 2584 1439 2293 \r\nQ 1191 2003 1191 1497 \r\nQ 1191 994 1439 701 \r\nQ 1688 409 2113 409 \r\nQ 2538 409 2786 701 \r\nQ 3034 994 3034 1497 \r\nQ 3034 2003 2786 2293 \r\nQ 2538 2584 2113 2584 \r\nz\r\nM 3366 4563 \r\nL 3366 3988 \r\nQ 3128 4100 2886 4159 \r\nQ 2644 4219 2406 4219 \r\nQ 1781 4219 1451 3797 \r\nQ 1122 3375 1075 2522 \r\nQ 1259 2794 1537 2939 \r\nQ 1816 3084 2150 3084 \r\nQ 2853 3084 3261 2657 \r\nQ 3669 2231 3669 1497 \r\nQ 3669 778 3244 343 \r\nQ 2819 -91 2113 -91 \r\nQ 1303 -91 875 529 \r\nQ 447 1150 447 2328 \r\nQ 447 3434 972 4092 \r\nQ 1497 4750 2381 4750 \r\nQ 2619 4750 2861 4703 \r\nQ 3103 4656 3366 4563 \r\nz\r\n\" id=\"DejaVuSans-36\" transform=\"scale(0.015625)\"/>\r\n       </defs>\r\n       <use xlink:href=\"#DejaVuSans-36\"/>\r\n       <use x=\"63.623047\" xlink:href=\"#DejaVuSans-30\"/>\r\n       <use x=\"127.246094\" xlink:href=\"#DejaVuSans-25\"/>\r\n      </g>\r\n     </g>\r\n    </g>\r\n    <g id=\"xtick_5\">\r\n     <g id=\"line2d_5\">\r\n      <g>\r\n       <use style=\"stroke:#000000;stroke-width:0.8;\" x=\"563.558125\" xlink:href=\"#me0fb8fb4d5\" y=\"348.478125\"/>\r\n      </g>\r\n     </g>\r\n     <g id=\"text_5\">\r\n      <!-- 80% -->\r\n      <g transform=\"translate(552.444844 363.076563)scale(0.1 -0.1)\">\r\n       <defs>\r\n        <path d=\"M 2034 2216 \r\nQ 1584 2216 1326 1975 \r\nQ 1069 1734 1069 1313 \r\nQ 1069 891 1326 650 \r\nQ 1584 409 2034 409 \r\nQ 2484 409 2743 651 \r\nQ 3003 894 3003 1313 \r\nQ 3003 1734 2745 1975 \r\nQ 2488 2216 2034 2216 \r\nz\r\nM 1403 2484 \r\nQ 997 2584 770 2862 \r\nQ 544 3141 544 3541 \r\nQ 544 4100 942 4425 \r\nQ 1341 4750 2034 4750 \r\nQ 2731 4750 3128 4425 \r\nQ 3525 4100 3525 3541 \r\nQ 3525 3141 3298 2862 \r\nQ 3072 2584 2669 2484 \r\nQ 3125 2378 3379 2068 \r\nQ 3634 1759 3634 1313 \r\nQ 3634 634 3220 271 \r\nQ 2806 -91 2034 -91 \r\nQ 1263 -91 848 271 \r\nQ 434 634 434 1313 \r\nQ 434 1759 690 2068 \r\nQ 947 2378 1403 2484 \r\nz\r\nM 1172 3481 \r\nQ 1172 3119 1398 2916 \r\nQ 1625 2713 2034 2713 \r\nQ 2441 2713 2670 2916 \r\nQ 2900 3119 2900 3481 \r\nQ 2900 3844 2670 4047 \r\nQ 2441 4250 2034 4250 \r\nQ 1625 4250 1398 4047 \r\nQ 1172 3844 1172 3481 \r\nz\r\n\" id=\"DejaVuSans-38\" transform=\"scale(0.015625)\"/>\r\n       </defs>\r\n       <use xlink:href=\"#DejaVuSans-38\"/>\r\n       <use x=\"63.623047\" xlink:href=\"#DejaVuSans-30\"/>\r\n       <use x=\"127.246094\" xlink:href=\"#DejaVuSans-25\"/>\r\n      </g>\r\n     </g>\r\n    </g>\r\n    <g id=\"xtick_6\">\r\n     <g id=\"line2d_6\">\r\n      <g>\r\n       <use style=\"stroke:#000000;stroke-width:0.8;\" x=\"697.478125\" xlink:href=\"#me0fb8fb4d5\" y=\"348.478125\"/>\r\n      </g>\r\n     </g>\r\n     <g id=\"text_6\">\r\n      <!-- 100% -->\r\n      <g transform=\"translate(683.183594 363.076563)scale(0.1 -0.1)\">\r\n       <defs>\r\n        <path d=\"M 794 531 \r\nL 1825 531 \r\nL 1825 4091 \r\nL 703 3866 \r\nL 703 4441 \r\nL 1819 4666 \r\nL 2450 4666 \r\nL 2450 531 \r\nL 3481 531 \r\nL 3481 0 \r\nL 794 0 \r\nL 794 531 \r\nz\r\n\" id=\"DejaVuSans-31\" transform=\"scale(0.015625)\"/>\r\n       </defs>\r\n       <use xlink:href=\"#DejaVuSans-31\"/>\r\n       <use x=\"63.623047\" xlink:href=\"#DejaVuSans-30\"/>\r\n       <use x=\"127.246094\" xlink:href=\"#DejaVuSans-30\"/>\r\n       <use x=\"190.869141\" xlink:href=\"#DejaVuSans-25\"/>\r\n      </g>\r\n     </g>\r\n    </g>\r\n   </g>\r\n   <g id=\"matplotlib.axis_2\">\r\n    <g id=\"ytick_1\">\r\n     <g id=\"line2d_7\">\r\n      <defs>\r\n       <path d=\"M 0 0 \r\nL -3.5 0 \r\n\" id=\"me86cad6f77\" style=\"stroke:#000000;stroke-width:0.8;\"/>\r\n      </defs>\r\n      <g>\r\n       <use style=\"stroke:#000000;stroke-width:0.8;\" x=\"27.878125\" xlink:href=\"#me86cad6f77\" y=\"333.65267\"/>\r\n      </g>\r\n     </g>\r\n    </g>\r\n    <g id=\"ytick_2\">\r\n     <g id=\"line2d_8\">\r\n      <g>\r\n       <use style=\"stroke:#000000;stroke-width:0.8;\" x=\"27.878125\" xlink:href=\"#me86cad6f77\" y=\"296.589034\"/>\r\n      </g>\r\n     </g>\r\n    </g>\r\n    <g id=\"ytick_3\">\r\n     <g id=\"line2d_9\">\r\n      <g>\r\n       <use style=\"stroke:#000000;stroke-width:0.8;\" x=\"27.878125\" xlink:href=\"#me86cad6f77\" y=\"259.525398\"/>\r\n      </g>\r\n     </g>\r\n    </g>\r\n    <g id=\"ytick_4\">\r\n     <g id=\"line2d_10\">\r\n      <g>\r\n       <use style=\"stroke:#000000;stroke-width:0.8;\" x=\"27.878125\" xlink:href=\"#me86cad6f77\" y=\"222.461761\"/>\r\n      </g>\r\n     </g>\r\n    </g>\r\n    <g id=\"ytick_5\">\r\n     <g id=\"line2d_11\">\r\n      <g>\r\n       <use style=\"stroke:#000000;stroke-width:0.8;\" x=\"27.878125\" xlink:href=\"#me86cad6f77\" y=\"185.398125\"/>\r\n      </g>\r\n     </g>\r\n    </g>\r\n    <g id=\"ytick_6\">\r\n     <g id=\"line2d_12\">\r\n      <g>\r\n       <use style=\"stroke:#000000;stroke-width:0.8;\" x=\"27.878125\" xlink:href=\"#me86cad6f77\" y=\"148.334489\"/>\r\n      </g>\r\n     </g>\r\n    </g>\r\n    <g id=\"ytick_7\">\r\n     <g id=\"line2d_13\">\r\n      <g>\r\n       <use style=\"stroke:#000000;stroke-width:0.8;\" x=\"27.878125\" xlink:href=\"#me86cad6f77\" y=\"111.270852\"/>\r\n      </g>\r\n     </g>\r\n    </g>\r\n    <g id=\"ytick_8\">\r\n     <g id=\"line2d_14\">\r\n      <g>\r\n       <use style=\"stroke:#000000;stroke-width:0.8;\" x=\"27.878125\" xlink:href=\"#me86cad6f77\" y=\"74.207216\"/>\r\n      </g>\r\n     </g>\r\n    </g>\r\n    <g id=\"ytick_9\">\r\n     <g id=\"line2d_15\">\r\n      <g>\r\n       <use style=\"stroke:#000000;stroke-width:0.8;\" x=\"27.878125\" xlink:href=\"#me86cad6f77\" y=\"37.14358\"/>\r\n      </g>\r\n     </g>\r\n    </g>\r\n    <g id=\"text_7\">\r\n     <!-- Exited -->\r\n     <g transform=\"translate(14.798438 201.116875)rotate(-90)scale(0.1 -0.1)\">\r\n      <defs>\r\n       <path d=\"M 628 4666 \r\nL 3578 4666 \r\nL 3578 4134 \r\nL 1259 4134 \r\nL 1259 2753 \r\nL 3481 2753 \r\nL 3481 2222 \r\nL 1259 2222 \r\nL 1259 531 \r\nL 3634 531 \r\nL 3634 0 \r\nL 628 0 \r\nL 628 4666 \r\nz\r\n\" id=\"DejaVuSans-45\" transform=\"scale(0.015625)\"/>\r\n       <path d=\"M 3513 3500 \r\nL 2247 1797 \r\nL 3578 0 \r\nL 2900 0 \r\nL 1881 1375 \r\nL 863 0 \r\nL 184 0 \r\nL 1544 1831 \r\nL 300 3500 \r\nL 978 3500 \r\nL 1906 2253 \r\nL 2834 3500 \r\nL 3513 3500 \r\nz\r\n\" id=\"DejaVuSans-78\" transform=\"scale(0.015625)\"/>\r\n       <path d=\"M 603 3500 \r\nL 1178 3500 \r\nL 1178 0 \r\nL 603 0 \r\nL 603 3500 \r\nz\r\nM 603 4863 \r\nL 1178 4863 \r\nL 1178 4134 \r\nL 603 4134 \r\nL 603 4863 \r\nz\r\n\" id=\"DejaVuSans-69\" transform=\"scale(0.015625)\"/>\r\n       <path d=\"M 1172 4494 \r\nL 1172 3500 \r\nL 2356 3500 \r\nL 2356 3053 \r\nL 1172 3053 \r\nL 1172 1153 \r\nQ 1172 725 1289 603 \r\nQ 1406 481 1766 481 \r\nL 2356 481 \r\nL 2356 0 \r\nL 1766 0 \r\nQ 1100 0 847 248 \r\nQ 594 497 594 1153 \r\nL 594 3053 \r\nL 172 3053 \r\nL 172 3500 \r\nL 594 3500 \r\nL 594 4494 \r\nL 1172 4494 \r\nz\r\n\" id=\"DejaVuSans-74\" transform=\"scale(0.015625)\"/>\r\n       <path d=\"M 3597 1894 \r\nL 3597 1613 \r\nL 953 1613 \r\nQ 991 1019 1311 708 \r\nQ 1631 397 2203 397 \r\nQ 2534 397 2845 478 \r\nQ 3156 559 3463 722 \r\nL 3463 178 \r\nQ 3153 47 2828 -22 \r\nQ 2503 -91 2169 -91 \r\nQ 1331 -91 842 396 \r\nQ 353 884 353 1716 \r\nQ 353 2575 817 3079 \r\nQ 1281 3584 2069 3584 \r\nQ 2775 3584 3186 3129 \r\nQ 3597 2675 3597 1894 \r\nz\r\nM 3022 2063 \r\nQ 3016 2534 2758 2815 \r\nQ 2500 3097 2075 3097 \r\nQ 1594 3097 1305 2825 \r\nQ 1016 2553 972 2059 \r\nL 3022 2063 \r\nz\r\n\" id=\"DejaVuSans-65\" transform=\"scale(0.015625)\"/>\r\n       <path d=\"M 2906 2969 \r\nL 2906 4863 \r\nL 3481 4863 \r\nL 3481 0 \r\nL 2906 0 \r\nL 2906 525 \r\nQ 2725 213 2448 61 \r\nQ 2172 -91 1784 -91 \r\nQ 1150 -91 751 415 \r\nQ 353 922 353 1747 \r\nQ 353 2572 751 3078 \r\nQ 1150 3584 1784 3584 \r\nQ 2172 3584 2448 3432 \r\nQ 2725 3281 2906 2969 \r\nz\r\nM 947 1747 \r\nQ 947 1113 1208 752 \r\nQ 1469 391 1925 391 \r\nQ 2381 391 2643 752 \r\nQ 2906 1113 2906 1747 \r\nQ 2906 2381 2643 2742 \r\nQ 2381 3103 1925 3103 \r\nQ 1469 3103 1208 2742 \r\nQ 947 2381 947 1747 \r\nz\r\n\" id=\"DejaVuSans-64\" transform=\"scale(0.015625)\"/>\r\n      </defs>\r\n      <use xlink:href=\"#DejaVuSans-45\"/>\r\n      <use x=\"63.183594\" xlink:href=\"#DejaVuSans-78\"/>\r\n      <use x=\"122.363281\" xlink:href=\"#DejaVuSans-69\"/>\r\n      <use x=\"150.146484\" xlink:href=\"#DejaVuSans-74\"/>\r\n      <use x=\"189.355469\" xlink:href=\"#DejaVuSans-65\"/>\r\n      <use x=\"250.878906\" xlink:href=\"#DejaVuSans-64\"/>\r\n     </g>\r\n    </g>\r\n   </g>\r\n   <g id=\"patch_5\">\r\n    <path d=\"M 27.878125 348.478125 \r\nL 27.878125 22.318125 \r\n\" style=\"fill:none;stroke:#000000;stroke-linecap:square;stroke-linejoin:miter;stroke-width:0.8;\"/>\r\n   </g>\r\n   <g id=\"patch_6\">\r\n    <path d=\"M 697.478125 348.478125 \r\nL 697.478125 22.318125 \r\n\" style=\"fill:none;stroke:#000000;stroke-linecap:square;stroke-linejoin:miter;stroke-width:0.8;\"/>\r\n   </g>\r\n   <g id=\"patch_7\">\r\n    <path d=\"M 27.878125 348.478125 \r\nL 697.478125 348.478125 \r\n\" style=\"fill:none;stroke:#000000;stroke-linecap:square;stroke-linejoin:miter;stroke-width:0.8;\"/>\r\n   </g>\r\n   <g id=\"patch_8\">\r\n    <path d=\"M 27.878125 22.318125 \r\nL 697.478125 22.318125 \r\n\" style=\"fill:none;stroke:#000000;stroke-linecap:square;stroke-linejoin:miter;stroke-width:0.8;\"/>\r\n   </g>\r\n   <g id=\"text_8\">\r\n    <!-- 79.8% -->\r\n    <g transform=\"translate(275.113059 185.398125)scale(0.1 -0.1)\">\r\n     <defs>\r\n      <path d=\"M 428 4666 \r\nL 3944 4666 \r\nL 3944 3988 \r\nL 2125 0 \r\nL 953 0 \r\nL 2675 3781 \r\nL 428 3781 \r\nL 428 4666 \r\nz\r\n\" id=\"DejaVuSans-Bold-37\" transform=\"scale(0.015625)\"/>\r\n      <path d=\"M 641 103 \r\nL 641 966 \r\nQ 928 831 1190 764 \r\nQ 1453 697 1709 697 \r\nQ 2247 697 2547 995 \r\nQ 2847 1294 2900 1881 \r\nQ 2688 1725 2447 1647 \r\nQ 2206 1569 1925 1569 \r\nQ 1209 1569 770 1986 \r\nQ 331 2403 331 3084 \r\nQ 331 3838 820 4291 \r\nQ 1309 4744 2131 4744 \r\nQ 3044 4744 3544 4128 \r\nQ 4044 3513 4044 2388 \r\nQ 4044 1231 3459 570 \r\nQ 2875 -91 1856 -91 \r\nQ 1528 -91 1228 -42 \r\nQ 928 6 641 103 \r\nz\r\nM 2125 2350 \r\nQ 2441 2350 2600 2554 \r\nQ 2759 2759 2759 3169 \r\nQ 2759 3575 2600 3781 \r\nQ 2441 3988 2125 3988 \r\nQ 1809 3988 1650 3781 \r\nQ 1491 3575 1491 3169 \r\nQ 1491 2759 1650 2554 \r\nQ 1809 2350 2125 2350 \r\nz\r\n\" id=\"DejaVuSans-Bold-39\" transform=\"scale(0.015625)\"/>\r\n      <path d=\"M 653 1209 \r\nL 1778 1209 \r\nL 1778 0 \r\nL 653 0 \r\nL 653 1209 \r\nz\r\n\" id=\"DejaVuSans-Bold-2e\" transform=\"scale(0.015625)\"/>\r\n      <path d=\"M 2228 2088 \r\nQ 1891 2088 1709 1903 \r\nQ 1528 1719 1528 1375 \r\nQ 1528 1031 1709 848 \r\nQ 1891 666 2228 666 \r\nQ 2563 666 2741 848 \r\nQ 2919 1031 2919 1375 \r\nQ 2919 1722 2741 1905 \r\nQ 2563 2088 2228 2088 \r\nz\r\nM 1350 2484 \r\nQ 925 2613 709 2878 \r\nQ 494 3144 494 3541 \r\nQ 494 4131 934 4440 \r\nQ 1375 4750 2228 4750 \r\nQ 3075 4750 3515 4442 \r\nQ 3956 4134 3956 3541 \r\nQ 3956 3144 3739 2878 \r\nQ 3522 2613 3097 2484 \r\nQ 3572 2353 3814 2058 \r\nQ 4056 1763 4056 1313 \r\nQ 4056 619 3595 264 \r\nQ 3134 -91 2228 -91 \r\nQ 1319 -91 855 264 \r\nQ 391 619 391 1313 \r\nQ 391 1763 633 2058 \r\nQ 875 2353 1350 2484 \r\nz\r\nM 1631 3419 \r\nQ 1631 3141 1786 2991 \r\nQ 1941 2841 2228 2841 \r\nQ 2509 2841 2662 2991 \r\nQ 2816 3141 2816 3419 \r\nQ 2816 3697 2662 3845 \r\nQ 2509 3994 2228 3994 \r\nQ 1941 3994 1786 3844 \r\nQ 1631 3694 1631 3419 \r\nz\r\n\" id=\"DejaVuSans-Bold-38\" transform=\"scale(0.015625)\"/>\r\n      <path d=\"M 4959 1925 \r\nQ 4738 1925 4616 1733 \r\nQ 4494 1541 4494 1184 \r\nQ 4494 825 4614 633 \r\nQ 4734 441 4959 441 \r\nQ 5184 441 5303 633 \r\nQ 5422 825 5422 1184 \r\nQ 5422 1541 5301 1733 \r\nQ 5181 1925 4959 1925 \r\nz\r\nM 4959 2450 \r\nQ 5541 2450 5875 2112 \r\nQ 6209 1775 6209 1184 \r\nQ 6209 594 5875 251 \r\nQ 5541 -91 4959 -91 \r\nQ 4378 -91 4042 251 \r\nQ 3706 594 3706 1184 \r\nQ 3706 1772 4042 2111 \r\nQ 4378 2450 4959 2450 \r\nz\r\nM 2094 -91 \r\nL 1403 -91 \r\nL 4319 4750 \r\nL 5013 4750 \r\nL 2094 -91 \r\nz\r\nM 1453 4750 \r\nQ 2034 4750 2367 4411 \r\nQ 2700 4072 2700 3481 \r\nQ 2700 2891 2367 2550 \r\nQ 2034 2209 1453 2209 \r\nQ 872 2209 539 2550 \r\nQ 206 2891 206 3481 \r\nQ 206 4072 539 4411 \r\nQ 872 4750 1453 4750 \r\nz\r\nM 1453 4225 \r\nQ 1228 4225 1106 4031 \r\nQ 984 3838 984 3481 \r\nQ 984 3122 1106 2926 \r\nQ 1228 2731 1453 2731 \r\nQ 1678 2731 1798 2926 \r\nQ 1919 3122 1919 3481 \r\nQ 1919 3838 1797 4031 \r\nQ 1675 4225 1453 4225 \r\nz\r\n\" id=\"DejaVuSans-Bold-25\" transform=\"scale(0.015625)\"/>\r\n     </defs>\r\n     <use xlink:href=\"#DejaVuSans-Bold-37\"/>\r\n     <use x=\"69.580078\" xlink:href=\"#DejaVuSans-Bold-39\"/>\r\n     <use x=\"139.160156\" xlink:href=\"#DejaVuSans-Bold-2e\"/>\r\n     <use x=\"177.148438\" xlink:href=\"#DejaVuSans-Bold-38\"/>\r\n     <use x=\"246.728516\" xlink:href=\"#DejaVuSans-Bold-25\"/>\r\n    </g>\r\n   </g>\r\n   <g id=\"text_9\">\r\n    <!-- 20.2% -->\r\n    <g transform=\"translate(609.913059 185.398125)scale(0.1 -0.1)\">\r\n     <defs>\r\n      <path d=\"M 1844 884 \r\nL 3897 884 \r\nL 3897 0 \r\nL 506 0 \r\nL 506 884 \r\nL 2209 2388 \r\nQ 2438 2594 2547 2791 \r\nQ 2656 2988 2656 3200 \r\nQ 2656 3528 2436 3728 \r\nQ 2216 3928 1850 3928 \r\nQ 1569 3928 1234 3808 \r\nQ 900 3688 519 3450 \r\nL 519 4475 \r\nQ 925 4609 1322 4679 \r\nQ 1719 4750 2100 4750 \r\nQ 2938 4750 3402 4381 \r\nQ 3866 4013 3866 3353 \r\nQ 3866 2972 3669 2642 \r\nQ 3472 2313 2841 1759 \r\nL 1844 884 \r\nz\r\n\" id=\"DejaVuSans-Bold-32\" transform=\"scale(0.015625)\"/>\r\n      <path d=\"M 2944 2338 \r\nQ 2944 3213 2780 3570 \r\nQ 2616 3928 2228 3928 \r\nQ 1841 3928 1675 3570 \r\nQ 1509 3213 1509 2338 \r\nQ 1509 1453 1675 1090 \r\nQ 1841 728 2228 728 \r\nQ 2613 728 2778 1090 \r\nQ 2944 1453 2944 2338 \r\nz\r\nM 4147 2328 \r\nQ 4147 1169 3647 539 \r\nQ 3147 -91 2228 -91 \r\nQ 1306 -91 806 539 \r\nQ 306 1169 306 2328 \r\nQ 306 3491 806 4120 \r\nQ 1306 4750 2228 4750 \r\nQ 3147 4750 3647 4120 \r\nQ 4147 3491 4147 2328 \r\nz\r\n\" id=\"DejaVuSans-Bold-30\" transform=\"scale(0.015625)\"/>\r\n     </defs>\r\n     <use xlink:href=\"#DejaVuSans-Bold-32\"/>\r\n     <use x=\"69.580078\" xlink:href=\"#DejaVuSans-Bold-30\"/>\r\n     <use x=\"139.160156\" xlink:href=\"#DejaVuSans-Bold-2e\"/>\r\n     <use x=\"177.148438\" xlink:href=\"#DejaVuSans-Bold-32\"/>\r\n     <use x=\"246.728516\" xlink:href=\"#DejaVuSans-Bold-25\"/>\r\n    </g>\r\n   </g>\r\n   <g id=\"text_10\">\r\n    <!-- Distribución de la variable Exited -->\r\n    <g transform=\"translate(263.187813 16.318125)scale(0.12 -0.12)\">\r\n     <defs>\r\n      <path d=\"M 1259 4147 \r\nL 1259 519 \r\nL 2022 519 \r\nQ 2988 519 3436 956 \r\nQ 3884 1394 3884 2338 \r\nQ 3884 3275 3436 3711 \r\nQ 2988 4147 2022 4147 \r\nL 1259 4147 \r\nz\r\nM 628 4666 \r\nL 1925 4666 \r\nQ 3281 4666 3915 4102 \r\nQ 4550 3538 4550 2338 \r\nQ 4550 1131 3912 565 \r\nQ 3275 0 1925 0 \r\nL 628 0 \r\nL 628 4666 \r\nz\r\n\" id=\"DejaVuSans-44\" transform=\"scale(0.015625)\"/>\r\n      <path d=\"M 2834 3397 \r\nL 2834 2853 \r\nQ 2591 2978 2328 3040 \r\nQ 2066 3103 1784 3103 \r\nQ 1356 3103 1142 2972 \r\nQ 928 2841 928 2578 \r\nQ 928 2378 1081 2264 \r\nQ 1234 2150 1697 2047 \r\nL 1894 2003 \r\nQ 2506 1872 2764 1633 \r\nQ 3022 1394 3022 966 \r\nQ 3022 478 2636 193 \r\nQ 2250 -91 1575 -91 \r\nQ 1294 -91 989 -36 \r\nQ 684 19 347 128 \r\nL 347 722 \r\nQ 666 556 975 473 \r\nQ 1284 391 1588 391 \r\nQ 1994 391 2212 530 \r\nQ 2431 669 2431 922 \r\nQ 2431 1156 2273 1281 \r\nQ 2116 1406 1581 1522 \r\nL 1381 1569 \r\nQ 847 1681 609 1914 \r\nQ 372 2147 372 2553 \r\nQ 372 3047 722 3315 \r\nQ 1072 3584 1716 3584 \r\nQ 2034 3584 2315 3537 \r\nQ 2597 3491 2834 3397 \r\nz\r\n\" id=\"DejaVuSans-73\" transform=\"scale(0.015625)\"/>\r\n      <path d=\"M 2631 2963 \r\nQ 2534 3019 2420 3045 \r\nQ 2306 3072 2169 3072 \r\nQ 1681 3072 1420 2755 \r\nQ 1159 2438 1159 1844 \r\nL 1159 0 \r\nL 581 0 \r\nL 581 3500 \r\nL 1159 3500 \r\nL 1159 2956 \r\nQ 1341 3275 1631 3429 \r\nQ 1922 3584 2338 3584 \r\nQ 2397 3584 2469 3576 \r\nQ 2541 3569 2628 3553 \r\nL 2631 2963 \r\nz\r\n\" id=\"DejaVuSans-72\" transform=\"scale(0.015625)\"/>\r\n      <path d=\"M 3116 1747 \r\nQ 3116 2381 2855 2742 \r\nQ 2594 3103 2138 3103 \r\nQ 1681 3103 1420 2742 \r\nQ 1159 2381 1159 1747 \r\nQ 1159 1113 1420 752 \r\nQ 1681 391 2138 391 \r\nQ 2594 391 2855 752 \r\nQ 3116 1113 3116 1747 \r\nz\r\nM 1159 2969 \r\nQ 1341 3281 1617 3432 \r\nQ 1894 3584 2278 3584 \r\nQ 2916 3584 3314 3078 \r\nQ 3713 2572 3713 1747 \r\nQ 3713 922 3314 415 \r\nQ 2916 -91 2278 -91 \r\nQ 1894 -91 1617 61 \r\nQ 1341 213 1159 525 \r\nL 1159 0 \r\nL 581 0 \r\nL 581 4863 \r\nL 1159 4863 \r\nL 1159 2969 \r\nz\r\n\" id=\"DejaVuSans-62\" transform=\"scale(0.015625)\"/>\r\n      <path d=\"M 544 1381 \r\nL 544 3500 \r\nL 1119 3500 \r\nL 1119 1403 \r\nQ 1119 906 1312 657 \r\nQ 1506 409 1894 409 \r\nQ 2359 409 2629 706 \r\nQ 2900 1003 2900 1516 \r\nL 2900 3500 \r\nL 3475 3500 \r\nL 3475 0 \r\nL 2900 0 \r\nL 2900 538 \r\nQ 2691 219 2414 64 \r\nQ 2138 -91 1772 -91 \r\nQ 1169 -91 856 284 \r\nQ 544 659 544 1381 \r\nz\r\nM 1991 3584 \r\nL 1991 3584 \r\nz\r\n\" id=\"DejaVuSans-75\" transform=\"scale(0.015625)\"/>\r\n      <path d=\"M 3122 3366 \r\nL 3122 2828 \r\nQ 2878 2963 2633 3030 \r\nQ 2388 3097 2138 3097 \r\nQ 1578 3097 1268 2742 \r\nQ 959 2388 959 1747 \r\nQ 959 1106 1268 751 \r\nQ 1578 397 2138 397 \r\nQ 2388 397 2633 464 \r\nQ 2878 531 3122 666 \r\nL 3122 134 \r\nQ 2881 22 2623 -34 \r\nQ 2366 -91 2075 -91 \r\nQ 1284 -91 818 406 \r\nQ 353 903 353 1747 \r\nQ 353 2603 823 3093 \r\nQ 1294 3584 2113 3584 \r\nQ 2378 3584 2631 3529 \r\nQ 2884 3475 3122 3366 \r\nz\r\n\" id=\"DejaVuSans-63\" transform=\"scale(0.015625)\"/>\r\n      <path d=\"M 1959 3097 \r\nQ 1497 3097 1228 2736 \r\nQ 959 2375 959 1747 \r\nQ 959 1119 1226 758 \r\nQ 1494 397 1959 397 \r\nQ 2419 397 2687 759 \r\nQ 2956 1122 2956 1747 \r\nQ 2956 2369 2687 2733 \r\nQ 2419 3097 1959 3097 \r\nz\r\nM 1959 3584 \r\nQ 2709 3584 3137 3096 \r\nQ 3566 2609 3566 1747 \r\nQ 3566 888 3137 398 \r\nQ 2709 -91 1959 -91 \r\nQ 1206 -91 779 398 \r\nQ 353 888 353 1747 \r\nQ 353 2609 779 3096 \r\nQ 1206 3584 1959 3584 \r\nz\r\nM 2394 5119 \r\nL 3016 5119 \r\nL 1997 3944 \r\nL 1519 3944 \r\nL 2394 5119 \r\nz\r\n\" id=\"DejaVuSans-f3\" transform=\"scale(0.015625)\"/>\r\n      <path d=\"M 3513 2113 \r\nL 3513 0 \r\nL 2938 0 \r\nL 2938 2094 \r\nQ 2938 2591 2744 2837 \r\nQ 2550 3084 2163 3084 \r\nQ 1697 3084 1428 2787 \r\nQ 1159 2491 1159 1978 \r\nL 1159 0 \r\nL 581 0 \r\nL 581 3500 \r\nL 1159 3500 \r\nL 1159 2956 \r\nQ 1366 3272 1645 3428 \r\nQ 1925 3584 2291 3584 \r\nQ 2894 3584 3203 3211 \r\nQ 3513 2838 3513 2113 \r\nz\r\n\" id=\"DejaVuSans-6e\" transform=\"scale(0.015625)\"/>\r\n      <path id=\"DejaVuSans-20\" transform=\"scale(0.015625)\"/>\r\n      <path d=\"M 603 4863 \r\nL 1178 4863 \r\nL 1178 0 \r\nL 603 0 \r\nL 603 4863 \r\nz\r\n\" id=\"DejaVuSans-6c\" transform=\"scale(0.015625)\"/>\r\n      <path d=\"M 2194 1759 \r\nQ 1497 1759 1228 1600 \r\nQ 959 1441 959 1056 \r\nQ 959 750 1161 570 \r\nQ 1363 391 1709 391 \r\nQ 2188 391 2477 730 \r\nQ 2766 1069 2766 1631 \r\nL 2766 1759 \r\nL 2194 1759 \r\nz\r\nM 3341 1997 \r\nL 3341 0 \r\nL 2766 0 \r\nL 2766 531 \r\nQ 2569 213 2275 61 \r\nQ 1981 -91 1556 -91 \r\nQ 1019 -91 701 211 \r\nQ 384 513 384 1019 \r\nQ 384 1609 779 1909 \r\nQ 1175 2209 1959 2209 \r\nL 2766 2209 \r\nL 2766 2266 \r\nQ 2766 2663 2505 2880 \r\nQ 2244 3097 1772 3097 \r\nQ 1472 3097 1187 3025 \r\nQ 903 2953 641 2809 \r\nL 641 3341 \r\nQ 956 3463 1253 3523 \r\nQ 1550 3584 1831 3584 \r\nQ 2591 3584 2966 3190 \r\nQ 3341 2797 3341 1997 \r\nz\r\n\" id=\"DejaVuSans-61\" transform=\"scale(0.015625)\"/>\r\n      <path d=\"M 191 3500 \r\nL 800 3500 \r\nL 1894 563 \r\nL 2988 3500 \r\nL 3597 3500 \r\nL 2284 0 \r\nL 1503 0 \r\nL 191 3500 \r\nz\r\n\" id=\"DejaVuSans-76\" transform=\"scale(0.015625)\"/>\r\n     </defs>\r\n     <use xlink:href=\"#DejaVuSans-44\"/>\r\n     <use x=\"77.001953\" xlink:href=\"#DejaVuSans-69\"/>\r\n     <use x=\"104.785156\" xlink:href=\"#DejaVuSans-73\"/>\r\n     <use x=\"156.884766\" xlink:href=\"#DejaVuSans-74\"/>\r\n     <use x=\"196.09375\" xlink:href=\"#DejaVuSans-72\"/>\r\n     <use x=\"237.207031\" xlink:href=\"#DejaVuSans-69\"/>\r\n     <use x=\"264.990234\" xlink:href=\"#DejaVuSans-62\"/>\r\n     <use x=\"328.466797\" xlink:href=\"#DejaVuSans-75\"/>\r\n     <use x=\"391.845703\" xlink:href=\"#DejaVuSans-63\"/>\r\n     <use x=\"446.826172\" xlink:href=\"#DejaVuSans-69\"/>\r\n     <use x=\"474.609375\" xlink:href=\"#DejaVuSans-f3\"/>\r\n     <use x=\"535.791016\" xlink:href=\"#DejaVuSans-6e\"/>\r\n     <use x=\"599.169922\" xlink:href=\"#DejaVuSans-20\"/>\r\n     <use x=\"630.957031\" xlink:href=\"#DejaVuSans-64\"/>\r\n     <use x=\"694.433594\" xlink:href=\"#DejaVuSans-65\"/>\r\n     <use x=\"755.957031\" xlink:href=\"#DejaVuSans-20\"/>\r\n     <use x=\"787.744141\" xlink:href=\"#DejaVuSans-6c\"/>\r\n     <use x=\"815.527344\" xlink:href=\"#DejaVuSans-61\"/>\r\n     <use x=\"876.806641\" xlink:href=\"#DejaVuSans-20\"/>\r\n     <use x=\"908.59375\" xlink:href=\"#DejaVuSans-76\"/>\r\n     <use x=\"967.773438\" xlink:href=\"#DejaVuSans-61\"/>\r\n     <use x=\"1029.052734\" xlink:href=\"#DejaVuSans-72\"/>\r\n     <use x=\"1070.166016\" xlink:href=\"#DejaVuSans-69\"/>\r\n     <use x=\"1097.949219\" xlink:href=\"#DejaVuSans-61\"/>\r\n     <use x=\"1159.228516\" xlink:href=\"#DejaVuSans-62\"/>\r\n     <use x=\"1222.705078\" xlink:href=\"#DejaVuSans-6c\"/>\r\n     <use x=\"1250.488281\" xlink:href=\"#DejaVuSans-65\"/>\r\n     <use x=\"1312.011719\" xlink:href=\"#DejaVuSans-20\"/>\r\n     <use x=\"1343.798828\" xlink:href=\"#DejaVuSans-45\"/>\r\n     <use x=\"1406.982422\" xlink:href=\"#DejaVuSans-78\"/>\r\n     <use x=\"1466.162109\" xlink:href=\"#DejaVuSans-69\"/>\r\n     <use x=\"1493.945312\" xlink:href=\"#DejaVuSans-74\"/>\r\n     <use x=\"1533.154297\" xlink:href=\"#DejaVuSans-65\"/>\r\n     <use x=\"1594.677734\" xlink:href=\"#DejaVuSans-64\"/>\r\n    </g>\r\n   </g>\r\n   <g id=\"legend_1\">\r\n    <g id=\"patch_9\">\r\n     <path d=\"M 730.246125 61.674375 \r\nL 775.846125 61.674375 \r\nQ 777.846125 61.674375 777.846125 59.674375 \r\nL 777.846125 31.318125 \r\nQ 777.846125 29.318125 775.846125 29.318125 \r\nL 730.246125 29.318125 \r\nQ 728.246125 29.318125 728.246125 31.318125 \r\nL 728.246125 59.674375 \r\nQ 728.246125 61.674375 730.246125 61.674375 \r\nz\r\n\" style=\"fill:#4c4c4c;opacity:0.5;stroke:#4c4c4c;stroke-linejoin:miter;\"/>\r\n    </g>\r\n    <g id=\"patch_10\">\r\n     <path d=\"M 728.246125 59.674375 \r\nL 773.846125 59.674375 \r\nQ 775.846125 59.674375 775.846125 57.674375 \r\nL 775.846125 29.318125 \r\nQ 775.846125 27.318125 773.846125 27.318125 \r\nL 728.246125 27.318125 \r\nQ 726.246125 27.318125 726.246125 29.318125 \r\nL 726.246125 57.674375 \r\nQ 726.246125 59.674375 728.246125 59.674375 \r\nz\r\n\" style=\"fill:#ffffff;stroke:#cccccc;stroke-linejoin:miter;\"/>\r\n    </g>\r\n    <g id=\"patch_11\">\r\n     <path d=\"M 730.246125 38.916562 \r\nL 750.246125 38.916562 \r\nL 750.246125 31.916562 \r\nL 730.246125 31.916562 \r\nz\r\n\" style=\"fill:#a52a2a;\"/>\r\n    </g>\r\n    <g id=\"text_11\">\r\n     <!-- No -->\r\n     <g transform=\"translate(758.246125 38.916562)scale(0.1 -0.1)\">\r\n      <defs>\r\n       <path d=\"M 628 4666 \r\nL 1478 4666 \r\nL 3547 763 \r\nL 3547 4666 \r\nL 4159 4666 \r\nL 4159 0 \r\nL 3309 0 \r\nL 1241 3903 \r\nL 1241 0 \r\nL 628 0 \r\nL 628 4666 \r\nz\r\n\" id=\"DejaVuSans-4e\" transform=\"scale(0.015625)\"/>\r\n       <path d=\"M 1959 3097 \r\nQ 1497 3097 1228 2736 \r\nQ 959 2375 959 1747 \r\nQ 959 1119 1226 758 \r\nQ 1494 397 1959 397 \r\nQ 2419 397 2687 759 \r\nQ 2956 1122 2956 1747 \r\nQ 2956 2369 2687 2733 \r\nQ 2419 3097 1959 3097 \r\nz\r\nM 1959 3584 \r\nQ 2709 3584 3137 3096 \r\nQ 3566 2609 3566 1747 \r\nQ 3566 888 3137 398 \r\nQ 2709 -91 1959 -91 \r\nQ 1206 -91 779 398 \r\nQ 353 888 353 1747 \r\nQ 353 2609 779 3096 \r\nQ 1206 3584 1959 3584 \r\nz\r\n\" id=\"DejaVuSans-6f\" transform=\"scale(0.015625)\"/>\r\n      </defs>\r\n      <use xlink:href=\"#DejaVuSans-4e\"/>\r\n      <use x=\"74.804688\" xlink:href=\"#DejaVuSans-6f\"/>\r\n     </g>\r\n    </g>\r\n    <g id=\"patch_12\">\r\n     <path d=\"M 730.246125 53.594688 \r\nL 750.246125 53.594688 \r\nL 750.246125 46.594688 \r\nL 730.246125 46.594688 \r\nz\r\n\" style=\"fill:#deb887;\"/>\r\n    </g>\r\n    <g id=\"text_12\">\r\n     <!-- Si -->\r\n     <g transform=\"translate(758.246125 53.594688)scale(0.1 -0.1)\">\r\n      <defs>\r\n       <path d=\"M 3425 4513 \r\nL 3425 3897 \r\nQ 3066 4069 2747 4153 \r\nQ 2428 4238 2131 4238 \r\nQ 1616 4238 1336 4038 \r\nQ 1056 3838 1056 3469 \r\nQ 1056 3159 1242 3001 \r\nQ 1428 2844 1947 2747 \r\nL 2328 2669 \r\nQ 3034 2534 3370 2195 \r\nQ 3706 1856 3706 1288 \r\nQ 3706 609 3251 259 \r\nQ 2797 -91 1919 -91 \r\nQ 1588 -91 1214 -16 \r\nQ 841 59 441 206 \r\nL 441 856 \r\nQ 825 641 1194 531 \r\nQ 1563 422 1919 422 \r\nQ 2459 422 2753 634 \r\nQ 3047 847 3047 1241 \r\nQ 3047 1584 2836 1778 \r\nQ 2625 1972 2144 2069 \r\nL 1759 2144 \r\nQ 1053 2284 737 2584 \r\nQ 422 2884 422 3419 \r\nQ 422 4038 858 4394 \r\nQ 1294 4750 2059 4750 \r\nQ 2388 4750 2728 4690 \r\nQ 3069 4631 3425 4513 \r\nz\r\n\" id=\"DejaVuSans-53\" transform=\"scale(0.015625)\"/>\r\n      </defs>\r\n      <use xlink:href=\"#DejaVuSans-53\"/>\r\n      <use x=\"63.476562\" xlink:href=\"#DejaVuSans-69\"/>\r\n     </g>\r\n    </g>\r\n   </g>\r\n  </g>\r\n </g>\r\n <defs>\r\n  <clipPath id=\"pf00eddf3b3\">\r\n   <rect height=\"326.16\" width=\"669.6\" x=\"27.878125\" y=\"22.318125\"/>\r\n  </clipPath>\r\n </defs>\r\n</svg>\r\n",
      "text/plain": [
       "<Figure size 2400x1200 with 1 Axes>"
      ]
     },
     "metadata": {
      "needs_background": "light"
     },
     "output_type": "display_data"
    }
   ],
   "source": [
    "analisis_clientes_.distribucion_variable_predecir()"
   ]
  },
  {
   "cell_type": "code",
   "execution_count": 24,
   "metadata": {},
   "outputs": [],
   "source": [
    "#Extract the numeric columns of the dataframe\n",
    "df_clientes_num = df_clientes._get_numeric_data()\n",
    "df_clientes_num = df_clientes_num.iloc[:, :-1]\n",
    "#add the Exited column to the dataframe\n",
    "df_clientes_num['Exited'] = df_clientes['Exited']"
   ]
  },
  {
   "cell_type": "code",
   "execution_count": 25,
   "metadata": {},
   "outputs": [
    {
     "data": {
      "text/html": [
       "<div>\n",
       "<style scoped>\n",
       "    .dataframe tbody tr th:only-of-type {\n",
       "        vertical-align: middle;\n",
       "    }\n",
       "\n",
       "    .dataframe tbody tr th {\n",
       "        vertical-align: top;\n",
       "    }\n",
       "\n",
       "    .dataframe thead th {\n",
       "        text-align: right;\n",
       "    }\n",
       "</style>\n",
       "<table border=\"1\" class=\"dataframe\">\n",
       "  <thead>\n",
       "    <tr style=\"text-align: right;\">\n",
       "      <th></th>\n",
       "      <th>CreditScore</th>\n",
       "      <th>Age</th>\n",
       "      <th>Tenure</th>\n",
       "      <th>Balance</th>\n",
       "      <th>NumOfProducts</th>\n",
       "      <th>Exited</th>\n",
       "    </tr>\n",
       "  </thead>\n",
       "  <tbody>\n",
       "    <tr>\n",
       "      <th>1</th>\n",
       "      <td>619</td>\n",
       "      <td>42</td>\n",
       "      <td>2</td>\n",
       "      <td>0.00</td>\n",
       "      <td>1</td>\n",
       "      <td>Si</td>\n",
       "    </tr>\n",
       "    <tr>\n",
       "      <th>2</th>\n",
       "      <td>608</td>\n",
       "      <td>41</td>\n",
       "      <td>1</td>\n",
       "      <td>83807.86</td>\n",
       "      <td>1</td>\n",
       "      <td>No</td>\n",
       "    </tr>\n",
       "    <tr>\n",
       "      <th>3</th>\n",
       "      <td>502</td>\n",
       "      <td>42</td>\n",
       "      <td>8</td>\n",
       "      <td>159660.80</td>\n",
       "      <td>3</td>\n",
       "      <td>Si</td>\n",
       "    </tr>\n",
       "    <tr>\n",
       "      <th>4</th>\n",
       "      <td>699</td>\n",
       "      <td>39</td>\n",
       "      <td>1</td>\n",
       "      <td>0.00</td>\n",
       "      <td>2</td>\n",
       "      <td>No</td>\n",
       "    </tr>\n",
       "    <tr>\n",
       "      <th>5</th>\n",
       "      <td>850</td>\n",
       "      <td>43</td>\n",
       "      <td>2</td>\n",
       "      <td>125510.82</td>\n",
       "      <td>1</td>\n",
       "      <td>No</td>\n",
       "    </tr>\n",
       "  </tbody>\n",
       "</table>\n",
       "</div>"
      ],
      "text/plain": [
       "   CreditScore  Age  Tenure    Balance  NumOfProducts Exited\n",
       "1          619   42       2       0.00              1     Si\n",
       "2          608   41       1   83807.86              1     No\n",
       "3          502   42       8  159660.80              3     Si\n",
       "4          699   39       1       0.00              2     No\n",
       "5          850   43       2  125510.82              1     No"
      ]
     },
     "execution_count": 25,
     "metadata": {},
     "output_type": "execute_result"
    }
   ],
   "source": [
    "df_clientes_num.head()"
   ]
  },
  {
   "cell_type": "code",
   "execution_count": 26,
   "metadata": {},
   "outputs": [],
   "source": [
    "clientes_svm = SVC(kernel='rbf')\n",
    "analisis_clientes = Analisis_Predictivo(df_clientes_num, predecir='Exited', modelo=clientes_svm, train_size=0.75)"
   ]
  },
  {
   "cell_type": "code",
   "execution_count": 27,
   "metadata": {},
   "outputs": [
    {
     "name": "stdout",
     "output_type": "stream",
     "text": [
      "\n",
      "Matriz de Confusión:\n",
      "[[1012   24]\n",
      " [ 179   80]]\n",
      "\n",
      "Precisión Global:\n",
      "0.8432432432432433\n",
      "\n",
      "Error Global:\n",
      "0.1567567567567567\n",
      "\n",
      "Precisión por categoría:\n",
      "         No       Si\n",
      "0  0.976834  0.30888\n"
     ]
    },
    {
     "data": {
      "text/plain": [
       "{'Matriz de Confusión': array([[1012,   24],\n",
       "        [ 179,   80]], dtype=int64),\n",
       " 'Precisión Global': 0.8432432432432433,\n",
       " 'Error Global': 0.1567567567567567,\n",
       " 'Precisión por categoría':          No       Si\n",
       " 0  0.976834  0.30888}"
      ]
     },
     "execution_count": 27,
     "metadata": {},
     "output_type": "execute_result"
    }
   ],
   "source": [
    "analisis_clientes.fit_predict_resultados()"
   ]
  },
  {
   "cell_type": "markdown",
   "metadata": {},
   "source": [
    "Se tiene una buena precisión global con un 85%. Sin embargo, la Categoría de No es muy alta 97% esto podría servír muy bien para predecír los clientes que No abandonarían el banco. Al contrario la categoría de si tiene un 22% de precisión. Esto es muy bajo para predecir esta categoría."
   ]
  },
  {
   "cell_type": "markdown",
   "metadata": {},
   "source": [
    "3. Repita el  ́ıtem anterior pero intente identificar el mejor n ́ucleo (Kernel) y valor para el par ́ametro de regularizaci ́on C. ¿Mejora la predicci ́on?"
   ]
  },
  {
   "cell_type": "code",
   "execution_count": 28,
   "metadata": {},
   "outputs": [
    {
     "name": "stdout",
     "output_type": "stream",
     "text": [
      "   CreditScore  Age  Tenure    Balance\n",
      "1          619   42       2       0.00\n",
      "2          608   41       1   83807.86\n",
      "3          502   42       8  159660.80\n",
      "4          699   39       1       0.00\n",
      "5          850   43       2  125510.82\n",
      "1    Si\n",
      "2    No\n",
      "3    Si\n",
      "4    No\n",
      "5    No\n",
      "Name: Exited, dtype: object\n"
     ]
    }
   ],
   "source": [
    "#divide the df\n",
    "X = df_clientes_num.iloc[:, :-2]\n",
    "y = df_clientes_num.iloc[:, -1]\n",
    "print (X.head())\n",
    "print (y.head())"
   ]
  },
  {
   "cell_type": "code",
   "execution_count": 29,
   "metadata": {},
   "outputs": [],
   "source": [
    "X_train, X_test, y_train, y_test =  train_test_split(X, y, test_size=0.25, random_state=0)"
   ]
  },
  {
   "cell_type": "code",
   "execution_count": 63,
   "metadata": {},
   "outputs": [],
   "source": [
    "#improt PCA\n",
    "#from sklearn.decomposition import PCA   #import PCA"
   ]
  },
  {
   "cell_type": "code",
   "execution_count": 69,
   "metadata": {},
   "outputs": [],
   "source": [
    "#create a pipeline with the model and StandardScaler\n",
    "pipe = make_pipeline(StandardScaler(), SVC(kernel='rbf'))#Not implemented,PCA(n_components=2)"
   ]
  },
  {
   "cell_type": "code",
   "execution_count": 73,
   "metadata": {},
   "outputs": [],
   "source": [
    "#create a dictionary with the hiperparameters to test\n",
    "grid_parameters = [\n",
    "                    {'svc__gamma': [0.1]},\n",
    "                    {'svc__kernel': ['linear']},\n",
    "                    {'svc__kernel': ['poly'], 'svc__degree': [2, 3]},\n",
    "                    {'svc__kernel': ['sigmoid']}\n",
    "                    ]\n",
    "#create a gridsearch object\n",
    "grid_search = GridSearchCV(pipe, grid_parameters,  cv=5, verbose=0,n_jobs=-1) # fit grid seaarch"
   ]
  },
  {
   "cell_type": "code",
   "execution_count": 74,
   "metadata": {},
   "outputs": [],
   "source": [
    "best_model = grid_search.fit(X_train, y_train) # fit the best model"
   ]
  },
  {
   "cell_type": "code",
   "execution_count": 75,
   "metadata": {},
   "outputs": [
    {
     "name": "stdout",
     "output_type": "stream",
     "text": [
      "Best model:  Pipeline(steps=[('standardscaler', StandardScaler()), ('svc', SVC(gamma=0.1))])\n",
      "Best parameters:  {'svc__gamma': 0.1}\n",
      "Best score:  0.822908622908623\n"
     ]
    }
   ],
   "source": [
    "#print the model settings and the best parameters\n",
    "print(\"Best model: \", best_model.best_estimator_)\n",
    "print(\"Best parameters: \", best_model.best_params_)\n",
    "print(\"Best score: \", best_model.best_score_)"
   ]
  },
  {
   "cell_type": "code",
   "execution_count": 78,
   "metadata": {},
   "outputs": [],
   "source": [
    "clientes_svm = SVC(kernel='rbf')\n",
    "analisis_clientes = Analisis_Predictivo(df_clientes_num, predecir='Exited', modelo=clientes_svm, train_size=0.75)"
   ]
  },
  {
   "cell_type": "code",
   "execution_count": 79,
   "metadata": {},
   "outputs": [
    {
     "name": "stdout",
     "output_type": "stream",
     "text": [
      "\n",
      "Matriz de Confusión:\n",
      "[[1014   12]\n",
      " [ 211   58]]\n",
      "\n",
      "Precisión Global:\n",
      "0.8277992277992278\n",
      "\n",
      "Error Global:\n",
      "0.17220077220077223\n",
      "\n",
      "Precisión por categoría:\n",
      "         No        Si\n",
      "0  0.988304  0.215613\n"
     ]
    }
   ],
   "source": [
    "resultados_clientes1 = analisis_clientes.fit_predict_resultados()"
   ]
  },
  {
   "cell_type": "markdown",
   "metadata": {},
   "source": [
    "4. Con los mejores par ́ametros identificados en el  ́ıtem anterior realice un nuevo modelo pero\n",
    "haciendo selecci ́on de 6 variables. ¿Mejoran los resultados?"
   ]
  },
  {
   "cell_type": "code",
   "execution_count": null,
   "metadata": {},
   "outputs": [],
   "source": [
    "#Extract the numeric columns of the dataframe 6 variables\n",
    "df_clientes_num = df_clientes._get_numeric_data()\n",
    "#add the Exited column to the dataframe\n",
    "df_clientes_num['Exited'] = df_clientes['Exited']"
   ]
  },
  {
   "cell_type": "code",
   "execution_count": null,
   "metadata": {},
   "outputs": [
    {
     "data": {
      "text/html": [
       "<div>\n",
       "<style scoped>\n",
       "    .dataframe tbody tr th:only-of-type {\n",
       "        vertical-align: middle;\n",
       "    }\n",
       "\n",
       "    .dataframe tbody tr th {\n",
       "        vertical-align: top;\n",
       "    }\n",
       "\n",
       "    .dataframe thead th {\n",
       "        text-align: right;\n",
       "    }\n",
       "</style>\n",
       "<table border=\"1\" class=\"dataframe\">\n",
       "  <thead>\n",
       "    <tr style=\"text-align: right;\">\n",
       "      <th></th>\n",
       "      <th>CreditScore</th>\n",
       "      <th>Age</th>\n",
       "      <th>Tenure</th>\n",
       "      <th>Balance</th>\n",
       "      <th>NumOfProducts</th>\n",
       "      <th>EstimatedSalary</th>\n",
       "      <th>Exited</th>\n",
       "    </tr>\n",
       "  </thead>\n",
       "  <tbody>\n",
       "    <tr>\n",
       "      <th>1</th>\n",
       "      <td>619</td>\n",
       "      <td>42</td>\n",
       "      <td>2</td>\n",
       "      <td>0.00</td>\n",
       "      <td>1</td>\n",
       "      <td>101348.88</td>\n",
       "      <td>Si</td>\n",
       "    </tr>\n",
       "    <tr>\n",
       "      <th>2</th>\n",
       "      <td>608</td>\n",
       "      <td>41</td>\n",
       "      <td>1</td>\n",
       "      <td>83807.86</td>\n",
       "      <td>1</td>\n",
       "      <td>112542.58</td>\n",
       "      <td>No</td>\n",
       "    </tr>\n",
       "    <tr>\n",
       "      <th>3</th>\n",
       "      <td>502</td>\n",
       "      <td>42</td>\n",
       "      <td>8</td>\n",
       "      <td>159660.80</td>\n",
       "      <td>3</td>\n",
       "      <td>113931.57</td>\n",
       "      <td>Si</td>\n",
       "    </tr>\n",
       "    <tr>\n",
       "      <th>4</th>\n",
       "      <td>699</td>\n",
       "      <td>39</td>\n",
       "      <td>1</td>\n",
       "      <td>0.00</td>\n",
       "      <td>2</td>\n",
       "      <td>93826.63</td>\n",
       "      <td>No</td>\n",
       "    </tr>\n",
       "    <tr>\n",
       "      <th>5</th>\n",
       "      <td>850</td>\n",
       "      <td>43</td>\n",
       "      <td>2</td>\n",
       "      <td>125510.82</td>\n",
       "      <td>1</td>\n",
       "      <td>79084.10</td>\n",
       "      <td>No</td>\n",
       "    </tr>\n",
       "  </tbody>\n",
       "</table>\n",
       "</div>"
      ],
      "text/plain": [
       "   CreditScore  Age  Tenure    Balance  NumOfProducts  EstimatedSalary Exited\n",
       "1          619   42       2       0.00              1        101348.88     Si\n",
       "2          608   41       1   83807.86              1        112542.58     No\n",
       "3          502   42       8  159660.80              3        113931.57     Si\n",
       "4          699   39       1       0.00              2         93826.63     No\n",
       "5          850   43       2  125510.82              1         79084.10     No"
      ]
     },
     "execution_count": 37,
     "metadata": {},
     "output_type": "execute_result"
    }
   ],
   "source": [
    "df_clientes_num.head()"
   ]
  },
  {
   "cell_type": "code",
   "execution_count": null,
   "metadata": {},
   "outputs": [],
   "source": [
    "clientes_svm = SVC(kernel='poly', degree=2)\n",
    "analisis_clientes = Analisis_Predictivo(df_clientes_num, predecir='Exited', modelo=clientes_svm, train_size=0.75)"
   ]
  },
  {
   "cell_type": "code",
   "execution_count": null,
   "metadata": {},
   "outputs": [
    {
     "name": "stdout",
     "output_type": "stream",
     "text": [
      "\n",
      "Matriz de Confusión:\n",
      "[[1026    6]\n",
      " [ 227   36]]\n",
      "\n",
      "Precisión Global:\n",
      "0.8200772200772201\n",
      "\n",
      "Error Global:\n",
      "0.17992277992277994\n",
      "\n",
      "Precisión por categoría:\n",
      "         No        Si\n",
      "0  0.994186  0.136882\n"
     ]
    }
   ],
   "source": [
    "resultados_clientes2 = analisis_clientes.fit_predict_resultados()"
   ]
  },
  {
   "cell_type": "code",
   "execution_count": 121,
   "metadata": {},
   "outputs": [
    {
     "data": {
      "text/plain": [
       "{'Matriz de Confusión': array([[1026,    6],\n",
       "        [ 227,   36]], dtype=int64),\n",
       " 'Precisión Global': 0.8200772200772201,\n",
       " 'Error Global': 0.17992277992277994,\n",
       " 'Precisión por categoría':          No        Si\n",
       " 0  0.994186  0.136882}"
      ]
     },
     "execution_count": 121,
     "metadata": {},
     "output_type": "execute_result"
    }
   ],
   "source": [
    "resultados_clientes2"
   ]
  },
  {
   "cell_type": "markdown",
   "metadata": {},
   "source": [
    "5. Construya un DataFrame que compare el mejor modelo generado arriba contra los mejores\n",
    "modelos construidos en tareas anteriores para la tabla abandono clientes.csv. Para esto\n",
    "en cada una de las filas debe aparecer un modelo predictivo y en las columnas aparezcan\n",
    "los  ́ındices Precisi ́on Global, Error Global, Precisi ́on Positiva (PP) y Precisi ́on Negativa\n",
    "(PN). ¿Cu ́al de los modelos es mejor para estos datos?"
   ]
  },
  {
   "cell_type": "code",
   "execution_count": null,
   "metadata": {},
   "outputs": [
    {
     "name": "stdout",
     "output_type": "stream",
     "text": [
      "[[1028    3]\n",
      " [ 232   32]]\n",
      "0 Global Accuracy Global Error Positive Precision Negative Precision  \\\n",
      "1        0.818533     0.181467           0.121212            0.99709   \n",
      "\n",
      "0 False Positives False Negatives Positive Assertivity Negative Assertivity  \n",
      "1         0.00291        0.878788             0.914286             0.815873  \n"
     ]
    }
   ],
   "source": [
    "clientes_svm2 = cmatrixelements(resultados_clientes2)\n",
    "df_clientes_svm2 = clientes_svm2.calculatem()\n",
    "df_clientes_svm2[\"Modelo\"] = \"SVM POLY Clientes\""
   ]
  },
  {
   "cell_type": "code",
   "execution_count": null,
   "metadata": {},
   "outputs": [
    {
     "data": {
      "text/html": [
       "<div>\n",
       "<style scoped>\n",
       "    .dataframe tbody tr th:only-of-type {\n",
       "        vertical-align: middle;\n",
       "    }\n",
       "\n",
       "    .dataframe tbody tr th {\n",
       "        vertical-align: top;\n",
       "    }\n",
       "\n",
       "    .dataframe thead th {\n",
       "        text-align: right;\n",
       "    }\n",
       "</style>\n",
       "<table border=\"1\" class=\"dataframe\">\n",
       "  <thead>\n",
       "    <tr style=\"text-align: right;\">\n",
       "      <th></th>\n",
       "      <th>Modelo</th>\n",
       "      <th>Global Accuracy</th>\n",
       "      <th>Global Error</th>\n",
       "      <th>Positive Precision</th>\n",
       "      <th>Negative Precision</th>\n",
       "      <th>False Positives</th>\n",
       "      <th>False Negatives</th>\n",
       "      <th>Positive Assertivity</th>\n",
       "      <th>Negative Assertivity</th>\n",
       "    </tr>\n",
       "  </thead>\n",
       "  <tbody>\n",
       "    <tr>\n",
       "      <th>0</th>\n",
       "      <td>KNN</td>\n",
       "      <td>0.875556</td>\n",
       "      <td>0.124444</td>\n",
       "      <td>0.895238</td>\n",
       "      <td>0.858333</td>\n",
       "      <td>0.141667</td>\n",
       "      <td>0.104762</td>\n",
       "      <td>0.846847</td>\n",
       "      <td>0.903509</td>\n",
       "    </tr>\n",
       "    <tr>\n",
       "      <th>1</th>\n",
       "      <td>KNN</td>\n",
       "      <td>0.884444</td>\n",
       "      <td>0.115556</td>\n",
       "      <td>0.843478</td>\n",
       "      <td>0.927273</td>\n",
       "      <td>0.072727</td>\n",
       "      <td>0.156522</td>\n",
       "      <td>0.923810</td>\n",
       "      <td>0.850000</td>\n",
       "    </tr>\n",
       "    <tr>\n",
       "      <th>2</th>\n",
       "      <td>Decision Tree</td>\n",
       "      <td>0.838889</td>\n",
       "      <td>0.161111</td>\n",
       "      <td>0.822222</td>\n",
       "      <td>0.855556</td>\n",
       "      <td>0.144444</td>\n",
       "      <td>0.177778</td>\n",
       "      <td>0.850575</td>\n",
       "      <td>0.827957</td>\n",
       "    </tr>\n",
       "    <tr>\n",
       "      <th>3</th>\n",
       "      <td>RandomForest</td>\n",
       "      <td>0.830868</td>\n",
       "      <td>0.169132</td>\n",
       "      <td>0.361194</td>\n",
       "      <td>0.959836</td>\n",
       "      <td>0.040164</td>\n",
       "      <td>0.638806</td>\n",
       "      <td>0.711765</td>\n",
       "      <td>0.845487</td>\n",
       "    </tr>\n",
       "    <tr>\n",
       "      <th>4</th>\n",
       "      <td>AdaBoost</td>\n",
       "      <td>0.778378</td>\n",
       "      <td>0.221622</td>\n",
       "      <td>0.488971</td>\n",
       "      <td>0.855327</td>\n",
       "      <td>0.144673</td>\n",
       "      <td>0.511029</td>\n",
       "      <td>0.473310</td>\n",
       "      <td>0.862919</td>\n",
       "    </tr>\n",
       "  </tbody>\n",
       "</table>\n",
       "</div>"
      ],
      "text/plain": [
       "          Modelo  Global Accuracy  Global Error  Positive Precision  \\\n",
       "0            KNN         0.875556      0.124444            0.895238   \n",
       "1            KNN         0.884444      0.115556            0.843478   \n",
       "2  Decision Tree         0.838889      0.161111            0.822222   \n",
       "3   RandomForest         0.830868      0.169132            0.361194   \n",
       "4       AdaBoost         0.778378      0.221622            0.488971   \n",
       "\n",
       "   Negative Precision  False Positives  False Negatives  Positive Assertivity  \\\n",
       "0            0.858333         0.141667         0.104762              0.846847   \n",
       "1            0.927273         0.072727         0.156522              0.923810   \n",
       "2            0.855556         0.144444         0.177778              0.850575   \n",
       "3            0.959836         0.040164         0.638806              0.711765   \n",
       "4            0.855327         0.144673         0.511029              0.473310   \n",
       "\n",
       "   Negative Assertivity  \n",
       "0              0.903509  \n",
       "1              0.850000  \n",
       "2              0.827957  \n",
       "3              0.845487  \n",
       "4              0.862919  "
      ]
     },
     "execution_count": 41,
     "metadata": {},
     "output_type": "execute_result"
    }
   ],
   "source": [
    "df_matrix = pd.read_csv(\"Resultados.csv\", index_col=0)\n",
    "df_matrix.head()"
   ]
  },
  {
   "cell_type": "code",
   "execution_count": null,
   "metadata": {},
   "outputs": [
    {
     "data": {
      "text/html": [
       "<div>\n",
       "<style scoped>\n",
       "    .dataframe tbody tr th:only-of-type {\n",
       "        vertical-align: middle;\n",
       "    }\n",
       "\n",
       "    .dataframe tbody tr th {\n",
       "        vertical-align: top;\n",
       "    }\n",
       "\n",
       "    .dataframe thead th {\n",
       "        text-align: right;\n",
       "    }\n",
       "</style>\n",
       "<table border=\"1\" class=\"dataframe\">\n",
       "  <thead>\n",
       "    <tr style=\"text-align: right;\">\n",
       "      <th></th>\n",
       "      <th>Modelo</th>\n",
       "      <th>Global Accuracy</th>\n",
       "      <th>Global Error</th>\n",
       "      <th>Positive Precision</th>\n",
       "      <th>Negative Precision</th>\n",
       "      <th>False Positives</th>\n",
       "      <th>False Negatives</th>\n",
       "      <th>Positive Assertivity</th>\n",
       "      <th>Negative Assertivity</th>\n",
       "    </tr>\n",
       "  </thead>\n",
       "  <tbody>\n",
       "    <tr>\n",
       "      <th>0</th>\n",
       "      <td>KNN</td>\n",
       "      <td>0.875556</td>\n",
       "      <td>0.124444</td>\n",
       "      <td>0.895238</td>\n",
       "      <td>0.858333</td>\n",
       "      <td>0.141667</td>\n",
       "      <td>0.104762</td>\n",
       "      <td>0.846847</td>\n",
       "      <td>0.903509</td>\n",
       "    </tr>\n",
       "    <tr>\n",
       "      <th>1</th>\n",
       "      <td>KNN</td>\n",
       "      <td>0.884444</td>\n",
       "      <td>0.115556</td>\n",
       "      <td>0.843478</td>\n",
       "      <td>0.927273</td>\n",
       "      <td>0.072727</td>\n",
       "      <td>0.156522</td>\n",
       "      <td>0.92381</td>\n",
       "      <td>0.85</td>\n",
       "    </tr>\n",
       "    <tr>\n",
       "      <th>2</th>\n",
       "      <td>Decision Tree</td>\n",
       "      <td>0.838889</td>\n",
       "      <td>0.161111</td>\n",
       "      <td>0.822222</td>\n",
       "      <td>0.855556</td>\n",
       "      <td>0.144444</td>\n",
       "      <td>0.177778</td>\n",
       "      <td>0.850575</td>\n",
       "      <td>0.827957</td>\n",
       "    </tr>\n",
       "    <tr>\n",
       "      <th>3</th>\n",
       "      <td>RandomForest</td>\n",
       "      <td>0.830868</td>\n",
       "      <td>0.169132</td>\n",
       "      <td>0.361194</td>\n",
       "      <td>0.959836</td>\n",
       "      <td>0.040164</td>\n",
       "      <td>0.638806</td>\n",
       "      <td>0.711765</td>\n",
       "      <td>0.845487</td>\n",
       "    </tr>\n",
       "    <tr>\n",
       "      <th>4</th>\n",
       "      <td>AdaBoost</td>\n",
       "      <td>0.778378</td>\n",
       "      <td>0.221622</td>\n",
       "      <td>0.488971</td>\n",
       "      <td>0.855327</td>\n",
       "      <td>0.144673</td>\n",
       "      <td>0.511029</td>\n",
       "      <td>0.47331</td>\n",
       "      <td>0.862919</td>\n",
       "    </tr>\n",
       "  </tbody>\n",
       "</table>\n",
       "</div>"
      ],
      "text/plain": [
       "          Modelo Global Accuracy Global Error Positive Precision  \\\n",
       "0            KNN        0.875556     0.124444           0.895238   \n",
       "1            KNN        0.884444     0.115556           0.843478   \n",
       "2  Decision Tree        0.838889     0.161111           0.822222   \n",
       "3   RandomForest        0.830868     0.169132           0.361194   \n",
       "4       AdaBoost        0.778378     0.221622           0.488971   \n",
       "\n",
       "  Negative Precision False Positives False Negatives Positive Assertivity  \\\n",
       "0           0.858333        0.141667        0.104762             0.846847   \n",
       "1           0.927273        0.072727        0.156522              0.92381   \n",
       "2           0.855556        0.144444        0.177778             0.850575   \n",
       "3           0.959836        0.040164        0.638806             0.711765   \n",
       "4           0.855327        0.144673        0.511029              0.47331   \n",
       "\n",
       "  Negative Assertivity  \n",
       "0             0.903509  \n",
       "1                 0.85  \n",
       "2             0.827957  \n",
       "3             0.845487  \n",
       "4             0.862919  "
      ]
     },
     "execution_count": 42,
     "metadata": {},
     "output_type": "execute_result"
    }
   ],
   "source": [
    "df_matrix = pd.concat([df_matrix,df_raisin_svm, df_clientes_svm2], ignore_index=True)\n",
    "df_matrix.head()"
   ]
  },
  {
   "cell_type": "code",
   "execution_count": 135,
   "metadata": {},
   "outputs": [
    {
     "data": {
      "text/html": [
       "<div>\n",
       "<style scoped>\n",
       "    .dataframe tbody tr th:only-of-type {\n",
       "        vertical-align: middle;\n",
       "    }\n",
       "\n",
       "    .dataframe tbody tr th {\n",
       "        vertical-align: top;\n",
       "    }\n",
       "\n",
       "    .dataframe thead th {\n",
       "        text-align: right;\n",
       "    }\n",
       "</style>\n",
       "<table border=\"1\" class=\"dataframe\">\n",
       "  <thead>\n",
       "    <tr style=\"text-align: right;\">\n",
       "      <th></th>\n",
       "      <th>Modelo</th>\n",
       "      <th>Global Accuracy</th>\n",
       "      <th>Global Error</th>\n",
       "      <th>Positive Precision</th>\n",
       "      <th>Negative Precision</th>\n",
       "      <th>False Positives</th>\n",
       "      <th>False Negatives</th>\n",
       "      <th>Positive Assertivity</th>\n",
       "      <th>Negative Assertivity</th>\n",
       "    </tr>\n",
       "  </thead>\n",
       "  <tbody>\n",
       "    <tr>\n",
       "      <th>0</th>\n",
       "      <td>KNN</td>\n",
       "      <td>0.875556</td>\n",
       "      <td>0.124444</td>\n",
       "      <td>0.895238</td>\n",
       "      <td>0.858333</td>\n",
       "      <td>0.141667</td>\n",
       "      <td>0.104762</td>\n",
       "      <td>0.846847</td>\n",
       "      <td>0.903509</td>\n",
       "    </tr>\n",
       "    <tr>\n",
       "      <th>1</th>\n",
       "      <td>KNN</td>\n",
       "      <td>0.884444</td>\n",
       "      <td>0.115556</td>\n",
       "      <td>0.843478</td>\n",
       "      <td>0.927273</td>\n",
       "      <td>0.072727</td>\n",
       "      <td>0.156522</td>\n",
       "      <td>0.92381</td>\n",
       "      <td>0.85</td>\n",
       "    </tr>\n",
       "    <tr>\n",
       "      <th>2</th>\n",
       "      <td>Decision Tree</td>\n",
       "      <td>0.838889</td>\n",
       "      <td>0.161111</td>\n",
       "      <td>0.822222</td>\n",
       "      <td>0.855556</td>\n",
       "      <td>0.144444</td>\n",
       "      <td>0.177778</td>\n",
       "      <td>0.850575</td>\n",
       "      <td>0.827957</td>\n",
       "    </tr>\n",
       "    <tr>\n",
       "      <th>3</th>\n",
       "      <td>RandomForest</td>\n",
       "      <td>0.830868</td>\n",
       "      <td>0.169132</td>\n",
       "      <td>0.361194</td>\n",
       "      <td>0.959836</td>\n",
       "      <td>0.040164</td>\n",
       "      <td>0.638806</td>\n",
       "      <td>0.711765</td>\n",
       "      <td>0.845487</td>\n",
       "    </tr>\n",
       "    <tr>\n",
       "      <th>4</th>\n",
       "      <td>AdaBoost</td>\n",
       "      <td>0.778378</td>\n",
       "      <td>0.221622</td>\n",
       "      <td>0.488971</td>\n",
       "      <td>0.855327</td>\n",
       "      <td>0.144673</td>\n",
       "      <td>0.511029</td>\n",
       "      <td>0.47331</td>\n",
       "      <td>0.862919</td>\n",
       "    </tr>\n",
       "    <tr>\n",
       "      <th>5</th>\n",
       "      <td>GradientBoosting</td>\n",
       "      <td>0.820077</td>\n",
       "      <td>0.179923</td>\n",
       "      <td>0.380137</td>\n",
       "      <td>0.948156</td>\n",
       "      <td>0.051844</td>\n",
       "      <td>0.619863</td>\n",
       "      <td>0.680982</td>\n",
       "      <td>0.840106</td>\n",
       "    </tr>\n",
       "    <tr>\n",
       "      <th>6</th>\n",
       "      <td>RandomForest</td>\n",
       "      <td>0.83537</td>\n",
       "      <td>0.16463</td>\n",
       "      <td>0.33121</td>\n",
       "      <td>0.962933</td>\n",
       "      <td>0.037067</td>\n",
       "      <td>0.66879</td>\n",
       "      <td>0.693333</td>\n",
       "      <td>0.850534</td>\n",
       "    </tr>\n",
       "    <tr>\n",
       "      <th>7</th>\n",
       "      <td>AdaBoost</td>\n",
       "      <td>0.76139</td>\n",
       "      <td>0.23861</td>\n",
       "      <td>0.418868</td>\n",
       "      <td>0.849515</td>\n",
       "      <td>0.150485</td>\n",
       "      <td>0.581132</td>\n",
       "      <td>0.417293</td>\n",
       "      <td>0.85034</td>\n",
       "    </tr>\n",
       "    <tr>\n",
       "      <th>8</th>\n",
       "      <td>GradientBoosting</td>\n",
       "      <td>0.848649</td>\n",
       "      <td>0.151351</td>\n",
       "      <td>0.37395</td>\n",
       "      <td>0.955535</td>\n",
       "      <td>0.044465</td>\n",
       "      <td>0.62605</td>\n",
       "      <td>0.654412</td>\n",
       "      <td>0.871441</td>\n",
       "    </tr>\n",
       "    <tr>\n",
       "      <th>9</th>\n",
       "      <td>SVM Linear C=1, gamma=0.1 raisin</td>\n",
       "      <td>0.875556</td>\n",
       "      <td>0.124444</td>\n",
       "      <td>0.911765</td>\n",
       "      <td>0.845528</td>\n",
       "      <td>0.154472</td>\n",
       "      <td>0.088235</td>\n",
       "      <td>0.830357</td>\n",
       "      <td>0.920354</td>\n",
       "    </tr>\n",
       "  </tbody>\n",
       "</table>\n",
       "</div>"
      ],
      "text/plain": [
       "                             Modelo Global Accuracy Global Error  \\\n",
       "0                               KNN        0.875556     0.124444   \n",
       "1                               KNN        0.884444     0.115556   \n",
       "2                     Decision Tree        0.838889     0.161111   \n",
       "3                      RandomForest        0.830868     0.169132   \n",
       "4                          AdaBoost        0.778378     0.221622   \n",
       "5                  GradientBoosting        0.820077     0.179923   \n",
       "6                      RandomForest         0.83537      0.16463   \n",
       "7                          AdaBoost         0.76139      0.23861   \n",
       "8                  GradientBoosting        0.848649     0.151351   \n",
       "9  SVM Linear C=1, gamma=0.1 raisin        0.875556     0.124444   \n",
       "\n",
       "  Positive Precision Negative Precision False Positives False Negatives  \\\n",
       "0           0.895238           0.858333        0.141667        0.104762   \n",
       "1           0.843478           0.927273        0.072727        0.156522   \n",
       "2           0.822222           0.855556        0.144444        0.177778   \n",
       "3           0.361194           0.959836        0.040164        0.638806   \n",
       "4           0.488971           0.855327        0.144673        0.511029   \n",
       "5           0.380137           0.948156        0.051844        0.619863   \n",
       "6            0.33121           0.962933        0.037067         0.66879   \n",
       "7           0.418868           0.849515        0.150485        0.581132   \n",
       "8            0.37395           0.955535        0.044465         0.62605   \n",
       "9           0.911765           0.845528        0.154472        0.088235   \n",
       "\n",
       "  Positive Assertivity Negative Assertivity  \n",
       "0             0.846847             0.903509  \n",
       "1              0.92381                 0.85  \n",
       "2             0.850575             0.827957  \n",
       "3             0.711765             0.845487  \n",
       "4              0.47331             0.862919  \n",
       "5             0.680982             0.840106  \n",
       "6             0.693333             0.850534  \n",
       "7             0.417293              0.85034  \n",
       "8             0.654412             0.871441  \n",
       "9             0.830357             0.920354  "
      ]
     },
     "execution_count": 135,
     "metadata": {},
     "output_type": "execute_result"
    }
   ],
   "source": [
    "df_matrix.to_csv(\"Resultados.csv\")\n",
    "df_matrix.head(10)"
   ]
  },
  {
   "cell_type": "markdown",
   "metadata": {},
   "source": [
    "El mejor sigue siendo el modelo de Gradient Boosting. Sin embargo, en precisión negativa se tienen un 99 deprecisión. Habría que revisar si no se está creando overfitting."
   ]
  },
  {
   "cell_type": "markdown",
   "metadata": {},
   "source": [
    "6. Utilizando el mejor modelo construido prediga los nuevos individuos que se encuentran en el archivo nuevos abandono clientes.csv. Recuerde que si estandariz ́o los datos para entrenar el modelo debe guardar valores como la media y desviaci ́on est ́andar para estandarizar los nuevos individuos"
   ]
  },
  {
   "cell_type": "code",
   "execution_count": 80,
   "metadata": {},
   "outputs": [],
   "source": [
    "#divide the df\n",
    "X = df_clientes_num.iloc[:, :-1]\n",
    "y = df_clientes_num.iloc[:, -1]"
   ]
  },
  {
   "cell_type": "code",
   "execution_count": 81,
   "metadata": {},
   "outputs": [],
   "source": [
    "X_train, X_test, y_train, y_test =  train_test_split(X, y, test_size=0.25, random_state=0)"
   ]
  },
  {
   "cell_type": "code",
   "execution_count": 82,
   "metadata": {},
   "outputs": [],
   "source": [
    "pipe = make_pipeline(StandardScaler(), SVC(kernel='rbf'))"
   ]
  },
  {
   "cell_type": "code",
   "execution_count": 87,
   "metadata": {},
   "outputs": [],
   "source": [
    "#create a dictionary with the hiperparameters to test\n",
    "grid_parameters = [\n",
    "                    #{'svc__gamma': [0.1]},\n",
    "                    {'svc__kernel': ['linear']},\n",
    "                    {'svc__kernel': ['poly'], 'svc__degree': [2, 3,  4, 5]},\n",
    "                    {'svc__kernel': ['sigmoid']}\n",
    "                    ]\n",
    "#create a gridsearch object\n",
    "grid_search = GridSearchCV(pipe, grid_parameters,  cv=5, verbose=0,n_jobs=-1) # fit grid seaarch"
   ]
  },
  {
   "cell_type": "code",
   "execution_count": 88,
   "metadata": {},
   "outputs": [],
   "source": [
    "best_model = grid_search.fit(X_train, y_train) # fit the best model"
   ]
  },
  {
   "cell_type": "code",
   "execution_count": 89,
   "metadata": {},
   "outputs": [
    {
     "name": "stdout",
     "output_type": "stream",
     "text": [
      "Best model:  Pipeline(steps=[('standardscaler', StandardScaler()),\n",
      "                ('svc', SVC(degree=5, kernel='poly'))])\n",
      "Best parameters:  {'svc__degree': 5, 'svc__kernel': 'poly'}\n"
     ]
    }
   ],
   "source": [
    "#show the model settings and the best parameters\n",
    "print(\"Best model: \", best_model.best_estimator_)\n",
    "print(\"Best parameters: \", best_model.best_params_)"
   ]
  },
  {
   "cell_type": "code",
   "execution_count": 95,
   "metadata": {},
   "outputs": [
    {
     "data": {
      "text/html": [
       "<div>\n",
       "<style scoped>\n",
       "    .dataframe tbody tr th:only-of-type {\n",
       "        vertical-align: middle;\n",
       "    }\n",
       "\n",
       "    .dataframe tbody tr th {\n",
       "        vertical-align: top;\n",
       "    }\n",
       "\n",
       "    .dataframe thead th {\n",
       "        text-align: right;\n",
       "    }\n",
       "</style>\n",
       "<table border=\"1\" class=\"dataframe\">\n",
       "  <thead>\n",
       "    <tr style=\"text-align: right;\">\n",
       "      <th></th>\n",
       "      <th>CreditScore</th>\n",
       "      <th>Geography</th>\n",
       "      <th>Gender</th>\n",
       "      <th>Age</th>\n",
       "      <th>Tenure</th>\n",
       "      <th>Balance</th>\n",
       "      <th>NumOfProducts</th>\n",
       "      <th>HasCrCard</th>\n",
       "      <th>IsActiveMember</th>\n",
       "      <th>EstimatedSalary</th>\n",
       "      <th>Exited</th>\n",
       "    </tr>\n",
       "  </thead>\n",
       "  <tbody>\n",
       "    <tr>\n",
       "      <th>5181</th>\n",
       "      <td>587</td>\n",
       "      <td>0</td>\n",
       "      <td>1</td>\n",
       "      <td>39</td>\n",
       "      <td>10</td>\n",
       "      <td>0.00</td>\n",
       "      <td>2</td>\n",
       "      <td>1</td>\n",
       "      <td>1</td>\n",
       "      <td>170409.45</td>\n",
       "      <td>No</td>\n",
       "    </tr>\n",
       "    <tr>\n",
       "      <th>5182</th>\n",
       "      <td>604</td>\n",
       "      <td>2</td>\n",
       "      <td>1</td>\n",
       "      <td>23</td>\n",
       "      <td>9</td>\n",
       "      <td>124577.33</td>\n",
       "      <td>1</td>\n",
       "      <td>1</td>\n",
       "      <td>1</td>\n",
       "      <td>7267.25</td>\n",
       "      <td>No</td>\n",
       "    </tr>\n",
       "    <tr>\n",
       "      <th>5183</th>\n",
       "      <td>583</td>\n",
       "      <td>0</td>\n",
       "      <td>0</td>\n",
       "      <td>44</td>\n",
       "      <td>8</td>\n",
       "      <td>0.00</td>\n",
       "      <td>2</td>\n",
       "      <td>1</td>\n",
       "      <td>1</td>\n",
       "      <td>27431.62</td>\n",
       "      <td>No</td>\n",
       "    </tr>\n",
       "    <tr>\n",
       "      <th>5184</th>\n",
       "      <td>798</td>\n",
       "      <td>0</td>\n",
       "      <td>1</td>\n",
       "      <td>32</td>\n",
       "      <td>7</td>\n",
       "      <td>0.00</td>\n",
       "      <td>2</td>\n",
       "      <td>0</td>\n",
       "      <td>1</td>\n",
       "      <td>37731.95</td>\n",
       "      <td>No</td>\n",
       "    </tr>\n",
       "    <tr>\n",
       "      <th>5185</th>\n",
       "      <td>724</td>\n",
       "      <td>1</td>\n",
       "      <td>1</td>\n",
       "      <td>31</td>\n",
       "      <td>9</td>\n",
       "      <td>138166.30</td>\n",
       "      <td>1</td>\n",
       "      <td>1</td>\n",
       "      <td>0</td>\n",
       "      <td>12920.43</td>\n",
       "      <td>No</td>\n",
       "    </tr>\n",
       "  </tbody>\n",
       "</table>\n",
       "</div>"
      ],
      "text/plain": [
       "      CreditScore  Geography  Gender  Age  Tenure    Balance  NumOfProducts  \\\n",
       "5181          587          0       1   39      10       0.00              2   \n",
       "5182          604          2       1   23       9  124577.33              1   \n",
       "5183          583          0       0   44       8       0.00              2   \n",
       "5184          798          0       1   32       7       0.00              2   \n",
       "5185          724          1       1   31       9  138166.30              1   \n",
       "\n",
       "      HasCrCard  IsActiveMember  EstimatedSalary Exited  \n",
       "5181          1               1        170409.45     No  \n",
       "5182          1               1          7267.25     No  \n",
       "5183          1               1         27431.62     No  \n",
       "5184          0               1         37731.95     No  \n",
       "5185          1               0         12920.43     No  "
      ]
     },
     "execution_count": 95,
     "metadata": {},
     "output_type": "execute_result"
    }
   ],
   "source": [
    "nuevo_df_clientes = pd.read_csv('nuevos_abandono_clientes.csv', index_col=0)\n",
    "nuevo_df_clientes.head()"
   ]
  },
  {
   "cell_type": "code",
   "execution_count": 99,
   "metadata": {},
   "outputs": [],
   "source": [
    "#Remove the cols : Geography, Gender\n",
    "nuevo_df_clientes_F = nuevo_df_clientes[[\"CreditScore\",\"Age\",\"Tenure\",\"Balance\",\"NumOfProducts\",\"EstimatedSalary\",\"Exited\"]]"
   ]
  },
  {
   "cell_type": "code",
   "execution_count": 101,
   "metadata": {},
   "outputs": [],
   "source": [
    "#divide the df\n",
    "X_test = nuevo_df_clientes_F.iloc[:, :-1]\n",
    "y_test = nuevo_df_clientes_F.iloc[:, -1]"
   ]
  },
  {
   "cell_type": "code",
   "execution_count": 103,
   "metadata": {},
   "outputs": [],
   "source": [
    "resultados = best_model.best_estimator_.predict(X_test)"
   ]
  },
  {
   "cell_type": "code",
   "execution_count": 104,
   "metadata": {},
   "outputs": [
    {
     "data": {
      "text/html": [
       "<div>\n",
       "<style scoped>\n",
       "    .dataframe tbody tr th:only-of-type {\n",
       "        vertical-align: middle;\n",
       "    }\n",
       "\n",
       "    .dataframe tbody tr th {\n",
       "        vertical-align: top;\n",
       "    }\n",
       "\n",
       "    .dataframe thead th {\n",
       "        text-align: right;\n",
       "    }\n",
       "</style>\n",
       "<table border=\"1\" class=\"dataframe\">\n",
       "  <thead>\n",
       "    <tr style=\"text-align: right;\">\n",
       "      <th></th>\n",
       "      <th>CreditScore</th>\n",
       "      <th>Age</th>\n",
       "      <th>Tenure</th>\n",
       "      <th>Balance</th>\n",
       "      <th>NumOfProducts</th>\n",
       "      <th>EstimatedSalary</th>\n",
       "      <th>Exited</th>\n",
       "      <th>Prediccion</th>\n",
       "    </tr>\n",
       "  </thead>\n",
       "  <tbody>\n",
       "    <tr>\n",
       "      <th>5181</th>\n",
       "      <td>587</td>\n",
       "      <td>39</td>\n",
       "      <td>10</td>\n",
       "      <td>0.00</td>\n",
       "      <td>2</td>\n",
       "      <td>170409.45</td>\n",
       "      <td>No</td>\n",
       "      <td>No</td>\n",
       "    </tr>\n",
       "    <tr>\n",
       "      <th>5182</th>\n",
       "      <td>604</td>\n",
       "      <td>23</td>\n",
       "      <td>9</td>\n",
       "      <td>124577.33</td>\n",
       "      <td>1</td>\n",
       "      <td>7267.25</td>\n",
       "      <td>No</td>\n",
       "      <td>No</td>\n",
       "    </tr>\n",
       "    <tr>\n",
       "      <th>5183</th>\n",
       "      <td>583</td>\n",
       "      <td>44</td>\n",
       "      <td>8</td>\n",
       "      <td>0.00</td>\n",
       "      <td>2</td>\n",
       "      <td>27431.62</td>\n",
       "      <td>No</td>\n",
       "      <td>No</td>\n",
       "    </tr>\n",
       "    <tr>\n",
       "      <th>5184</th>\n",
       "      <td>798</td>\n",
       "      <td>32</td>\n",
       "      <td>7</td>\n",
       "      <td>0.00</td>\n",
       "      <td>2</td>\n",
       "      <td>37731.95</td>\n",
       "      <td>No</td>\n",
       "      <td>No</td>\n",
       "    </tr>\n",
       "    <tr>\n",
       "      <th>5185</th>\n",
       "      <td>724</td>\n",
       "      <td>31</td>\n",
       "      <td>9</td>\n",
       "      <td>138166.30</td>\n",
       "      <td>1</td>\n",
       "      <td>12920.43</td>\n",
       "      <td>No</td>\n",
       "      <td>No</td>\n",
       "    </tr>\n",
       "    <tr>\n",
       "      <th>5186</th>\n",
       "      <td>584</td>\n",
       "      <td>30</td>\n",
       "      <td>5</td>\n",
       "      <td>0.00</td>\n",
       "      <td>2</td>\n",
       "      <td>185201.58</td>\n",
       "      <td>No</td>\n",
       "      <td>No</td>\n",
       "    </tr>\n",
       "    <tr>\n",
       "      <th>5187</th>\n",
       "      <td>790</td>\n",
       "      <td>31</td>\n",
       "      <td>2</td>\n",
       "      <td>151290.16</td>\n",
       "      <td>1</td>\n",
       "      <td>172437.12</td>\n",
       "      <td>No</td>\n",
       "      <td>No</td>\n",
       "    </tr>\n",
       "    <tr>\n",
       "      <th>5188</th>\n",
       "      <td>603</td>\n",
       "      <td>35</td>\n",
       "      <td>9</td>\n",
       "      <td>145623.36</td>\n",
       "      <td>1</td>\n",
       "      <td>163181.62</td>\n",
       "      <td>No</td>\n",
       "      <td>No</td>\n",
       "    </tr>\n",
       "    <tr>\n",
       "      <th>5189</th>\n",
       "      <td>722</td>\n",
       "      <td>37</td>\n",
       "      <td>2</td>\n",
       "      <td>0.00</td>\n",
       "      <td>1</td>\n",
       "      <td>120906.83</td>\n",
       "      <td>No</td>\n",
       "      <td>No</td>\n",
       "    </tr>\n",
       "    <tr>\n",
       "      <th>5190</th>\n",
       "      <td>585</td>\n",
       "      <td>40</td>\n",
       "      <td>3</td>\n",
       "      <td>162261.01</td>\n",
       "      <td>2</td>\n",
       "      <td>137028.51</td>\n",
       "      <td>No</td>\n",
       "      <td>No</td>\n",
       "    </tr>\n",
       "    <tr>\n",
       "      <th>5191</th>\n",
       "      <td>689</td>\n",
       "      <td>31</td>\n",
       "      <td>3</td>\n",
       "      <td>139799.63</td>\n",
       "      <td>1</td>\n",
       "      <td>120663.57</td>\n",
       "      <td>No</td>\n",
       "      <td>No</td>\n",
       "    </tr>\n",
       "    <tr>\n",
       "      <th>5192</th>\n",
       "      <td>654</td>\n",
       "      <td>36</td>\n",
       "      <td>5</td>\n",
       "      <td>0.00</td>\n",
       "      <td>2</td>\n",
       "      <td>157238.05</td>\n",
       "      <td>No</td>\n",
       "      <td>No</td>\n",
       "    </tr>\n",
       "    <tr>\n",
       "      <th>5193</th>\n",
       "      <td>684</td>\n",
       "      <td>39</td>\n",
       "      <td>4</td>\n",
       "      <td>207034.96</td>\n",
       "      <td>2</td>\n",
       "      <td>157694.76</td>\n",
       "      <td>Si</td>\n",
       "      <td>No</td>\n",
       "    </tr>\n",
       "    <tr>\n",
       "      <th>5194</th>\n",
       "      <td>535</td>\n",
       "      <td>38</td>\n",
       "      <td>8</td>\n",
       "      <td>0.00</td>\n",
       "      <td>2</td>\n",
       "      <td>136620.64</td>\n",
       "      <td>No</td>\n",
       "      <td>No</td>\n",
       "    </tr>\n",
       "    <tr>\n",
       "      <th>5195</th>\n",
       "      <td>728</td>\n",
       "      <td>32</td>\n",
       "      <td>9</td>\n",
       "      <td>127772.10</td>\n",
       "      <td>2</td>\n",
       "      <td>152643.48</td>\n",
       "      <td>No</td>\n",
       "      <td>No</td>\n",
       "    </tr>\n",
       "    <tr>\n",
       "      <th>5196</th>\n",
       "      <td>660</td>\n",
       "      <td>23</td>\n",
       "      <td>6</td>\n",
       "      <td>166070.48</td>\n",
       "      <td>2</td>\n",
       "      <td>90494.72</td>\n",
       "      <td>No</td>\n",
       "      <td>No</td>\n",
       "    </tr>\n",
       "    <tr>\n",
       "      <th>5197</th>\n",
       "      <td>731</td>\n",
       "      <td>43</td>\n",
       "      <td>9</td>\n",
       "      <td>79120.27</td>\n",
       "      <td>1</td>\n",
       "      <td>548.52</td>\n",
       "      <td>Si</td>\n",
       "      <td>No</td>\n",
       "    </tr>\n",
       "    <tr>\n",
       "      <th>5198</th>\n",
       "      <td>733</td>\n",
       "      <td>35</td>\n",
       "      <td>8</td>\n",
       "      <td>102918.38</td>\n",
       "      <td>1</td>\n",
       "      <td>45959.86</td>\n",
       "      <td>No</td>\n",
       "      <td>No</td>\n",
       "    </tr>\n",
       "    <tr>\n",
       "      <th>5199</th>\n",
       "      <td>624</td>\n",
       "      <td>27</td>\n",
       "      <td>9</td>\n",
       "      <td>94667.29</td>\n",
       "      <td>2</td>\n",
       "      <td>4470.52</td>\n",
       "      <td>No</td>\n",
       "      <td>No</td>\n",
       "    </tr>\n",
       "    <tr>\n",
       "      <th>5200</th>\n",
       "      <td>693</td>\n",
       "      <td>40</td>\n",
       "      <td>4</td>\n",
       "      <td>130661.96</td>\n",
       "      <td>1</td>\n",
       "      <td>101918.96</td>\n",
       "      <td>No</td>\n",
       "      <td>No</td>\n",
       "    </tr>\n",
       "    <tr>\n",
       "      <th>5201</th>\n",
       "      <td>746</td>\n",
       "      <td>48</td>\n",
       "      <td>5</td>\n",
       "      <td>165282.42</td>\n",
       "      <td>1</td>\n",
       "      <td>153786.46</td>\n",
       "      <td>Si</td>\n",
       "      <td>No</td>\n",
       "    </tr>\n",
       "    <tr>\n",
       "      <th>5202</th>\n",
       "      <td>683</td>\n",
       "      <td>36</td>\n",
       "      <td>7</td>\n",
       "      <td>0.00</td>\n",
       "      <td>2</td>\n",
       "      <td>104786.59</td>\n",
       "      <td>No</td>\n",
       "      <td>No</td>\n",
       "    </tr>\n",
       "    <tr>\n",
       "      <th>5203</th>\n",
       "      <td>647</td>\n",
       "      <td>43</td>\n",
       "      <td>9</td>\n",
       "      <td>0.00</td>\n",
       "      <td>2</td>\n",
       "      <td>78488.39</td>\n",
       "      <td>No</td>\n",
       "      <td>No</td>\n",
       "    </tr>\n",
       "    <tr>\n",
       "      <th>5204</th>\n",
       "      <td>774</td>\n",
       "      <td>34</td>\n",
       "      <td>4</td>\n",
       "      <td>120875.23</td>\n",
       "      <td>2</td>\n",
       "      <td>113407.26</td>\n",
       "      <td>No</td>\n",
       "      <td>No</td>\n",
       "    </tr>\n",
       "    <tr>\n",
       "      <th>5205</th>\n",
       "      <td>691</td>\n",
       "      <td>33</td>\n",
       "      <td>6</td>\n",
       "      <td>0.00</td>\n",
       "      <td>2</td>\n",
       "      <td>164074.89</td>\n",
       "      <td>No</td>\n",
       "      <td>No</td>\n",
       "    </tr>\n",
       "    <tr>\n",
       "      <th>5206</th>\n",
       "      <td>702</td>\n",
       "      <td>40</td>\n",
       "      <td>3</td>\n",
       "      <td>148556.74</td>\n",
       "      <td>1</td>\n",
       "      <td>146056.29</td>\n",
       "      <td>No</td>\n",
       "      <td>No</td>\n",
       "    </tr>\n",
       "  </tbody>\n",
       "</table>\n",
       "</div>"
      ],
      "text/plain": [
       "      CreditScore  Age  Tenure    Balance  NumOfProducts  EstimatedSalary  \\\n",
       "5181          587   39      10       0.00              2        170409.45   \n",
       "5182          604   23       9  124577.33              1          7267.25   \n",
       "5183          583   44       8       0.00              2         27431.62   \n",
       "5184          798   32       7       0.00              2         37731.95   \n",
       "5185          724   31       9  138166.30              1         12920.43   \n",
       "5186          584   30       5       0.00              2        185201.58   \n",
       "5187          790   31       2  151290.16              1        172437.12   \n",
       "5188          603   35       9  145623.36              1        163181.62   \n",
       "5189          722   37       2       0.00              1        120906.83   \n",
       "5190          585   40       3  162261.01              2        137028.51   \n",
       "5191          689   31       3  139799.63              1        120663.57   \n",
       "5192          654   36       5       0.00              2        157238.05   \n",
       "5193          684   39       4  207034.96              2        157694.76   \n",
       "5194          535   38       8       0.00              2        136620.64   \n",
       "5195          728   32       9  127772.10              2        152643.48   \n",
       "5196          660   23       6  166070.48              2         90494.72   \n",
       "5197          731   43       9   79120.27              1           548.52   \n",
       "5198          733   35       8  102918.38              1         45959.86   \n",
       "5199          624   27       9   94667.29              2          4470.52   \n",
       "5200          693   40       4  130661.96              1        101918.96   \n",
       "5201          746   48       5  165282.42              1        153786.46   \n",
       "5202          683   36       7       0.00              2        104786.59   \n",
       "5203          647   43       9       0.00              2         78488.39   \n",
       "5204          774   34       4  120875.23              2        113407.26   \n",
       "5205          691   33       6       0.00              2        164074.89   \n",
       "5206          702   40       3  148556.74              1        146056.29   \n",
       "\n",
       "     Exited Prediccion  \n",
       "5181     No         No  \n",
       "5182     No         No  \n",
       "5183     No         No  \n",
       "5184     No         No  \n",
       "5185     No         No  \n",
       "5186     No         No  \n",
       "5187     No         No  \n",
       "5188     No         No  \n",
       "5189     No         No  \n",
       "5190     No         No  \n",
       "5191     No         No  \n",
       "5192     No         No  \n",
       "5193     Si         No  \n",
       "5194     No         No  \n",
       "5195     No         No  \n",
       "5196     No         No  \n",
       "5197     Si         No  \n",
       "5198     No         No  \n",
       "5199     No         No  \n",
       "5200     No         No  \n",
       "5201     Si         No  \n",
       "5202     No         No  \n",
       "5203     No         No  \n",
       "5204     No         No  \n",
       "5205     No         No  \n",
       "5206     No         No  "
      ]
     },
     "execution_count": 104,
     "metadata": {},
     "output_type": "execute_result"
    }
   ],
   "source": [
    "#add the resultados to the\n",
    "nuevo_df_clientes_F[\"Prediccion\"] = resultados\n",
    "nuevo_df_clientes_F"
   ]
  },
  {
   "cell_type": "code",
   "execution_count": 105,
   "metadata": {},
   "outputs": [],
   "source": [
    "#import the confution matrix from\n",
    "from sklearn.metrics import confusion_matrix"
   ]
  },
  {
   "cell_type": "code",
   "execution_count": 112,
   "metadata": {},
   "outputs": [
    {
     "data": {
      "text/plain": [
       "<AxesSubplot:>"
      ]
     },
     "execution_count": 112,
     "metadata": {},
     "output_type": "execute_result"
    },
    {
     "data": {
      "image/png": "[encoded data removed]",
      "image/svg+xml": "<?xml version=\"1.0\" encoding=\"utf-8\" standalone=\"no\"?>\r\n<!DOCTYPE svg PUBLIC \"-//W3C//DTD SVG 1.1//EN\"\r\n  \"http://www.w3.org/Graphics/SVG/1.1/DTD/svg11.dtd\">\r\n<svg height=\"248.518125pt\" version=\"1.1\" viewBox=\"0 0 346.255125 248.518125\" width=\"346.255125pt\" xmlns=\"http://www.w3.org/2000/svg\" xmlns:xlink=\"http://www.w3.org/1999/xlink\">\r\n <metadata>\r\n  <rdf:RDF xmlns:cc=\"http://creativecommons.org/ns#\" xmlns:dc=\"http://purl.org/dc/elements/1.1/\" xmlns:rdf=\"http://www.w3.org/1999/02/22-rdf-syntax-ns#\">\r\n   <cc:Work>\r\n    <dc:type rdf:resource=\"http://purl.org/dc/dcmitype/StillImage\"/>\r\n    <dc:date>2022-05-18T20:47:22.384570</dc:date>\r\n    <dc:format>image/svg+xml</dc:format>\r\n    <dc:creator>\r\n     <cc:Agent>\r\n      <dc:title>Matplotlib v3.4.3, https://matplotlib.org/</dc:title>\r\n     </cc:Agent>\r\n    </dc:creator>\r\n   </cc:Work>\r\n  </rdf:RDF>\r\n </metadata>\r\n <defs>\r\n  <style type=\"text/css\">*{stroke-linecap:butt;stroke-linejoin:round;}</style>\r\n </defs>\r\n <g id=\"figure_1\">\r\n  <g id=\"patch_1\">\r\n   <path d=\"M -0 248.518125 \r\nL 346.255125 248.518125 \r\nL 346.255125 0 \r\nL -0 0 \r\nz\r\n\" style=\"fill:none;\"/>\r\n  </g>\r\n  <g id=\"axes_1\">\r\n   <g id=\"patch_2\">\r\n    <path d=\"M 23.878125 224.64 \r\nL 291.718125 224.64 \r\nL 291.718125 7.2 \r\nL 23.878125 7.2 \r\nz\r\n\" style=\"fill:#ffffff;\"/>\r\n   </g>\r\n   <g id=\"QuadMesh_1\">\r\n    <path clip-path=\"url(#pd3ef50441c)\" d=\"M 23.878125 7.2 \r\nL 157.798125 7.2 \r\nL 157.798125 115.92 \r\nL 23.878125 115.92 \r\nL 23.878125 7.2 \r\n\" style=\"fill:#faebdd;\"/>\r\n    <path clip-path=\"url(#pd3ef50441c)\" d=\"M 157.798125 7.2 \r\nL 291.718125 7.2 \r\nL 291.718125 115.92 \r\nL 157.798125 115.92 \r\nL 157.798125 7.2 \r\n\" style=\"fill:#03051a;\"/>\r\n    <path clip-path=\"url(#pd3ef50441c)\" d=\"M 23.878125 115.92 \r\nL 157.798125 115.92 \r\nL 157.798125 224.64 \r\nL 23.878125 224.64 \r\nL 23.878125 115.92 \r\n\" style=\"fill:#31183b;\"/>\r\n    <path clip-path=\"url(#pd3ef50441c)\" d=\"M 157.798125 115.92 \r\nL 291.718125 115.92 \r\nL 291.718125 224.64 \r\nL 157.798125 224.64 \r\nL 157.798125 115.92 \r\n\" style=\"fill:#03051a;\"/>\r\n   </g>\r\n   <g id=\"matplotlib.axis_1\">\r\n    <g id=\"xtick_1\">\r\n     <g id=\"line2d_1\">\r\n      <defs>\r\n       <path d=\"M 0 0 \r\nL 0 3.5 \r\n\" id=\"mc0f278f0bf\" style=\"stroke:#000000;stroke-width:0.8;\"/>\r\n      </defs>\r\n      <g>\r\n       <use style=\"stroke:#000000;stroke-width:0.8;\" x=\"90.838125\" xlink:href=\"#mc0f278f0bf\" y=\"224.64\"/>\r\n      </g>\r\n     </g>\r\n     <g id=\"text_1\">\r\n      <!-- 0 -->\r\n      <g transform=\"translate(87.656875 239.238437)scale(0.1 -0.1)\">\r\n       <defs>\r\n        <path d=\"M 2034 4250 \r\nQ 1547 4250 1301 3770 \r\nQ 1056 3291 1056 2328 \r\nQ 1056 1369 1301 889 \r\nQ 1547 409 2034 409 \r\nQ 2525 409 2770 889 \r\nQ 3016 1369 3016 2328 \r\nQ 3016 3291 2770 3770 \r\nQ 2525 4250 2034 4250 \r\nz\r\nM 2034 4750 \r\nQ 2819 4750 3233 4129 \r\nQ 3647 3509 3647 2328 \r\nQ 3647 1150 3233 529 \r\nQ 2819 -91 2034 -91 \r\nQ 1250 -91 836 529 \r\nQ 422 1150 422 2328 \r\nQ 422 3509 836 4129 \r\nQ 1250 4750 2034 4750 \r\nz\r\n\" id=\"DejaVuSans-30\" transform=\"scale(0.015625)\"/>\r\n       </defs>\r\n       <use xlink:href=\"#DejaVuSans-30\"/>\r\n      </g>\r\n     </g>\r\n    </g>\r\n    <g id=\"xtick_2\">\r\n     <g id=\"line2d_2\">\r\n      <g>\r\n       <use style=\"stroke:#000000;stroke-width:0.8;\" x=\"224.758125\" xlink:href=\"#mc0f278f0bf\" y=\"224.64\"/>\r\n      </g>\r\n     </g>\r\n     <g id=\"text_2\">\r\n      <!-- 1 -->\r\n      <g transform=\"translate(221.576875 239.238437)scale(0.1 -0.1)\">\r\n       <defs>\r\n        <path d=\"M 794 531 \r\nL 1825 531 \r\nL 1825 4091 \r\nL 703 3866 \r\nL 703 4441 \r\nL 1819 4666 \r\nL 2450 4666 \r\nL 2450 531 \r\nL 3481 531 \r\nL 3481 0 \r\nL 794 0 \r\nL 794 531 \r\nz\r\n\" id=\"DejaVuSans-31\" transform=\"scale(0.015625)\"/>\r\n       </defs>\r\n       <use xlink:href=\"#DejaVuSans-31\"/>\r\n      </g>\r\n     </g>\r\n    </g>\r\n   </g>\r\n   <g id=\"matplotlib.axis_2\">\r\n    <g id=\"ytick_1\">\r\n     <g id=\"line2d_3\">\r\n      <defs>\r\n       <path d=\"M 0 0 \r\nL -3.5 0 \r\n\" id=\"m8de568dd48\" style=\"stroke:#000000;stroke-width:0.8;\"/>\r\n      </defs>\r\n      <g>\r\n       <use style=\"stroke:#000000;stroke-width:0.8;\" x=\"23.878125\" xlink:href=\"#m8de568dd48\" y=\"61.56\"/>\r\n      </g>\r\n     </g>\r\n     <g id=\"text_3\">\r\n      <!-- 0 -->\r\n      <g transform=\"translate(14.798438 64.74125)rotate(-90)scale(0.1 -0.1)\">\r\n       <use xlink:href=\"#DejaVuSans-30\"/>\r\n      </g>\r\n     </g>\r\n    </g>\r\n    <g id=\"ytick_2\">\r\n     <g id=\"line2d_4\">\r\n      <g>\r\n       <use style=\"stroke:#000000;stroke-width:0.8;\" x=\"23.878125\" xlink:href=\"#m8de568dd48\" y=\"170.28\"/>\r\n      </g>\r\n     </g>\r\n     <g id=\"text_4\">\r\n      <!-- 1 -->\r\n      <g transform=\"translate(14.798438 173.46125)rotate(-90)scale(0.1 -0.1)\">\r\n       <use xlink:href=\"#DejaVuSans-31\"/>\r\n      </g>\r\n     </g>\r\n    </g>\r\n   </g>\r\n   <g id=\"text_5\">\r\n    <!-- 23 -->\r\n    <g style=\"fill:#262626;\" transform=\"translate(84.475625 64.319375)scale(0.1 -0.1)\">\r\n     <defs>\r\n      <path d=\"M 1228 531 \r\nL 3431 531 \r\nL 3431 0 \r\nL 469 0 \r\nL 469 531 \r\nQ 828 903 1448 1529 \r\nQ 2069 2156 2228 2338 \r\nQ 2531 2678 2651 2914 \r\nQ 2772 3150 2772 3378 \r\nQ 2772 3750 2511 3984 \r\nQ 2250 4219 1831 4219 \r\nQ 1534 4219 1204 4116 \r\nQ 875 4013 500 3803 \r\nL 500 4441 \r\nQ 881 4594 1212 4672 \r\nQ 1544 4750 1819 4750 \r\nQ 2544 4750 2975 4387 \r\nQ 3406 4025 3406 3419 \r\nQ 3406 3131 3298 2873 \r\nQ 3191 2616 2906 2266 \r\nQ 2828 2175 2409 1742 \r\nQ 1991 1309 1228 531 \r\nz\r\n\" id=\"DejaVuSans-32\" transform=\"scale(0.015625)\"/>\r\n      <path d=\"M 2597 2516 \r\nQ 3050 2419 3304 2112 \r\nQ 3559 1806 3559 1356 \r\nQ 3559 666 3084 287 \r\nQ 2609 -91 1734 -91 \r\nQ 1441 -91 1130 -33 \r\nQ 819 25 488 141 \r\nL 488 750 \r\nQ 750 597 1062 519 \r\nQ 1375 441 1716 441 \r\nQ 2309 441 2620 675 \r\nQ 2931 909 2931 1356 \r\nQ 2931 1769 2642 2001 \r\nQ 2353 2234 1838 2234 \r\nL 1294 2234 \r\nL 1294 2753 \r\nL 1863 2753 \r\nQ 2328 2753 2575 2939 \r\nQ 2822 3125 2822 3475 \r\nQ 2822 3834 2567 4026 \r\nQ 2313 4219 1838 4219 \r\nQ 1578 4219 1281 4162 \r\nQ 984 4106 628 3988 \r\nL 628 4550 \r\nQ 988 4650 1302 4700 \r\nQ 1616 4750 1894 4750 \r\nQ 2613 4750 3031 4423 \r\nQ 3450 4097 3450 3541 \r\nQ 3450 3153 3228 2886 \r\nQ 3006 2619 2597 2516 \r\nz\r\n\" id=\"DejaVuSans-33\" transform=\"scale(0.015625)\"/>\r\n     </defs>\r\n     <use xlink:href=\"#DejaVuSans-32\"/>\r\n     <use x=\"63.623047\" xlink:href=\"#DejaVuSans-33\"/>\r\n    </g>\r\n   </g>\r\n   <g id=\"text_6\">\r\n    <!-- 0 -->\r\n    <g style=\"fill:#ffffff;\" transform=\"translate(221.576875 64.319375)scale(0.1 -0.1)\">\r\n     <use xlink:href=\"#DejaVuSans-30\"/>\r\n    </g>\r\n   </g>\r\n   <g id=\"text_7\">\r\n    <!-- 3 -->\r\n    <g style=\"fill:#ffffff;\" transform=\"translate(87.656875 173.039375)scale(0.1 -0.1)\">\r\n     <use xlink:href=\"#DejaVuSans-33\"/>\r\n    </g>\r\n   </g>\r\n   <g id=\"text_8\">\r\n    <!-- 0 -->\r\n    <g style=\"fill:#ffffff;\" transform=\"translate(221.576875 173.039375)scale(0.1 -0.1)\">\r\n     <use xlink:href=\"#DejaVuSans-30\"/>\r\n    </g>\r\n   </g>\r\n  </g>\r\n  <g id=\"axes_2\">\r\n   <g id=\"patch_3\">\r\n    <path d=\"M 308.458125 224.64 \r\nL 319.330125 224.64 \r\nL 319.330125 7.2 \r\nL 308.458125 7.2 \r\nz\r\n\" style=\"fill:#ffffff;\"/>\r\n   </g>\r\n   <g id=\"patch_4\">\r\n    <path clip-path=\"url(#pdf1a5c8ab2)\" d=\"M 308.458125 224.64 \r\nL 308.458125 223.790625 \r\nL 308.458125 8.049375 \r\nL 308.458125 7.2 \r\nL 319.330125 7.2 \r\nL 319.330125 8.049375 \r\nL 319.330125 223.790625 \r\nL 319.330125 224.64 \r\nL 319.330125 224.64 \r\nz\r\n\" style=\"fill:#ffffff;stroke:#ffffff;stroke-linejoin:miter;stroke-width:0.01;\"/>\r\n   </g>\r\n   <image height=\"217\" id=\"image8735cad365\" transform=\"scale(1 -1)translate(0 -217)\" width=\"11\" x=\"308\" xlink:href=\"data:image/png;base64,\r\niVBORw0KGgoAAAANSUhEUgAAAAsAAADZCAYAAAD2WsoCAAABYUlEQVR4nO3aQW4DMQwDQMtyPtH/vzPptUfPgYA2aM4EQVK0duOk+vXzWZefU7fItdbZe9+Da91znyoAbwGTDGLukjRyBonZ0gCDQzQn02gBj6jolPKTjCnjlvIP0UwyrqE67iFpUOt6hoz7lKM5d6x1ZDC4N0TGya1ckZFjfua4iRnAJ1akZHQpGef6u4TLIHDsdE8xKOCY5iPgEhmPTCPYjXtqM2ib/yMyhHlIGiXMVn7SHGQWMEzltDAX7IKzBWxFEubeb5Ah0QXTiMnojqUBJzYY3W6RYZqvscock7Hh2WZDgasCTgOYF3UDVj/KsDRizGYQXrbRYIp5CXPBUwWZzWBMhlxZyOvJWfIb0JToGq7uUXMqjSU3rsZ8JI2YjCnRWRpU0RHHavX96sczaN2IgWkoksYUzcScM5gbd475P40/4OpXiHlKGjMMlvxVIJkGlT/3VkDR5VaBdOPLDf4CdO8rI5K+A88AAAAASUVORK5CYII=\" y=\"-7\"/>\r\n   <g id=\"matplotlib.axis_3\"/>\r\n   <g id=\"matplotlib.axis_4\">\r\n    <g id=\"ytick_3\">\r\n     <g id=\"line2d_5\">\r\n      <defs>\r\n       <path d=\"M 0 0 \r\nL 3.5 0 \r\n\" id=\"m1248d3419a\" style=\"stroke:#000000;stroke-width:0.8;\"/>\r\n      </defs>\r\n      <g>\r\n       <use style=\"stroke:#000000;stroke-width:0.8;\" x=\"319.330125\" xlink:href=\"#m1248d3419a\" y=\"224.64\"/>\r\n      </g>\r\n     </g>\r\n     <g id=\"text_9\">\r\n      <!-- 0 -->\r\n      <g transform=\"translate(326.330125 228.439219)scale(0.1 -0.1)\">\r\n       <use xlink:href=\"#DejaVuSans-30\"/>\r\n      </g>\r\n     </g>\r\n    </g>\r\n    <g id=\"ytick_4\">\r\n     <g id=\"line2d_6\">\r\n      <g>\r\n       <use style=\"stroke:#000000;stroke-width:0.8;\" x=\"319.330125\" xlink:href=\"#m1248d3419a\" y=\"177.370435\"/>\r\n      </g>\r\n     </g>\r\n     <g id=\"text_10\">\r\n      <!-- 5 -->\r\n      <g transform=\"translate(326.330125 181.169654)scale(0.1 -0.1)\">\r\n       <defs>\r\n        <path d=\"M 691 4666 \r\nL 3169 4666 \r\nL 3169 4134 \r\nL 1269 4134 \r\nL 1269 2991 \r\nQ 1406 3038 1543 3061 \r\nQ 1681 3084 1819 3084 \r\nQ 2600 3084 3056 2656 \r\nQ 3513 2228 3513 1497 \r\nQ 3513 744 3044 326 \r\nQ 2575 -91 1722 -91 \r\nQ 1428 -91 1123 -41 \r\nQ 819 9 494 109 \r\nL 494 744 \r\nQ 775 591 1075 516 \r\nQ 1375 441 1709 441 \r\nQ 2250 441 2565 725 \r\nQ 2881 1009 2881 1497 \r\nQ 2881 1984 2565 2268 \r\nQ 2250 2553 1709 2553 \r\nQ 1456 2553 1204 2497 \r\nQ 953 2441 691 2322 \r\nL 691 4666 \r\nz\r\n\" id=\"DejaVuSans-35\" transform=\"scale(0.015625)\"/>\r\n       </defs>\r\n       <use xlink:href=\"#DejaVuSans-35\"/>\r\n      </g>\r\n     </g>\r\n    </g>\r\n    <g id=\"ytick_5\">\r\n     <g id=\"line2d_7\">\r\n      <g>\r\n       <use style=\"stroke:#000000;stroke-width:0.8;\" x=\"319.330125\" xlink:href=\"#m1248d3419a\" y=\"130.10087\"/>\r\n      </g>\r\n     </g>\r\n     <g id=\"text_11\">\r\n      <!-- 10 -->\r\n      <g transform=\"translate(326.330125 133.900088)scale(0.1 -0.1)\">\r\n       <use xlink:href=\"#DejaVuSans-31\"/>\r\n       <use x=\"63.623047\" xlink:href=\"#DejaVuSans-30\"/>\r\n      </g>\r\n     </g>\r\n    </g>\r\n    <g id=\"ytick_6\">\r\n     <g id=\"line2d_8\">\r\n      <g>\r\n       <use style=\"stroke:#000000;stroke-width:0.8;\" x=\"319.330125\" xlink:href=\"#m1248d3419a\" y=\"82.831304\"/>\r\n      </g>\r\n     </g>\r\n     <g id=\"text_12\">\r\n      <!-- 15 -->\r\n      <g transform=\"translate(326.330125 86.630523)scale(0.1 -0.1)\">\r\n       <use xlink:href=\"#DejaVuSans-31\"/>\r\n       <use x=\"63.623047\" xlink:href=\"#DejaVuSans-35\"/>\r\n      </g>\r\n     </g>\r\n    </g>\r\n    <g id=\"ytick_7\">\r\n     <g id=\"line2d_9\">\r\n      <g>\r\n       <use style=\"stroke:#000000;stroke-width:0.8;\" x=\"319.330125\" xlink:href=\"#m1248d3419a\" y=\"35.561739\"/>\r\n      </g>\r\n     </g>\r\n     <g id=\"text_13\">\r\n      <!-- 20 -->\r\n      <g transform=\"translate(326.330125 39.360958)scale(0.1 -0.1)\">\r\n       <use xlink:href=\"#DejaVuSans-32\"/>\r\n       <use x=\"63.623047\" xlink:href=\"#DejaVuSans-30\"/>\r\n      </g>\r\n     </g>\r\n    </g>\r\n   </g>\r\n   <g id=\"LineCollection_1\"/>\r\n   <g id=\"patch_5\">\r\n    <path d=\"M 308.458125 224.64 \r\nL 308.458125 223.790625 \r\nL 308.458125 8.049375 \r\nL 308.458125 7.2 \r\nL 319.330125 7.2 \r\nL 319.330125 8.049375 \r\nL 319.330125 223.790625 \r\nL 319.330125 224.64 \r\nz\r\n\" style=\"fill:none;\"/>\r\n   </g>\r\n  </g>\r\n </g>\r\n <defs>\r\n  <clipPath id=\"pd3ef50441c\">\r\n   <rect height=\"217.44\" width=\"267.84\" x=\"23.878125\" y=\"7.2\"/>\r\n  </clipPath>\r\n  <clipPath id=\"pdf1a5c8ab2\">\r\n   <rect height=\"217.44\" width=\"10.872\" x=\"308.458125\" y=\"7.2\"/>\r\n  </clipPath>\r\n </defs>\r\n</svg>\r\n",
      "text/plain": [
       "<Figure size 432x288 with 2 Axes>"
      ]
     },
     "metadata": {
      "needs_background": "light"
     },
     "output_type": "display_data"
    }
   ],
   "source": [
    "#create the confution matrix \n",
    "confusion_matrix(y_test, resultados)\n",
    "#plot the confusion matrix\n",
    "import seaborn as sns\n",
    "sns.heatmap(confusion_matrix(y_test, resultados), annot=True, fmt='d')\n"
   ]
  },
  {
   "cell_type": "markdown",
   "metadata": {},
   "source": [
    "usar nuestra clase para saber los demás datos"
   ]
  },
  {
   "cell_type": "markdown",
   "metadata": {},
   "source": [
    "{'Matriz de Confusión': array([[1026,    6],\n",
    "        [ 227,   36]], dtype=int64),\n",
    " 'Precisión Global': 0.8200772200772201,\n",
    " 'Error Global': 0.17992277992277994,\n",
    " 'Precisión por categoría':          No        Si\n",
    " 0  0.994186  0.136882}"
   ]
  },
  {
   "cell_type": "code",
   "execution_count": 129,
   "metadata": {},
   "outputs": [],
   "source": [
    "m = confusion_matrix(y_test, resultados)\n",
    "#create a dictionary\n",
    "d = {'Matriz de Confusión': m, 'Precisión Global' : (m[0,0] + m[1,1]) / (m[0,0] + m[1,1] + m[0,1] + m[1,0]),\"Error Global\": 1 - (m[0,0] + m[1,1]) / (m[0,0] + m[1,1] + m[0,1] + m[1,0]), 'Precisión por categoría' : (m[0,0] / (m[0,0] + m[0,1]), m[1,1] / (m[1,1] + m[1,0]))}"
   ]
  },
  {
   "cell_type": "code",
   "execution_count": 132,
   "metadata": {},
   "outputs": [],
   "source": [
    "nuevo_df_clientes_instancia = cmatrixelements(d)"
   ]
  },
  {
   "cell_type": "code",
   "execution_count": 133,
   "metadata": {},
   "outputs": [
    {
     "name": "stdout",
     "output_type": "stream",
     "text": [
      "[[23  0]\n",
      " [ 3  0]]\n",
      "0 Global Accuracy Global Error Positive Precision Negative Precision  \\\n",
      "1        0.884615     0.115385                0.0                1.0   \n",
      "\n",
      "0 False Positives False Negatives Positive Assertivity Negative Assertivity  \n",
      "1             0.0             1.0                  NaN             0.884615  \n"
     ]
    },
    {
     "data": {
      "text/html": [
       "<div>\n",
       "<style scoped>\n",
       "    .dataframe tbody tr th:only-of-type {\n",
       "        vertical-align: middle;\n",
       "    }\n",
       "\n",
       "    .dataframe tbody tr th {\n",
       "        vertical-align: top;\n",
       "    }\n",
       "\n",
       "    .dataframe thead th {\n",
       "        text-align: right;\n",
       "    }\n",
       "</style>\n",
       "<table border=\"1\" class=\"dataframe\">\n",
       "  <thead>\n",
       "    <tr style=\"text-align: right;\">\n",
       "      <th></th>\n",
       "      <th>Global Accuracy</th>\n",
       "      <th>Global Error</th>\n",
       "      <th>Positive Precision</th>\n",
       "      <th>Negative Precision</th>\n",
       "      <th>False Positives</th>\n",
       "      <th>False Negatives</th>\n",
       "      <th>Positive Assertivity</th>\n",
       "      <th>Negative Assertivity</th>\n",
       "    </tr>\n",
       "  </thead>\n",
       "  <tbody>\n",
       "    <tr>\n",
       "      <th>1</th>\n",
       "      <td>0.884615</td>\n",
       "      <td>0.115385</td>\n",
       "      <td>0.0</td>\n",
       "      <td>1.0</td>\n",
       "      <td>0.0</td>\n",
       "      <td>1.0</td>\n",
       "      <td>NaN</td>\n",
       "      <td>0.884615</td>\n",
       "    </tr>\n",
       "  </tbody>\n",
       "</table>\n",
       "</div>"
      ],
      "text/plain": [
       "0 Global Accuracy Global Error Positive Precision Negative Precision  \\\n",
       "1        0.884615     0.115385                0.0                1.0   \n",
       "\n",
       "0 False Positives False Negatives Positive Assertivity Negative Assertivity  \n",
       "1             0.0             1.0                  NaN             0.884615  "
      ]
     },
     "execution_count": 133,
     "metadata": {},
     "output_type": "execute_result"
    }
   ],
   "source": [
    "nuevo_df_clientes_instancia.calculatem()"
   ]
  },
  {
   "cell_type": "markdown",
   "metadata": {},
   "source": [
    "### Ejercicio 3: [25 puntos] Seg ́un el ejemplo de los hiperplanos visto en clase realice lo siguiente:"
   ]
  },
  {
   "cell_type": "markdown",
   "metadata": {},
   "source": [
    "1. Escriba la regla de clasificaci ́on para el clasificador con margen m ́aximo. Debe ser algo\n",
    "como lo siguiente: w = (w1, w2, w3) se clasifica como Rojo si ax + by + cz + d > 0 , de otra\n",
    "manera se clasifica como Azul."
   ]
  },
  {
   "cell_type": "markdown",
   "metadata": {},
   "source": []
  },
  {
   "cell_type": "markdown",
   "metadata": {},
   "source": [
    "2. Indique la medida del margen entre el hiperplano  ́optimo de separaci ́on y los vectores de\n",
    "soporte"
   ]
  },
  {
   "cell_type": "markdown",
   "metadata": {},
   "source": [
    "1"
   ]
  },
  {
   "cell_type": "markdown",
   "metadata": {},
   "source": [
    "3. Explique por qu ́e un ligero movimiento de la octava observaci ́on no afectar ́ıa el hiperplano\n",
    "de margen m ́aximo."
   ]
  },
  {
   "cell_type": "markdown",
   "metadata": {},
   "source": []
  }
 ],
 "metadata": {
  "interpreter": {
   "hash": "eca024455c4833da5ebd8d9f8d721333677c348aa809892c0b0eda440122e3a6"
  },
  "kernelspec": {
   "display_name": "Python 3.9.7 ('base')",
   "language": "python",
   "name": "python3"
  },
  "language_info": {
   "codemirror_mode": {
    "name": "ipython",
    "version": 3
   },
   "file_extension": ".py",
   "mimetype": "text/x-python",
   "name": "python",
   "nbconvert_exporter": "python",
   "pygments_lexer": "ipython3",
   "version": "3.9.7"
  },
  "orig_nbformat": 4
 },
 "nbformat": 4,
 "nbformat_minor": 2
}
